{
 "cells": [
  {
   "cell_type": "markdown",
   "metadata": {
    "colab_type": "text",
    "id": "EQPsFbFbKtH2"
   },
   "source": [
    "<h1> Загрузка и первичный анализ данных"
   ]
  },
  {
   "cell_type": "code",
   "execution_count": 131,
   "metadata": {
    "colab": {
     "base_uri": "https://localhost:8080/",
     "height": 55
    },
    "colab_type": "code",
    "id": "nvIWKG1NJ5bR",
    "outputId": "8529496e-bda3-4936-e421-9656d0db8ed4"
   },
   "outputs": [
    {
     "name": "stdout",
     "output_type": "stream",
     "text": [
      "Drive already mounted at /content/drive; to attempt to forcibly remount, call drive.mount(\"/content/drive\", force_remount=True).\n"
     ]
    }
   ],
   "source": [
    "from google.colab import drive\n",
    "drive.mount('/content/drive')"
   ]
  },
  {
   "cell_type": "code",
   "execution_count": 132,
   "metadata": {
    "colab": {
     "base_uri": "https://localhost:8080/",
     "height": 73
    },
    "colab_type": "code",
    "id": "VCZXuHQxJ7Rz",
    "outputId": "18dd1a4c-8c91-4b16-f6c0-88c959ad4e0d"
   },
   "outputs": [
    {
     "name": "stdout",
     "output_type": "stream",
     "text": [
      "Requirement already satisfied: pyspark in /usr/local/lib/python3.6/dist-packages (3.0.0)\n",
      "Requirement already satisfied: py4j==0.10.9 in /usr/local/lib/python3.6/dist-packages (from pyspark) (0.10.9)\n"
     ]
    }
   ],
   "source": [
    "!pip install pyspark"
   ]
  },
  {
   "cell_type": "code",
   "execution_count": 133,
   "metadata": {
    "colab": {},
    "colab_type": "code",
    "id": "X7L67qVcKyl8"
   },
   "outputs": [],
   "source": [
    "from pyspark.sql import SparkSession"
   ]
  },
  {
   "cell_type": "code",
   "execution_count": 134,
   "metadata": {
    "colab": {},
    "colab_type": "code",
    "id": "M9wPCCMhLFZL"
   },
   "outputs": [],
   "source": [
    "path_1 = \"/content/drive/My Drive/query_1.csv\"\n",
    "path_2 = \"/content/drive/My Drive/query_3.csv\""
   ]
  },
  {
   "cell_type": "code",
   "execution_count": 135,
   "metadata": {
    "colab": {},
    "colab_type": "code",
    "id": "yffAIQnFLLe1"
   },
   "outputs": [],
   "source": [
    "APP_NAME = \"DataFrames\"\n",
    "SPARK_URL = \"local[*]\"\n",
    "\n",
    "spark = SparkSession.builder.appName(APP_NAME) \\\n",
    "        .config('spark.ui.showConsoleProgress', 'false') \\\n",
    "        .getOrCreate()"
   ]
  },
  {
   "cell_type": "code",
   "execution_count": 136,
   "metadata": {
    "colab": {},
    "colab_type": "code",
    "id": "uk9vvhymLTyX"
   },
   "outputs": [],
   "source": [
    "query_1 = spark.read.load(path_1, format='csv', header='true', inferSchema='true')"
   ]
  },
  {
   "cell_type": "code",
   "execution_count": 137,
   "metadata": {
    "colab": {},
    "colab_type": "code",
    "id": "eqUhLn6OLeNn"
   },
   "outputs": [],
   "source": [
    "query_3 = spark.read.load(path_2, format='csv', header='true', inferSchema='true')"
   ]
  },
  {
   "cell_type": "code",
   "execution_count": 138,
   "metadata": {
    "colab": {},
    "colab_type": "code",
    "id": "PRGgdlA4LufO"
   },
   "outputs": [],
   "source": [
    "query_1.registerTempTable('query_1')\n",
    "query_3.registerTempTable('query_3')"
   ]
  },
  {
   "cell_type": "code",
   "execution_count": null,
   "metadata": {},
   "outputs": [],
   "source": [
    "#spark.sql('SELECT * FROM query_1').show()"
   ]
  },
  {
   "cell_type": "code",
   "execution_count": 140,
   "metadata": {
    "colab": {
     "base_uri": "https://localhost:8080/",
     "height": 35
    },
    "colab_type": "code",
    "id": "Lky4xcdRMKkn",
    "outputId": "e87cad67-f414-4d1c-bfcf-aa40e2ceecec"
   },
   "outputs": [
    {
     "data": {
      "text/plain": [
       "DataFrame[model: string, flights_amount: int]"
      ]
     },
     "execution_count": 140,
     "metadata": {
      "tags": []
     },
     "output_type": "execute_result"
    }
   ],
   "source": [
    "query_1"
   ]
  },
  {
   "cell_type": "code",
   "execution_count": null,
   "metadata": {},
   "outputs": [],
   "source": [
    "#daily in september 2018\n",
    "#spark.sql('SELECT * FROM query_3').show()"
   ]
  },
  {
   "cell_type": "code",
   "execution_count": 142,
   "metadata": {
    "colab": {
     "base_uri": "https://localhost:8080/",
     "height": 35
    },
    "colab_type": "code",
    "id": "VjFjvISbNOCt",
    "outputId": "40715aff-9871-45cc-f8c6-d6af21e60006"
   },
   "outputs": [
    {
     "data": {
      "text/plain": [
       "DataFrame[city: string, average_flights: double]"
      ]
     },
     "execution_count": 142,
     "metadata": {
      "tags": []
     },
     "output_type": "execute_result"
    }
   ],
   "source": [
    "query_3"
   ]
  },
  {
   "cell_type": "markdown",
   "metadata": {
    "colab_type": "text",
    "id": "NVn5dhVDNzk1"
   },
   "source": [
    "Загрузили данные ,<br>\n",
    "<br>\n",
    "Изучили таблицы : query_1 можно назвать таблицей с данными о популярности модели самолета , вторую таблицу - query_3, о популярности городов в сентябре 2018 года,где данные - среднее кол-во перелетов в день<br>\n",
    "<br>\n",
    "Проверили данные на корректность: с этим все впорядке , данные о количестве в первой таблицей в целых , а во второй о среднем в день - вещественные"
   ]
  },
  {
   "cell_type": "markdown",
   "metadata": {
    "colab_type": "text",
    "id": "dY9ZsuYNKmPd"
   },
   "source": [
    "<h1> Графики и Анализ"
   ]
  },
  {
   "cell_type": "code",
   "execution_count": 143,
   "metadata": {
    "colab": {},
    "colab_type": "code",
    "id": "UQpmci9mPSQZ"
   },
   "outputs": [],
   "source": [
    "#top 10 cities\n",
    "top_10 = spark.sql('SELECT * FROM query_3 ORDER BY average_flights DESC LIMIT 10;')"
   ]
  },
  {
   "cell_type": "code",
   "execution_count": null,
   "metadata": {},
   "outputs": [],
   "source": [
    "#top_10.show()"
   ]
  },
  {
   "cell_type": "code",
   "execution_count": 145,
   "metadata": {
    "colab": {},
    "colab_type": "code",
    "id": "7ITF-kWgP_90"
   },
   "outputs": [],
   "source": [
    "top_10df = top_10.toPandas()"
   ]
  },
  {
   "cell_type": "code",
   "execution_count": 146,
   "metadata": {
    "colab": {},
    "colab_type": "code",
    "id": "H0vyN4D9QHqQ"
   },
   "outputs": [],
   "source": [
    "import matplotlib.pyplot as plt"
   ]
  },
  {
   "cell_type": "code",
   "execution_count": 147,
   "metadata": {
    "colab": {},
    "colab_type": "code",
    "id": "w-GR4c9mQxNI"
   },
   "outputs": [],
   "source": [
    "import seaborn as sns"
   ]
  },
  {
   "cell_type": "code",
   "execution_count": null,
   "metadata": {},
   "outputs": [],
   "source": [
    "#top_10df"
   ]
  },
  {
   "cell_type": "code",
   "execution_count": 149,
   "metadata": {
    "colab": {
     "base_uri": "https://localhost:8080/",
     "height": 458
    },
    "colab_type": "code",
    "id": "43Ov0in5RMAe",
    "outputId": "8e321135-be95-4782-fc82-f47207a6dbcd"
   },
   "outputs": [
    {
     "data": {
      "image/png": "[encoded data removed]",
      "text/plain": [
       "<Figure size 936x504 with 1 Axes>"
      ]
     },
     "metadata": {
      "needs_background": "light",
      "tags": []
     },
     "output_type": "display_data"
    }
   ],
   "source": [
    "plt.figure(figsize=(13,7))\n",
    "sns.barplot(x='city',y='average_flights', data = top_10df).set_title('Топ 10 городов');"
   ]
  },
  {
   "cell_type": "markdown",
   "metadata": {
    "colab_type": "text",
    "id": "njM-uG1FA7EJ"
   },
   "source": [
    "Видим ,что Москва как и стоило ожидать в топе ,ибо это столица и самый крупынй город, в нем 3 основных аэропорта + 2 доп , также в Москве очень много пересадок на разные странны ,в которые с других городов либо невозможно ,либо редкость улететь<br>\n",
    "<br>\n",
    "Также Питер на втором месте , также один из самых крупнейших городов , второй по численности , а также культурная столица , которая также близка к границе с Европой , а также там много перелетов на другие страны\n",
    "<br>\n",
    "<br>\n",
    "Новосибирск идет третьим крупнейшим городом России  Красноярск ,также как и Екатеренбург и Ростов-на-Дону и т.д. ялвются крупнейшиними городами в России , что и делает их центрами перелетов , прилетов и вылетов"
   ]
  },
  {
   "cell_type": "code",
   "execution_count": 150,
   "metadata": {
    "colab": {},
    "colab_type": "code",
    "id": "ByUV5FSZAkNb"
   },
   "outputs": [],
   "source": [
    "query_3df = query_3.toPandas()"
   ]
  },
  {
   "cell_type": "code",
   "execution_count": 152,
   "metadata": {
    "colab": {},
    "colab_type": "code",
    "id": "29rfeC6TD9p8"
   },
   "outputs": [],
   "source": [
    "query_3df.sort_values(by = 'city',ascending=True, inplace=True)"
   ]
  },
  {
   "cell_type": "code",
   "execution_count": 153,
   "metadata": {
    "colab": {
     "base_uri": "https://localhost:8080/",
     "height": 279
    },
    "colab_type": "code",
    "id": "eEXI8k81EBJs",
    "outputId": "12b476e9-32d3-4724-977d-ebb18c5c5257"
   },
   "outputs": [
    {
     "data": {
      "image/png": "[encoded data removed]",
      "text/plain": [
       "<Figure size 432x288 with 1 Axes>"
      ]
     },
     "metadata": {
      "needs_background": "light",
      "tags": []
     },
     "output_type": "display_data"
    }
   ],
   "source": [
    "query_3df.plot(x='city');"
   ]
  },
  {
   "cell_type": "markdown",
   "metadata": {
    "colab_type": "text",
    "id": "l834zVrRFSnI"
   },
   "source": [
    "Можем наблюдать какие незначительные перелеты в сравнении с Москвой в других городах , небольшие холмы наблюдаем на более крупных городах , также выделяются Питер и Новосибирск из остальных небольших холмиков - чуть более большим холмиком <br><br>\n",
    "Можно сделать вывод ,что Москва также однозначно является столицей вылетов/перелетов/прилетов в России"
   ]
  },
  {
   "cell_type": "code",
   "execution_count": 154,
   "metadata": {
    "colab": {},
    "colab_type": "code",
    "id": "RcP19FxJEomO"
   },
   "outputs": [],
   "source": [
    "query_1df = query_1.toPandas()"
   ]
  },
  {
   "cell_type": "code",
   "execution_count": 156,
   "metadata": {
    "colab": {},
    "colab_type": "code",
    "id": "piv37hyCGRtO"
   },
   "outputs": [],
   "source": [
    "query_1df.sort_values(by = 'flights_amount', ascending=True, inplace=True)"
   ]
  },
  {
   "cell_type": "code",
   "execution_count": 157,
   "metadata": {
    "colab": {
     "base_uri": "https://localhost:8080/",
     "height": 300
    },
    "colab_type": "code",
    "id": "T9LyrKf8Gj7j",
    "outputId": "c10d62a2-049e-461d-e52d-44b9231093cc"
   },
   "outputs": [
    {
     "data": {
      "image/png": "[encoded data removed]",
      "text/plain": [
       "<Figure size 1224x360 with 1 Axes>"
      ]
     },
     "metadata": {
      "needs_background": "light",
      "tags": []
     },
     "output_type": "display_data"
    }
   ],
   "source": [
    "plt.figure(figsize=(17,5))\n",
    "sns.barplot(x='model',y='flights_amount', data = query_1df).set_title('Популярность моделей самолетов');"
   ]
  },
  {
   "cell_type": "markdown",
   "metadata": {
    "colab_type": "text",
    "id": "5AZ7TOTwG3Oh"
   },
   "source": [
    " Вместимость\n",
    " <ul>\n",
    "    <li>Boeing 777-300 вместимость 450 человек</li>\n",
    "    <li>Boeing 767-300 вместимость 336 человек</li>\n",
    "    <li>Airbus A319-100 вместимость 156 человек</li>\n",
    "    <li>Boeing 737-300 вместимость 149 человек</li>\n",
    "    <li>Airbus A321-200 220 человек</li>\n",
    "    <li>Sukhoi SuperJet-100 98 человек</li>\n",
    "    <li>Bombardier CRJ-200 50 человек</li>\n",
    "    <li>Cessna 208 Caravan\tвместимость 14 человек</li>\n",
    "</ul>\n",
    "Исходя из вместимости можно сделать вывод , что самые популярные самолеты ( топ 3 ) те ,которые расчитаны на малую дистанцию и на небольшое количество людей , более крупные самолеты уже не так популярны по сравнению с топ 3 ,но также летают достаточно часто - что и стоило ожидать , так как они расчитаны на более дальние дистанции и на большее количество людей , а это осущствлять часто достаточно сложно исходя из того,что частые рейсы - риск ,что они не будут успевать заполоняться ,а также трудности с их частым обслуживанием"
   ]
  },
  {
   "cell_type": "markdown",
   "metadata": {
    "colab_type": "text",
    "id": "86MTsBk9KXcZ"
   },
   "source": [
    "<h1> Проверка гипотезы"
   ]
  },
  {
   "cell_type": "markdown",
   "metadata": {
    "colab_type": "text",
    "id": "dZlVjtt2Lxtr"
   },
   "source": [
    "Нулевые гипотезы берем так ,чтобы они трактовали нам о том что их средние не различаются ,в то время как альтернативная гипотеза говорит об обратном\n",
    "<br>\n",
    "Пороговое значение alpha = 0.05 , является стандартным порогом для принятия/не принятия гипотезы "
   ]
  },
  {
   "cell_type": "code",
   "execution_count": 158,
   "metadata": {
    "colab": {},
    "colab_type": "code",
    "id": "hS1Q_lCGKX6t"
   },
   "outputs": [],
   "source": [
    "path_3 = \"/content/drive/My Drive/query_last.csv\""
   ]
  },
  {
   "cell_type": "code",
   "execution_count": 159,
   "metadata": {
    "colab": {},
    "colab_type": "code",
    "id": "STIvc-jFOBi-"
   },
   "outputs": [],
   "source": [
    "query_last = spark.read.load(path_3, format='csv', header='true', inferSchema='true')\n",
    "query_last.registerTempTable('query_last')"
   ]
  },
  {
   "cell_type": "code",
   "execution_count": null,
   "metadata": {},
   "outputs": [],
   "source": [
    "#query_last.show()"
   ]
  },
  {
   "cell_type": "code",
   "execution_count": 179,
   "metadata": {
    "colab": {},
    "colab_type": "code",
    "id": "ftxLTWxFPU6Y"
   },
   "outputs": [],
   "source": [
    "non_festivalweek = spark.sql('SELECT ticket_amount,CAST(festival_week AS integer) FROM query_last WHERE festival_week = \"NULL\"')\n",
    "festivalweek = spark.sql('SELECT ticket_amount,CAST(festival_week AS integer) FROM query_last WHERE festival_week != \"NULL\"')"
   ]
  },
  {
   "cell_type": "code",
   "execution_count": null,
   "metadata": {},
   "outputs": [],
   "source": [
    "#non_festivalweek.show()"
   ]
  },
  {
   "cell_type": "code",
   "execution_count": null,
   "metadata": {},
   "outputs": [],
   "source": [
    "#festivalweek.show()"
   ]
  },
  {
   "cell_type": "code",
   "execution_count": 182,
   "metadata": {
    "colab": {},
    "colab_type": "code",
    "id": "H-IzRxjGUBB3"
   },
   "outputs": [],
   "source": [
    "non_festivalweek_df = non_festivalweek.toPandas()\n",
    "festivalweek_df = festivalweek.toPandas()"
   ]
  },
  {
   "cell_type": "markdown",
   "metadata": {
    "colab_type": "text",
    "id": "ekDj32oaUvs9"
   },
   "source": [
    "Для данной гипотезы нулевой будет H<sub>0</sub>: non_festivalweek_df['ticket_amount'] == festivalweek_df['ticket_amount']\n",
    "<br>\n",
    "Альтернативной гипотезой будет H<sub>1</sub>: non_festivalweek_df['ticket_amount'] != festivalweek_df['ticket_amount']\n",
    "<br>"
   ]
  },
  {
   "cell_type": "code",
   "execution_count": 184,
   "metadata": {
    "colab": {},
    "colab_type": "code",
    "id": "4nU54svFUYNe"
   },
   "outputs": [],
   "source": [
    "from scipy import stats as st"
   ]
  },
  {
   "cell_type": "code",
   "execution_count": 185,
   "metadata": {
    "colab": {
     "base_uri": "https://localhost:8080/",
     "height": 53
    },
    "colab_type": "code",
    "id": "43CBqm9fMXus",
    "outputId": "24ff07d9-f78c-4d62-8a31-7c666656f765"
   },
   "outputs": [
    {
     "name": "stdout",
     "output_type": "stream",
     "text": [
      "p-значение: 0.09688869045922928\n",
      "Не получилось отвергнуть нулевую гипотезу\n"
     ]
    }
   ],
   "source": [
    "alpha = 0.05\n",
    "\n",
    "ttest_result_1 = st.ttest_ind(non_festivalweek_df['ticket_amount'],festivalweek_df['ticket_amount'])\n",
    "\n",
    "print('p-значение:',ttest_result_1.pvalue)\n",
    "\n",
    "if (ttest_result_1.pvalue<alpha):\n",
    "    print(\"Отвергаем нулевую гипотезу\")\n",
    "else:\n",
    "    print(\"Не получилось отвергнуть нулевую гипотезу\")"
   ]
  },
  {
   "cell_type": "markdown",
   "metadata": {
    "colab_type": "text",
    "id": "xKiV84zHVHmG"
   },
   "source": [
    "Так как не можем отвергнуть нулевую гипотезу - значит ,что среднее количество билетов одинаковое , но в данном тесте при небольшой выборке сложно сказать о корректности данного теста ,также на глаз анализируя данные - можно сказать ,что отличаются , так как в 30ую неделю заметен спад количества билетов ( возможно связано с тем ,что в конце 29ой недели все прилетели на выходных на фестиваль в силу необычности данного фестиваля,либо какие-то другие внешние факторы ,которые повлияли на спад следующей недели),но можно однозначно сказать о том ,что в недели фестиваля не увеличивается количество билетов ,что на самом деле странно"
   ]
  }
 ],
 "metadata": {
  "colab": {
   "name": "sparkQuery.ipynb",
   "provenance": []
  },
  "kernelspec": {
   "display_name": "Python 3",
   "language": "python",
   "name": "python3"
  },
  "language_info": {
   "codemirror_mode": {
    "name": "ipython",
    "version": 3
   },
   "file_extension": ".py",
   "mimetype": "text/x-python",
   "name": "python",
   "nbconvert_exporter": "python",
   "pygments_lexer": "ipython3",
   "version": "3.7.7"
  }
 },
 "nbformat": 4,
 "nbformat_minor": 1
}
