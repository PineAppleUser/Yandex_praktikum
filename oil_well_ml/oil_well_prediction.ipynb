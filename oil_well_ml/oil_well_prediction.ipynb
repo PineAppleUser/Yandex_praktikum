{
 "cells": [
  {
   "cell_type": "markdown",
   "metadata": {},
   "source": [
    "# 1. Загрузка и подготовка данных"
   ]
  },
  {
   "cell_type": "code",
   "execution_count": 1,
   "metadata": {},
   "outputs": [],
   "source": [
    "#importing libraries\n",
    "\n",
    "import pandas as pd\n",
    "\n",
    "from sklearn.model_selection import train_test_split"
   ]
  },
  {
   "cell_type": "code",
   "execution_count": 2,
   "metadata": {},
   "outputs": [
    {
     "name": "stdout",
     "output_type": "stream",
     "text": [
      "<class 'pandas.core.frame.DataFrame'>\n",
      "RangeIndex: 100000 entries, 0 to 99999\n",
      "Data columns (total 5 columns):\n",
      "id         100000 non-null object\n",
      "f0         100000 non-null float64\n",
      "f1         100000 non-null float64\n",
      "f2         100000 non-null float64\n",
      "product    100000 non-null float64\n",
      "dtypes: float64(4), object(1)\n",
      "memory usage: 3.8+ MB\n",
      "None\n"
     ]
    }
   ],
   "source": [
    "df1 = pd.read_csv('/datasets/geo_data_0.csv')\n",
    "print(df1.info())"
   ]
  },
  {
   "cell_type": "code",
   "execution_count": 3,
   "metadata": {},
   "outputs": [
    {
     "name": "stdout",
     "output_type": "stream",
     "text": [
      "<class 'pandas.core.frame.DataFrame'>\n",
      "RangeIndex: 100000 entries, 0 to 99999\n",
      "Data columns (total 5 columns):\n",
      "id         100000 non-null object\n",
      "f0         100000 non-null float64\n",
      "f1         100000 non-null float64\n",
      "f2         100000 non-null float64\n",
      "product    100000 non-null float64\n",
      "dtypes: float64(4), object(1)\n",
      "memory usage: 3.8+ MB\n",
      "None\n"
     ]
    }
   ],
   "source": [
    "df2 = pd.read_csv('/datasets/geo_data_1.csv')\n",
    "print(df2.info())"
   ]
  },
  {
   "cell_type": "code",
   "execution_count": 4,
   "metadata": {},
   "outputs": [
    {
     "name": "stdout",
     "output_type": "stream",
     "text": [
      "<class 'pandas.core.frame.DataFrame'>\n",
      "RangeIndex: 100000 entries, 0 to 99999\n",
      "Data columns (total 5 columns):\n",
      "id         100000 non-null object\n",
      "f0         100000 non-null float64\n",
      "f1         100000 non-null float64\n",
      "f2         100000 non-null float64\n",
      "product    100000 non-null float64\n",
      "dtypes: float64(4), object(1)\n",
      "memory usage: 3.8+ MB\n",
      "None\n"
     ]
    }
   ],
   "source": [
    "df3 = pd.read_csv('/datasets/geo_data_2.csv')\n",
    "print(df3.info())"
   ]
  },
  {
   "cell_type": "markdown",
   "metadata": {},
   "source": [
    "Загрузили данные по 3ем регионам. Во всех 3ех регионах данные без пропусков , видно сразу ненужный столбец для обучения модели - 'id'. Все данные в нужном для нас типе"
   ]
  },
  {
   "cell_type": "markdown",
   "metadata": {},
   "source": [
    "# 2. Обучение и проверка модели"
   ]
  },
  {
   "cell_type": "code",
   "execution_count": 5,
   "metadata": {},
   "outputs": [],
   "source": [
    "def split(df):\n",
    "    train_df, valid_df = train_test_split(df, test_size = 0.25)\n",
    "    target_train = train_df['product']\n",
    "    features_train = train_df.drop(['id','product'], axis = 1)\n",
    "    target_valid = valid_df['product']\n",
    "    features_valid = valid_df.drop(['id','product'], axis = 1)\n",
    "    return target_train, features_train, target_valid, features_valid"
   ]
  },
  {
   "cell_type": "code",
   "execution_count": 6,
   "metadata": {},
   "outputs": [],
   "source": [
    "target_train1, features_train1, target_valid1, features_valid1 = split(df1)\n",
    "target_train2, features_train2, target_valid2, features_valid2 = split(df2)\n",
    "target_train3, features_train3, target_valid3, features_valid3 = split(df3)"
   ]
  },
  {
   "cell_type": "code",
   "execution_count": 7,
   "metadata": {},
   "outputs": [],
   "source": [
    "from sklearn.linear_model import LinearRegression\n",
    "#metrics\n",
    "from sklearn.metrics import mean_squared_error"
   ]
  },
  {
   "cell_type": "code",
   "execution_count": 8,
   "metadata": {},
   "outputs": [],
   "source": [
    "def prediction(target_train, features_train,target_valid,features_valid):\n",
    "    model = LinearRegression()\n",
    "    model.fit(features_train,target_train)\n",
    "    prediction = pd.Series(model.predict(features_valid))\n",
    "    rmse = mean_squared_error(target_valid,prediction)**0.5\n",
    "    return prediction, rmse"
   ]
  },
  {
   "cell_type": "code",
   "execution_count": 9,
   "metadata": {},
   "outputs": [],
   "source": [
    "prediction1, rmse1 = prediction(target_train1, features_train1, target_valid1, features_valid1)\n",
    "prediction2, rmse2 = prediction(target_train2, features_train2, target_valid2, features_valid2)\n",
    "prediction3, rmse3 = prediction(target_train3, features_train3, target_valid3, features_valid3)"
   ]
  },
  {
   "cell_type": "code",
   "execution_count": 10,
   "metadata": {},
   "outputs": [
    {
     "name": "stdout",
     "output_type": "stream",
     "text": [
      "Средний запас сырья в 1ом регионе: 92.5456564650271 RMSE: 37.915891976305886\n",
      "Средний запас сырья в 2ом регионе: 69.06331020107707 RMSE: 0.8922686411368428\n",
      "Средний запас сырья в 3ем регионе: 94.93395567371175 RMSE: 40.00960614117899\n"
     ]
    }
   ],
   "source": [
    "print('Средний запас сырья в 1ом регионе:', prediction1.mean(),'RMSE:',rmse1)\n",
    "print('Средний запас сырья в 2ом регионе:', prediction2.mean(),'RMSE:',rmse2)\n",
    "print('Средний запас сырья в 3ем регионе:', prediction3.mean(),'RMSE:',rmse3)"
   ]
  },
  {
   "cell_type": "markdown",
   "metadata": {},
   "source": [
    "После обучения модели под каждый регион и предсказав целевую метрику получили ,что модель работает надежней всего во втором регионе , с наименьшей RMSE. Среднее значение запасов сырья однако там оказались наименьшие , в отличие от 1 и 3 регионов. Исходя из работы данной модели , можно однозначно составить представление о 2ом регионе ,хотя запасы там наименьшие."
   ]
  },
  {
   "cell_type": "markdown",
   "metadata": {},
   "source": [
    "# 3. Подготовка к расчёту прибыли"
   ]
  },
  {
   "cell_type": "code",
   "execution_count": 11,
   "metadata": {},
   "outputs": [],
   "source": [
    "profit = 450000\n",
    "budget = 10000000000\n",
    "minimum = budget / 200 / profit"
   ]
  },
  {
   "cell_type": "code",
   "execution_count": 12,
   "metadata": {},
   "outputs": [
    {
     "name": "stdout",
     "output_type": "stream",
     "text": [
      "1 регион 92.50000000000001\n",
      "2 регион 68.82500000000002\n",
      "3 регион 95.00000000000004\n"
     ]
    }
   ],
   "source": [
    "print('1 регион',df1['product'].mean())\n",
    "print('2 регион', df2['product'].mean())\n",
    "print('3 регион', df3['product'].mean())"
   ]
  },
  {
   "cell_type": "code",
   "execution_count": 13,
   "metadata": {},
   "outputs": [
    {
     "data": {
      "text/plain": [
       "111.11111111111111"
      ]
     },
     "execution_count": 13,
     "metadata": {},
     "output_type": "execute_result"
    }
   ],
   "source": [
    "minimum"
   ]
  },
  {
   "cell_type": "markdown",
   "metadata": {},
   "source": [
    "После подсчета минимума для безубыточной работы скважины получили ,что данное значение очень даже превосходит средние запасы сырья в каждом регионе и повышает шанс уйти в убыточную работу скважины"
   ]
  },
  {
   "cell_type": "markdown",
   "metadata": {},
   "source": [
    "# 4. Расчёт прибыли и рисков "
   ]
  },
  {
   "cell_type": "code",
   "execution_count": 14,
   "metadata": {},
   "outputs": [],
   "source": [
    "import numpy as np\n",
    "from scipy import stats as st"
   ]
  },
  {
   "cell_type": "code",
   "execution_count": 15,
   "metadata": {},
   "outputs": [],
   "source": [
    "state = np.random.RandomState(12345)"
   ]
  },
  {
   "cell_type": "code",
   "execution_count": 16,
   "metadata": {},
   "outputs": [],
   "source": [
    "#function to calculate revenue\n",
    "def revenue(target, prediction, count):\n",
    "    pred_sorted = prediction.sort_values(ascending=False)\n",
    "    selected = target[pred_sorted.index][:count]\n",
    "    return profit * selected.sum()"
   ]
  },
  {
   "cell_type": "code",
   "execution_count": 17,
   "metadata": {},
   "outputs": [],
   "source": [
    "def revenue_risk(target, prediction):\n",
    "    state = np.random.RandomState(12345)\n",
    "    target = target.reset_index(drop=True)\n",
    "    prediction = prediction.reset_index(drop=True)\n",
    "    profits = []\n",
    "    damages = []\n",
    "    for i in range(1000):\n",
    "        target_subsample = target.sample(n = 500, replace = True, random_state = state)\n",
    "        pred_subsample = prediction[target_subsample.index]\n",
    "        rev = revenue(target_subsample, pred_subsample, 200)\n",
    "        profits.append(rev - budget)\n",
    "        damages.append((rev-budget)<0)\n",
    "    \n",
    "    profits = pd.Series(profits)\n",
    "    damages = pd.Series(damages)\n",
    "    \n",
    "    print('Средняя прибыль',profits.mean())\n",
    "    confidence_interval = (profits.quantile(0.025), profits.quantile(0.975)) \n",
    "    print('Доверительный интевал', confidence_interval)\n",
    "    print('Риски',damages.mean()*100,'%')\n",
    "    print('Убытки', damages.mean())"
   ]
  },
  {
   "cell_type": "code",
   "execution_count": 18,
   "metadata": {},
   "outputs": [
    {
     "name": "stdout",
     "output_type": "stream",
     "text": [
      "Средняя прибыль 444530632.5883531\n",
      "Доверительный интевал (-87621890.60332264, 956352634.5722739)\n",
      "Риски 5.4 %\n",
      "Убытки 0.054\n"
     ]
    }
   ],
   "source": [
    "revenue_risk(target_valid1, prediction1)"
   ]
  },
  {
   "cell_type": "code",
   "execution_count": 19,
   "metadata": {},
   "outputs": [
    {
     "name": "stdout",
     "output_type": "stream",
     "text": [
      "Средняя прибыль 539931097.3635128\n",
      "Доверительный интевал (123795678.04169388, 973268129.3422137)\n",
      "Риски 0.5 %\n",
      "Убытки 0.005\n"
     ]
    }
   ],
   "source": [
    "revenue_risk(target_valid2, prediction2)"
   ]
  },
  {
   "cell_type": "code",
   "execution_count": 20,
   "metadata": {},
   "outputs": [
    {
     "name": "stdout",
     "output_type": "stream",
     "text": [
      "Средняя прибыль 420942343.2359965\n",
      "Доверительный интевал (-127501892.95933342, 958674764.1044736)\n",
      "Риски 6.2 %\n",
      "Убытки 0.062\n"
     ]
    }
   ],
   "source": [
    "revenue_risk(target_valid3, prediction3)"
   ]
  },
  {
   "cell_type": "markdown",
   "metadata": {},
   "source": [
    "Для каждого региона посчитали прибыль и убытки , доверительный интервал в 95% , а также и риски. В итоге по всем показателям можно определить лучшим регионом - второй регион. Средняя прибыль у него напорядок высше остальных 2ух , также убытки и риски минимальные относительно двух других ,что делает данный регион самым выгодным и самым благоприятными для вложений в скважины именно там. "
   ]
  }
 ],
 "metadata": {
  "kernelspec": {
   "display_name": "Python 3",
   "language": "python",
   "name": "python3"
  },
  "language_info": {
   "codemirror_mode": {
    "name": "ipython",
    "version": 3
   },
   "file_extension": ".py",
   "mimetype": "text/x-python",
   "name": "python",
   "nbconvert_exporter": "python",
   "pygments_lexer": "ipython3",
   "version": "3.7.6"
  }
 },
 "nbformat": 4,
 "nbformat_minor": 2
}
