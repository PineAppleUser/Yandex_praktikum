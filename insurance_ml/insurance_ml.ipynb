{
 "cells": [
  {
   "cell_type": "markdown",
   "metadata": {},
   "source": [
    "## 1. Загрузка данных"
   ]
  },
  {
   "cell_type": "code",
   "execution_count": 29,
   "metadata": {},
   "outputs": [],
   "source": [
    "#importing libraries\n",
    "\n",
    "import pandas as pd\n",
    "import numpy as np\n",
    "\n",
    "from sklearn.model_selection import train_test_split\n",
    "from sklearn.linear_model import LinearRegression\n",
    "from sklearn.metrics import r2_score\n",
    "from sklearn.metrics import mean_squared_error"
   ]
  },
  {
   "cell_type": "code",
   "execution_count": 30,
   "metadata": {},
   "outputs": [],
   "source": [
    "df = pd.read_csv('/Users/DanilBee/Desktop/Yandex_projects/mlInsurance/insurance.csv')"
   ]
  },
  {
   "cell_type": "code",
   "execution_count": 32,
   "metadata": {},
   "outputs": [
    {
     "name": "stdout",
     "output_type": "stream",
     "text": [
      "<class 'pandas.core.frame.DataFrame'>\n",
      "RangeIndex: 5000 entries, 0 to 4999\n",
      "Data columns (total 5 columns):\n",
      " #   Column             Non-Null Count  Dtype  \n",
      "---  ------             --------------  -----  \n",
      " 0   Пол                5000 non-null   int64  \n",
      " 1   Возраст            5000 non-null   float64\n",
      " 2   Зарплата           5000 non-null   float64\n",
      " 3   Члены семьи        5000 non-null   int64  \n",
      " 4   Страховые выплаты  5000 non-null   int64  \n",
      "dtypes: float64(2), int64(3)\n",
      "memory usage: 195.4 KB\n"
     ]
    }
   ],
   "source": [
    "df.info()"
   ]
  },
  {
   "cell_type": "markdown",
   "metadata": {},
   "source": [
    "Данные загружены , и проблем с ними пока не обнаружено"
   ]
  },
  {
   "cell_type": "markdown",
   "metadata": {},
   "source": [
    "## 2. Умножение матриц"
   ]
  },
  {
   "cell_type": "code",
   "execution_count": 33,
   "metadata": {},
   "outputs": [],
   "source": [
    "#splitting into training and testing data\n",
    "df_train, df_test = train_test_split(df, test_size = 0.4, random_state = 42)\n",
    "target_test = df_test['Страховые выплаты']\n",
    "target_train = df_train['Страховые выплаты']\n",
    "features_test = df_test.drop('Страховые выплаты', axis = 1)\n",
    "features_train = df_train.drop('Страховые выплаты', axis = 1)"
   ]
  },
  {
   "cell_type": "code",
   "execution_count": 34,
   "metadata": {},
   "outputs": [],
   "source": [
    "#making the features from df to matrixes\n",
    "vector_test = features_test.values\n",
    "vector_train = features_train.values"
   ]
  },
  {
   "cell_type": "code",
   "execution_count": 35,
   "metadata": {},
   "outputs": [
    {
     "data": {
      "text/plain": [
       "array([[1.00e+00, 2.80e+01, 5.61e+04, 0.00e+00],\n",
       "       [1.00e+00, 3.20e+01, 4.19e+04, 2.00e+00],\n",
       "       [1.00e+00, 3.00e+01, 2.63e+04, 0.00e+00],\n",
       "       ...,\n",
       "       [1.00e+00, 5.50e+01, 3.31e+04, 1.00e+00],\n",
       "       [0.00e+00, 1.90e+01, 4.23e+04, 1.00e+00],\n",
       "       [1.00e+00, 5.90e+01, 5.17e+04, 2.00e+00]])"
      ]
     },
     "execution_count": 35,
     "metadata": {},
     "output_type": "execute_result"
    }
   ],
   "source": [
    "vector_test"
   ]
  },
  {
   "cell_type": "code",
   "execution_count": 49,
   "metadata": {},
   "outputs": [],
   "source": [
    "#generating random squared matrix with the width the same as in matrixes\n",
    "rand_matrix = np.random.rand(4,4)\n",
    "#checking the matrix for bein invertible\n",
    "ver_matrix = np.linalg.inv(rand_matrix)"
   ]
  },
  {
   "cell_type": "code",
   "execution_count": 54,
   "metadata": {},
   "outputs": [
    {
     "data": {
      "text/plain": [
       "2000"
      ]
     },
     "execution_count": 54,
     "metadata": {},
     "output_type": "execute_result"
    }
   ],
   "source": [
    "featuresv_test.shape[0]"
   ]
  },
  {
   "cell_type": "code",
   "execution_count": 37,
   "metadata": {},
   "outputs": [],
   "source": [
    "#scalar multiplication\n",
    "featuresv_test = vector_test @ ver_matrix\n",
    "featuresv_train = vector_train @ ver_matrix"
   ]
  },
  {
   "cell_type": "code",
   "execution_count": 38,
   "metadata": {},
   "outputs": [
    {
     "data": {
      "text/plain": [
       "0.42680182088269225"
      ]
     },
     "execution_count": 38,
     "metadata": {},
     "output_type": "execute_result"
    }
   ],
   "source": [
    "#training on just regular data\n",
    "model = LinearRegression()\n",
    "model.fit(features_train, target_train)\n",
    "prediction = model.predict(features_test)\n",
    "r2_score(target_test, prediction)"
   ]
  },
  {
   "cell_type": "code",
   "execution_count": 39,
   "metadata": {},
   "outputs": [
    {
     "data": {
      "text/plain": [
       "0.4268018208829526"
      ]
     },
     "execution_count": 39,
     "metadata": {},
     "output_type": "execute_result"
    }
   ],
   "source": [
    "#training on crypted data\n",
    "modelv = LinearRegression()\n",
    "modelv.fit(featuresv_train, target_train)\n",
    "predictionv = modelv.predict(featuresv_test)\n",
    "r2_score(target_test, predictionv)"
   ]
  },
  {
   "cell_type": "markdown",
   "metadata": {},
   "source": [
    "**Ответ:** Умножили признаки на квадратную,обратимую матрицу и качество линейной регрессии не изменилось\n",
    "\n",
    "**Обоснование:** \n",
    "Докажем,что :\n",
    "$$ a = Xw = X'w' =a'      (1)$$\n",
    "\n",
    "Также дано ,что:\n",
    "$$ w = (X^T X)^{-1} X^T y      (2)$$\n",
    "\n",
    "Пусть $M$ обратимая, квадратная матрица ,размер которой равен ширине Х\n",
    "<br>\n",
    "Тогда:\n",
    "$$ X' = XM (3)$$\n",
    "<br>\n",
    "$$ w' = argminMSE(XMw,y) (4)$$\n",
    "<br>\n",
    "<br>\n",
    "Решение:\n",
    "<br>\n",
    "В формулу (2) вставим (3) и получим :\n",
    "$$ w' = ((XM)^T XM)^{-1} (XM)^T y $$\n",
    "<br>\n",
    "По свойствам обратных матриц , раскрываем скобки:\n",
    "$$ w' = M^{-1}((XM)^T X)^{-1}(XM)^T y $$\n",
    "<br>\n",
    "Далее также приминяем свойство транспонированных матриц, раскрываем скобки:\n",
    "$$ w' = M^{-1}(M^T X^T X)^{-1} M^T X^T y $$\n",
    "<br>\n",
    "Далее по свойству обратных матриц также вытаскиваем из скобки $(M^T..)^{-1}$:\n",
    "$$ w' = M^{-1}(X^T X)^{-1}(M^T)^{-1} M^T X^T y $$\n",
    "<br>\n",
    "Далее можем сократить выражение $(M^{T})^{-1} M^T$:\n",
    "$$ w' = M^{-1}(X^T X)^{-1} X^T y $$\n",
    "<br>\n",
    "Заметили ,что данная часть выражения $ (X^T X)^{-1} X^T y $ равняется $ w $:\n",
    "$$ w' = M^{-1}w (5)$$\n",
    "<br>\n",
    "Теперь подставим это в формулу для нахождения $ a' = X'w'$ и получим:\n",
    "$$ a' = X'M^{-1}w $$\n",
    "Также подставим из (3) и получим:\n",
    "$$ a' = XMM^{-1}w $$\n",
    "$ MM^{-1} $ сокращается\n",
    "В итоге имеем:\n",
    "$$ a' = Xw $$\n",
    "А значит:\n",
    "$$ a' = a $$\n",
    "<br>\n",
    "Таким образом доказали ,что при умножении матрицы $X$ на обратимую,квадратную матрицу $M$ качество линейной регрессии не изменится"
   ]
  },
  {
   "cell_type": "markdown",
   "metadata": {},
   "source": [
    "## 3. Алгоритм преобразования"
   ]
  },
  {
   "cell_type": "code",
   "execution_count": 58,
   "metadata": {},
   "outputs": [],
   "source": [
    "class encryptedModel:\n",
    "    def fit(self, train_features, train_target):\n",
    "        self.R = np.linalg.inv(np.random.rand(4,4))\n",
    "        self.M = train_features @ self.R\n",
    "        X = np.concatenate((np.ones((self.M.shape[0], 1)), self.M), axis=1)\n",
    "        y = train_target\n",
    "        w = ((np.linalg.inv(X.T.dot(X))) @ X.T) @ y\n",
    "        self.w = w[1:]\n",
    "        self.w0 = w[0]\n",
    "    def predict(self, test_features):\n",
    "        return (test_features @ self.R) @ self.w + self.w0"
   ]
  },
  {
   "cell_type": "code",
   "execution_count": 60,
   "metadata": {},
   "outputs": [
    {
     "name": "stdout",
     "output_type": "stream",
     "text": [
      "R2 score 0.42680182416579604\n"
     ]
    }
   ],
   "source": [
    "model = encryptedModel()\n",
    "model.fit(features_train, target_train)\n",
    "predictions = model.predict(features_test)\n",
    "print('R2 score', r2_score(target_test, predictions))"
   ]
  },
  {
   "cell_type": "markdown",
   "metadata": {},
   "source": [
    "**Обоснование**\n",
    "\n",
    "Так как в пункте 2 мы доказали ,что при умножении на обратимую,квадратную матрицу качество линейной регрессии не ухудшится ,то запрограммировали модель линейной регрессии так ,чтобы она создавала рандомную матрицу , ее инвертировало для проверки на ошибку. Далее также с помощью формул высчитывает весы и предсказание с поправкой ,что данные зашифрованы "
   ]
  },
  {
   "cell_type": "markdown",
   "metadata": {},
   "source": [
    "## 4. Проверка алгоритма"
   ]
  },
  {
   "cell_type": "code",
   "execution_count": 61,
   "metadata": {},
   "outputs": [
    {
     "name": "stdout",
     "output_type": "stream",
     "text": [
      "R2 score on Sklearn model: 0.42680182088269225\n",
      "R2 score on Custom model with encryption: 0.4268018710115804\n"
     ]
    }
   ],
   "source": [
    "modelSklearn = LinearRegression()\n",
    "modelCustom = encryptedModel()\n",
    "modelSklearn.fit(features_train, target_train)\n",
    "modelCustom.fit(features_train, target_train)\n",
    "predictionSklearn = modelSklearn.predict(features_test)\n",
    "predictionCustom = modelCustom.predict(features_test)\n",
    "print('R2 score on Sklearn model:', r2_score(target_test, predictionSklearn))\n",
    "print('R2 score on Custom model with encryption:', r2_score(target_test, predictionCustom))"
   ]
  },
  {
   "cell_type": "markdown",
   "metadata": {},
   "source": [
    "Модели показали одинаковые результаты как с проебразованием , так и без преобразования"
   ]
  }
 ],
 "metadata": {
  "kernelspec": {
   "display_name": "Python 3",
   "language": "python",
   "name": "python3"
  },
  "language_info": {
   "codemirror_mode": {
    "name": "ipython",
    "version": 3
   },
   "file_extension": ".py",
   "mimetype": "text/x-python",
   "name": "python",
   "nbconvert_exporter": "python",
   "pygments_lexer": "ipython3",
   "version": "3.7.7"
  }
 },
 "nbformat": 4,
 "nbformat_minor": 2
}
