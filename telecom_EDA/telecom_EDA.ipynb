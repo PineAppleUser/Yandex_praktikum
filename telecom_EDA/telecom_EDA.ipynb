{
 "cells": [
  {
   "cell_type": "markdown",
   "metadata": {},
   "source": [
    "<h1>Шаг 1: Выгрузка</h1>"
   ]
  },
  {
   "cell_type": "code",
   "execution_count": 16,
   "metadata": {},
   "outputs": [],
   "source": [
    "#import all necessary libraries\n",
    "import pandas as pd\n",
    "from scipy import stats as st\n",
    "import numpy as np\n",
    "import seaborn as sns"
   ]
  },
  {
   "cell_type": "code",
   "execution_count": 17,
   "metadata": {},
   "outputs": [
    {
     "name": "stdout",
     "output_type": "stream",
     "text": [
      "<class 'pandas.core.frame.DataFrame'>\n",
      "RangeIndex: 202607 entries, 0 to 202606\n",
      "Data columns (total 4 columns):\n",
      " #   Column     Non-Null Count   Dtype  \n",
      "---  ------     --------------   -----  \n",
      " 0   id         202607 non-null  object \n",
      " 1   call_date  202607 non-null  object \n",
      " 2   duration   202607 non-null  float64\n",
      " 3   user_id    202607 non-null  int64  \n",
      "dtypes: float64(1), int64(1), object(2)\n",
      "memory usage: 6.2+ MB\n",
      "None\n"
     ]
    }
   ],
   "source": [
    "calls_data = pd.read_csv('/Users/DanilBee/Downloads/Не удалять/Проекты/Для выкладывания/(1)Статистический анализ данных(телеком)/calls.csv')\n",
    "print(calls_data.info())"
   ]
  },
  {
   "cell_type": "code",
   "execution_count": 18,
   "metadata": {},
   "outputs": [
    {
     "name": "stdout",
     "output_type": "stream",
     "text": [
      "<class 'pandas.core.frame.DataFrame'>\n",
      "RangeIndex: 149396 entries, 0 to 149395\n",
      "Data columns (total 5 columns):\n",
      " #   Column        Non-Null Count   Dtype  \n",
      "---  ------        --------------   -----  \n",
      " 0   Unnamed: 0    149396 non-null  int64  \n",
      " 1   id            149396 non-null  object \n",
      " 2   mb_used       149396 non-null  float64\n",
      " 3   session_date  149396 non-null  object \n",
      " 4   user_id       149396 non-null  int64  \n",
      "dtypes: float64(1), int64(2), object(2)\n",
      "memory usage: 5.7+ MB\n",
      "None\n"
     ]
    }
   ],
   "source": [
    "internet_data = pd.read_csv('/Users/DanilBee/Downloads//Не удалять/Проекты/Для выкладывания/(1)Статистический анализ данных(телеком)/internet.csv')\n",
    "print(internet_data.info())"
   ]
  },
  {
   "cell_type": "code",
   "execution_count": 19,
   "metadata": {},
   "outputs": [
    {
     "name": "stdout",
     "output_type": "stream",
     "text": [
      "<class 'pandas.core.frame.DataFrame'>\n",
      "RangeIndex: 123036 entries, 0 to 123035\n",
      "Data columns (total 3 columns):\n",
      " #   Column        Non-Null Count   Dtype \n",
      "---  ------        --------------   ----- \n",
      " 0   id            123036 non-null  object\n",
      " 1   message_date  123036 non-null  object\n",
      " 2   user_id       123036 non-null  int64 \n",
      "dtypes: int64(1), object(2)\n",
      "memory usage: 2.8+ MB\n",
      "None\n"
     ]
    }
   ],
   "source": [
    "messages_data = pd.read_csv('/Users/DanilBee/Downloads/Не удалять/Проекты/Для выкладывания/(1)Статистический анализ данных(телеком)/messages.csv')\n",
    "print(messages_data.info())"
   ]
  },
  {
   "cell_type": "code",
   "execution_count": 20,
   "metadata": {},
   "outputs": [
    {
     "name": "stdout",
     "output_type": "stream",
     "text": [
      "<class 'pandas.core.frame.DataFrame'>\n",
      "RangeIndex: 2 entries, 0 to 1\n",
      "Data columns (total 8 columns):\n",
      " #   Column                 Non-Null Count  Dtype \n",
      "---  ------                 --------------  ----- \n",
      " 0   messages_included      2 non-null      int64 \n",
      " 1   mb_per_month_included  2 non-null      int64 \n",
      " 2   minutes_included       2 non-null      int64 \n",
      " 3   rub_monthly_fee        2 non-null      int64 \n",
      " 4   rub_per_gb             2 non-null      int64 \n",
      " 5   rub_per_message        2 non-null      int64 \n",
      " 6   rub_per_minute         2 non-null      int64 \n",
      " 7   tariff_name            2 non-null      object\n",
      "dtypes: int64(7), object(1)\n",
      "memory usage: 256.0+ bytes\n",
      "None\n"
     ]
    }
   ],
   "source": [
    "tariff_data = pd.read_csv('/Users/DanilBee/Downloads/Не удалять/Проекты/Для выкладывания/(1)Статистический анализ данных(телеком)/tariffs.csv')\n",
    "print(tariff_data.info())"
   ]
  },
  {
   "cell_type": "code",
   "execution_count": 21,
   "metadata": {},
   "outputs": [
    {
     "name": "stdout",
     "output_type": "stream",
     "text": [
      "<class 'pandas.core.frame.DataFrame'>\n",
      "RangeIndex: 500 entries, 0 to 499\n",
      "Data columns (total 8 columns):\n",
      " #   Column      Non-Null Count  Dtype \n",
      "---  ------      --------------  ----- \n",
      " 0   user_id     500 non-null    int64 \n",
      " 1   age         500 non-null    int64 \n",
      " 2   churn_date  38 non-null     object\n",
      " 3   city        500 non-null    object\n",
      " 4   first_name  500 non-null    object\n",
      " 5   last_name   500 non-null    object\n",
      " 6   reg_date    500 non-null    object\n",
      " 7   tariff      500 non-null    object\n",
      "dtypes: int64(2), object(6)\n",
      "memory usage: 31.4+ KB\n",
      "None\n"
     ]
    }
   ],
   "source": [
    "user_data = pd.read_csv('/Users/DanilBee/Downloads/Не удалять/Проекты/Для выкладывания/(1)Статистический анализ данных(телеком)/users.csv')\n",
    "print(user_data.info())"
   ]
  },
  {
   "cell_type": "markdown",
   "metadata": {},
   "source": [
    "<h2>Вывод</h2>\n",
    "    <br>\n",
    "<ul>\n",
    "    <li>Проблема 1 с таблицей calls: в <i>duration</i> нужно обработать 0 значения, и привести значение в целочисленный ,с округлением в большую сторону(т.к. по условию 1 секунда разговора = целой минуте)</li>\n",
    "    <li>Проблема 2 с таблицей calls:  в формате данных нужно столбец id нужно обработать , то есть посмотреть как он меняется , и если меняется значение только после _ ,то можно удалить столбец, и поменять формат времени call_date на datetime</li>\n",
    "    <li>Проблемы таблицей internet: столбец <i>unnamed0</i> сразу кажется не нужным , так как в данных был за index и поверх него наложился автоматический индекс, и также id нужно обработать также как и в calls. То есть 3 столбца отвечающие за индекс, скорей всего, 2 из них не нужны. Также исправить формат времени session_date на datetime</li>\n",
    "    <li>Проблемы с таблицей messages: такая же ситуация со столбцом id и форматом времени message_date,который нужно поменять на datetime</li>\n",
    "    <li>Проблемы с таблицей users: разобраться/обработать столбец churn_date(из условия <i>если значение пропущено, то тариф ещё действовал на момент выгрузки данных</i>). Также сделать user_id index'ом этой таблицы</li>"
   ]
  },
  {
   "cell_type": "markdown",
   "metadata": {},
   "source": [
    "<h1>Шаг 2: Предобработка"
   ]
  },
  {
   "cell_type": "code",
   "execution_count": 22,
   "metadata": {},
   "outputs": [
    {
     "name": "stdout",
     "output_type": "stream",
     "text": [
      "<class 'pandas.core.frame.DataFrame'>\n",
      "Index: 202607 entries, 1000_0 to 1499_219\n",
      "Data columns (total 3 columns):\n",
      " #   Column     Non-Null Count   Dtype         \n",
      "---  ------     --------------   -----         \n",
      " 0   call_date  202607 non-null  datetime64[ns]\n",
      " 1   duration   202607 non-null  int64         \n",
      " 2   user_id    202607 non-null  int64         \n",
      "dtypes: datetime64[ns](1), int64(2)\n",
      "memory usage: 6.2+ MB\n",
      "None\n"
     ]
    }
   ],
   "source": [
    "#Calls data\n",
    "\n",
    "#correction of duration\n",
    "calls_data.loc[calls_data['duration'] == 0,'duration'] = 1\n",
    "calls_data['duration'] = np.ceil(calls_data['duration'])\n",
    "calls_data['duration'] = calls_data['duration'].astype('int')\n",
    "\n",
    "#correction of call_date\n",
    "calls_data['call_date'] = pd.to_datetime(calls_data['call_date'],format= '%Y-%m-%d' )\n",
    "\n",
    "#making correct id\n",
    "calls_data.set_index('id', inplace = True)\n",
    "\n",
    "print(calls_data.info())"
   ]
  },
  {
   "cell_type": "code",
   "execution_count": 23,
   "metadata": {},
   "outputs": [
    {
     "name": "stdout",
     "output_type": "stream",
     "text": [
      "<class 'pandas.core.frame.DataFrame'>\n",
      "Index: 149396 entries, 1000_0 to 1499_156\n",
      "Data columns (total 3 columns):\n",
      " #   Column        Non-Null Count   Dtype         \n",
      "---  ------        --------------   -----         \n",
      " 0   mb_used       149396 non-null  int64         \n",
      " 1   session_date  149396 non-null  datetime64[ns]\n",
      " 2   user_id       149396 non-null  int64         \n",
      "dtypes: datetime64[ns](1), int64(2)\n",
      "memory usage: 4.6+ MB\n",
      "None\n"
     ]
    }
   ],
   "source": [
    "#internet_data\n",
    "\n",
    "#dropping unnecessary column\n",
    "internet_data.drop(columns=['Unnamed: 0'],inplace = True)\n",
    "\n",
    "#correction of the session_date\n",
    "internet_data['session_date'] = pd.to_datetime(internet_data['session_date'],format = '%Y-%m-%d')\n",
    "\n",
    "#correction of mb_used\n",
    "internet_data['mb_used'] = np.ceil(internet_data['mb_used'])\n",
    "internet_data['mb_used'] = internet_data['mb_used'].astype('int')\n",
    "\n",
    "#making correct id\n",
    "internet_data.set_index('id', inplace = True)\n",
    "\n",
    "print(internet_data.info())"
   ]
  },
  {
   "cell_type": "code",
   "execution_count": 24,
   "metadata": {},
   "outputs": [
    {
     "name": "stdout",
     "output_type": "stream",
     "text": [
      "<class 'pandas.core.frame.DataFrame'>\n",
      "Index: 123036 entries, 1000_0 to 1499_183\n",
      "Data columns (total 2 columns):\n",
      " #   Column        Non-Null Count   Dtype         \n",
      "---  ------        --------------   -----         \n",
      " 0   message_date  123036 non-null  datetime64[ns]\n",
      " 1   user_id       123036 non-null  int64         \n",
      "dtypes: datetime64[ns](1), int64(1)\n",
      "memory usage: 2.8+ MB\n",
      "None\n"
     ]
    }
   ],
   "source": [
    "#messages_data\n",
    "\n",
    "#correction of message_date\n",
    "messages_data['message_date'] = pd.to_datetime(messages_data['message_date'], format = '%Y-%m-%d')\n",
    "\n",
    "#making correct id\n",
    "messages_data.set_index('id', inplace = True)\n",
    "\n",
    "print(messages_data.info())"
   ]
  },
  {
   "cell_type": "code",
   "execution_count": 25,
   "metadata": {},
   "outputs": [
    {
     "name": "stdout",
     "output_type": "stream",
     "text": [
      "<class 'pandas.core.frame.DataFrame'>\n",
      "Int64Index: 500 entries, 1000 to 1499\n",
      "Data columns (total 7 columns):\n",
      " #   Column      Non-Null Count  Dtype         \n",
      "---  ------      --------------  -----         \n",
      " 0   age         500 non-null    int64         \n",
      " 1   churn_date  500 non-null    datetime64[ns]\n",
      " 2   city        500 non-null    object        \n",
      " 3   first_name  500 non-null    object        \n",
      " 4   last_name   500 non-null    object        \n",
      " 5   reg_date    500 non-null    datetime64[ns]\n",
      " 6   tariff      500 non-null    object        \n",
      "dtypes: datetime64[ns](2), int64(1), object(4)\n",
      "memory usage: 31.2+ KB\n",
      "None\n"
     ]
    }
   ],
   "source": [
    "#user_data\n",
    "\n",
    "#correction of churn_date\n",
    "#filled all of the missing dates with today's date and making it to the string with necessary format using string to get rid of time\n",
    "user_data['churn_date'].fillna(value = pd.to_datetime('today').strftime('%Y-%m-%d'),inplace=True)\n",
    "user_data['churn_date'] = pd.to_datetime(user_data['churn_date'], format = '%Y-%m-%d')\n",
    "\n",
    "#correcion of reg_date\n",
    "user_data['reg_date'] = pd.to_datetime(user_data['reg_date'], format = '%Y-%m-%d')\n",
    "\n",
    "#making correct index\n",
    "user_data.set_index('user_id', inplace = True)\n",
    "\n",
    "print(user_data.info())"
   ]
  },
  {
   "cell_type": "markdown",
   "metadata": {},
   "source": [
    "<h3> Предобработка данных </h3>\n",
    "<ul>\n",
    "    <li>Перевели из string в datetime все значения времени, плюс в столбец churn_date добавили значение времени сегодня, так как тариф еще действует</li>\n",
    "    <li>Округлили данные с продолжительностью разговора и мегабайтов в верхнюю сторону и перевели в формат integer, так как снимают за целые минуты и мегабайты за разговор/сессию</li>\n",
    "    <li>Также избавились от автоматически сделанных индексов , ведь уникальные индексы , каждой таблицы уже были ,но были записаны как столбец с данными. И в одной из таблицы удалили лишний столбец Unnamed:0, так как он дублировал автоматически созданные индексы</li>"
   ]
  },
  {
   "cell_type": "code",
   "execution_count": 26,
   "metadata": {},
   "outputs": [],
   "source": [
    "#calls per month calculating\n",
    "\n",
    "#seperating month data into new column\n",
    "calls_data['month'] = calls_data['call_date'].dt.month\n",
    "internet_data['month'] = internet_data['session_date'].dt.month\n",
    "\n",
    "#calculating quantity of calls per month and their sum of durations by grouping them together by 2 indexes and making one of the indexes back to the column to acces it later on\n",
    "calls_sum = calls_data.groupby(['user_id', 'month'])['duration'].sum()\n",
    "calls_sum = calls_sum.reset_index(level = 'month')\n",
    "calls_sum.columns = ['month','sum_calls']\n",
    "calls_count = calls_data.groupby(['user_id', 'month'])['duration'].count()\n",
    "calls_count = calls_count.reset_index(level = 'month')\n",
    "calls_count.columns = ['month','count_calls']\n",
    "#merging them together into 1 table to merge with the major one\n",
    "calls_count = calls_sum.merge(calls_count, on=['user_id','month'])"
   ]
  },
  {
   "cell_type": "code",
   "execution_count": 27,
   "metadata": {},
   "outputs": [],
   "source": [
    "#messages per month calculating\n",
    "\n",
    "#seperating month data into new column\n",
    "messages_data['month'] = messages_data['message_date'].dt.month\n",
    "\n",
    "#amount of messages sent by the month\n",
    "messages_count = messages_data.groupby(['user_id','month'])['message_date'].count()\n",
    "messages_count = messages_count.reset_index(level = 'month')\n",
    "messages_count.columns = ['month','count_messages']"
   ]
  },
  {
   "cell_type": "code",
   "execution_count": 28,
   "metadata": {},
   "outputs": [],
   "source": [
    "#megabytes used per month calculating\n",
    "\n",
    "#seperating month data into new column\n",
    "internet_data['month'] = internet_data['session_date'].dt.month\n",
    "\n",
    "#amount of mb were used per month\n",
    "mb_sum = internet_data.groupby(['user_id','month'])['mb_used'].sum()\n",
    "mb_sum = mb_sum.reset_index(level = 'month')\n",
    "mb_sum.columns = ['month','mb_sum']\n",
    "\n",
    "tariff_data.rename(columns={'tariff_name':'tariff'}, inplace=True)"
   ]
  },
  {
   "cell_type": "code",
   "execution_count": 29,
   "metadata": {},
   "outputs": [],
   "source": [
    "#getting all the monthly info into 1 table \n",
    "\n",
    "useful_data = mb_sum.merge(calls_count, on=['user_id','month'])\n",
    "useful_data = useful_data.merge(messages_count ,on=['user_id','month'])\n",
    "\n",
    "users_all_info = user_data.merge(useful_data, on='user_id')"
   ]
  },
  {
   "cell_type": "markdown",
   "metadata": {},
   "source": [
    "<h3>Первые подсчеты</h3>\n",
    "<br>\n",
    "<p> Сначала была идея подсчитать все месячные данные и создать свои DF для каждого случая , то есть таблицу с инфой пользователя и туда merge данные о звонках , и делать отдельные такие таблицы отдельно для каждого случая (<i>закомментировал строки с данной логикой</i>),но мне кажется ,что выборка должна быть репрезантивной(<i>надеюсь ,что все-таки верное решение , а не обратное ему и наоборот не нарушил репрезантативность</i>) , поэтому сделал максимальную выборку , объеденив все данные по пользователям и месяцем в одну , тем самым отбросили около 500 строк с данными ,но получили полноценную таблицу со всеми данными. Теперь можно сделать полноценные расчеты по выручке и работать с данной таблицей как с финальной выборкой"
   ]
  },
  {
   "cell_type": "code",
   "execution_count": 30,
   "metadata": {},
   "outputs": [],
   "source": [
    "#calculating revenue\n",
    "\n",
    "users_all_info = users_all_info.merge(tariff_data, on = 'tariff')"
   ]
  },
  {
   "cell_type": "code",
   "execution_count": 31,
   "metadata": {},
   "outputs": [],
   "source": [
    "#function to calculate revenue \n",
    "def revenue(row):\n",
    "    fee = row['rub_monthly_fee']\n",
    "    #first part\n",
    "    count_messages = row['count_messages']\n",
    "    messages_included = row['messages_included']\n",
    "    rub_per_message = row['rub_per_message']\n",
    "    #second part\n",
    "    sum_calls = row['sum_calls']\n",
    "    minutes_included = row['minutes_included']\n",
    "    rub_per_minute = row['rub_per_minute']\n",
    "    #third part\n",
    "    mb_sum = row['mb_sum']\n",
    "    mb_per_month_included = row['mb_per_month_included']\n",
    "    rub_per_gb = row['rub_per_gb']\n",
    "    #calculating\n",
    "    revenue = fee + max((count_messages - messages_included)*rub_per_message,0) + max((sum_calls - minutes_included) * rub_per_minute,0) + max(np.ceil((mb_sum - mb_per_month_included)/1024) * rub_per_gb,0)\n",
    "    return revenue\n",
    "\n",
    "users_all_info['revenue'] = users_all_info.apply(revenue, axis=1)"
   ]
  },
  {
   "cell_type": "markdown",
   "metadata": {},
   "source": [
    "<h3>Вывод</h3>\n",
    "<br>\n",
    "<p>Сделали с помощью группровок и метода merge таблицу со всей информацией, включили туда все данные по месяцам для каждого пользователя. Также с помощью merge внесли в таблицу для каждого пользователя данные и о тарифе , для вычисления выручки с клиента по месяцам. Использовали функцию max ,чтобы в случае если в разнице получалось отрицательное значение ,то в результате был 0 , а не какое-то отрицательное число. Также у нас даны данные в мегабайтах за месяц и включенных в тариф , но оплата сверх тарифного плана идет в гигабайтах , и в случае даже ,если пользователь превысил тарифный план на 1мб ,то снимется за весь гигабай , поэтому разницу делим на 1024 и округляем в верхнюю сторону , чтобы получить сколько гигабай он использовал сверх тарифного плана"
   ]
  },
  {
   "cell_type": "markdown",
   "metadata": {},
   "source": [
    "<h1> Шаг 3: Исследовательский анализ данных</h1>"
   ]
  },
  {
   "cell_type": "code",
   "execution_count": 32,
   "metadata": {},
   "outputs": [
    {
     "data": {
      "image/png": "[encoded data removed]",
      "text/plain": [
       "<Figure size 216x432 with 2 Axes>"
      ]
     },
     "metadata": {
      "needs_background": "light"
     },
     "output_type": "display_data"
    }
   ],
   "source": [
    "g = sns.FacetGrid(users_all_info, row ='tariff')\n",
    "g_distplot = g.map(sns.distplot,'count_messages',bins =100)"
   ]
  },
  {
   "cell_type": "markdown",
   "metadata": {},
   "source": [
    "Строим гистограммы для  сравнения распределения по тарифам ,где находится большее количество сообщений, и посмотреть как  примерно выглядит распределение, и в чем отличие "
   ]
  },
  {
   "cell_type": "code",
   "execution_count": 33,
   "metadata": {},
   "outputs": [
    {
     "name": "stderr",
     "output_type": "stream",
     "text": [
      "/Users/DanilBee/opt/anaconda3/lib/python3.7/site-packages/seaborn/axisgrid.py:728: UserWarning: Using the violinplot function without specifying `order` is likely to produce an incorrect plot.\n",
      "  warnings.warn(warning)\n"
     ]
    },
    {
     "data": {
      "image/png": "[encoded data removed]",
      "text/plain": [
       "<Figure size 216x432 with 2 Axes>"
      ]
     },
     "metadata": {
      "needs_background": "light"
     },
     "output_type": "display_data"
    }
   ],
   "source": [
    "g = sns.FacetGrid(users_all_info, row ='tariff')\n",
    "g_violin = g.map(sns.violinplot,'count_messages',inner = 'quartile')"
   ]
  },
  {
   "cell_type": "markdown",
   "metadata": {},
   "source": [
    "С помощью виолончели (viloinplot) смотрим границы ,где находится основные данные , смотрим концетранцию значений и где находятся квартили.  В отличие от boxplot , данные показывают и свое распределение , то есть форма показывает KDE из графика distplot, тем самым на данных графиках еще больше информации в одном"
   ]
  },
  {
   "cell_type": "code",
   "execution_count": 34,
   "metadata": {},
   "outputs": [
    {
     "name": "stdout",
     "output_type": "stream",
     "text": [
      "Информация по количеству сообщений в месяц , по тарифам:\n",
      "\n",
      "Среднее тарифа ультра: 61.640957446808514\n",
      "Среднее тарифа смарт: 38.76710182767624\n",
      "\n",
      "Дисперсия тарифа ультра: 2008.5500113324103\n",
      "Дисперсия тарифа смарт: 718.8036193391536\n",
      "\n",
      "Стандартное отклонение тарифа ультра: 44.81684963640807\n",
      "Стандартное отклонение тарифа смарт: 26.81051322409091\n"
     ]
    }
   ],
   "source": [
    "print('Информация по количеству сообщений в месяц , по тарифам:\\n')\n",
    "\n",
    "mean_msg_ultra = users_all_info[users_all_info['tariff'] == 'ultra']['count_messages'].mean()\n",
    "mean_msg_smart =users_all_info[users_all_info['tariff'] == 'smart']['count_messages'].mean()\n",
    "print('Среднее тарифа ультра:', mean_msg_ultra)\n",
    "print('Среднее тарифа смарт:', mean_msg_smart)\n",
    "print()\n",
    "\n",
    "disp_msg_ultra = np.var(users_all_info[users_all_info['tariff'] == 'ultra']['count_messages'],ddof = 1)\n",
    "disp_msg_smart = np.var(users_all_info[users_all_info['tariff'] == 'smart']['count_messages'],ddof = 1)\n",
    "print('Дисперсия тарифа ультра:', disp_msg_ultra)\n",
    "print('Дисперсия тарифа смарт:', disp_msg_smart)\n",
    "print()\n",
    "\n",
    "std_msg_ultra = np.sqrt(disp_msg_ultra)\n",
    "std_msg_smart = np.sqrt(disp_msg_smart)\n",
    "print('Стандартное отклонение тарифа ультра:', std_msg_ultra)\n",
    "print('Стандартное отклонение тарифа смарт:', std_msg_smart)"
   ]
  },
  {
   "cell_type": "code",
   "execution_count": 35,
   "metadata": {},
   "outputs": [
    {
     "name": "stdout",
     "output_type": "stream",
     "text": [
      "Информация о сообщениях в тарифе УЛЬТРА\n",
      " count    752.000000\n",
      "mean      61.640957\n",
      "std       44.816850\n",
      "min        1.000000\n",
      "25%       25.000000\n",
      "50%       53.000000\n",
      "75%       89.000000\n",
      "max      224.000000\n",
      "Name: count_messages, dtype: float64\n",
      "Информация о сообщениях в тарифе СМАРТ\n",
      " count    1915.000000\n",
      "mean       38.767102\n",
      "std        26.810513\n",
      "min         1.000000\n",
      "25%        17.000000\n",
      "50%        34.000000\n",
      "75%        55.000000\n",
      "max       143.000000\n",
      "Name: count_messages, dtype: float64\n"
     ]
    }
   ],
   "source": [
    "print('Информация о сообщениях в тарифе УЛЬТРА\\n',users_all_info[users_all_info['tariff'] == 'ultra']['count_messages'].describe())\n",
    "print('Информация о сообщениях в тарифе СМАРТ\\n',users_all_info[users_all_info['tariff'] == 'smart']['count_messages'].describe())"
   ]
  },
  {
   "cell_type": "markdown",
   "metadata": {},
   "source": [
    "По графикам гистограм и распределения(виолончель,вместо boxplot ,ибо более подробный график) видно , что  у тарифа Ультра и Смарт графики заметно отличаются:\n",
    "<ul>\n",
    "    <li>Ультра более широкий , в то время как Смарт более высокий</li>\n",
    "    <li>Оба смещены влево</li>\n",
    "    <li>3 квартиль в тарифе смарт лежит на 55 сообщейний в месяц , что слегка привышает тарифный план</li>\n",
    "    <li>3 квартиль в тарифе ультра лежит на 89 сообщений в месяц , что даже близко не подходит к тарифному плану , даже если брать максимальное значение выборки - 224 ,то все еще далеко до предела в тарифном плане</li>\n",
    "    <li>Значения по статистике подтверждают , что разброс намного больше у тарифа ультра , так как там возможности намного больше , чем в смарт </li>\n",
    "    </ul>\n",
    "    <br>\n",
    "Таким образом можно сделать вывод ,что оптимальным количеством сообщений для пользователей тарифа ультра можно установить в 61 <i>(среднее значение)</i> + 44 <i>(стандартное отклонение)</i> * 3 = 61 + 132 = 193 , то есть оптимальным будет установить тариф в 200 сообщений. \n",
    "<br>\n",
    "Также посчитаем оптимальное количество сообщений нужное для пользователей смарт: 38 <i>(среднее значение)</i> + 26 <i>(стандартное отклонение)</i> * 3 = 38 + 78 = 116 сообщений является оптимальным для пользователей смарт ,то есть можно округлить либо до 110 , либо до 120 ,чтобы покрыть нужды всех пользователей\n",
    "<strong> \n",
    "    <ul>\n",
    "        <li>200 для УЛЬТРА требуется сообщений в месяц</li>\n",
    "        <li>120 для СМАРТ требуется сообщений в месяц</li>\n",
    "    </ul>\n",
    "        </strong>\n",
    "                    Тем самым для тарифа ультра можно уменьшить тарифный план , а для смарт увеличить "
   ]
  },
  {
   "cell_type": "code",
   "execution_count": 36,
   "metadata": {},
   "outputs": [
    {
     "data": {
      "image/png": "[encoded data removed]",
      "text/plain": [
       "<Figure size 216x432 with 2 Axes>"
      ]
     },
     "metadata": {
      "needs_background": "light"
     },
     "output_type": "display_data"
    }
   ],
   "source": [
    "g = sns.FacetGrid(users_all_info, row ='tariff')\n",
    "g_distplot = g.map(sns.distplot,'sum_calls',bins =100)"
   ]
  },
  {
   "cell_type": "markdown",
   "metadata": {},
   "source": [
    "Также строим график гистограмм для оценки основного распределения данных по длительности звонков по тарифам"
   ]
  },
  {
   "cell_type": "code",
   "execution_count": 37,
   "metadata": {},
   "outputs": [
    {
     "name": "stderr",
     "output_type": "stream",
     "text": [
      "/Users/DanilBee/opt/anaconda3/lib/python3.7/site-packages/seaborn/axisgrid.py:728: UserWarning: Using the violinplot function without specifying `order` is likely to produce an incorrect plot.\n",
      "  warnings.warn(warning)\n"
     ]
    },
    {
     "data": {
      "image/png": "[encoded data removed]",
      "text/plain": [
       "<Figure size 216x432 with 2 Axes>"
      ]
     },
     "metadata": {
      "needs_background": "light"
     },
     "output_type": "display_data"
    }
   ],
   "source": [
    "g = sns.FacetGrid(users_all_info, row ='tariff')\n",
    "g_violin = g.map(sns.violinplot,'sum_calls',inner = 'quartile')"
   ]
  },
  {
   "cell_type": "markdown",
   "metadata": {},
   "source": [
    "Строим виолончели , сравниваем квартили и распределение относительно их и где вообще лежат данные в целом "
   ]
  },
  {
   "cell_type": "code",
   "execution_count": 38,
   "metadata": {},
   "outputs": [
    {
     "name": "stdout",
     "output_type": "stream",
     "text": [
      "Информация по времени разговора в месяц , по тарифам:\n",
      "\n",
      "Среднее тарифа ультра: 571.8457446808511\n",
      "Среднее тарифа смарт: 432.63759791122715\n",
      "\n",
      "Дисперсия тарифа ультра: 2008.5500113324103\n",
      "Дисперсия тарифа смарт: 718.8036193391536\n",
      "\n",
      "Стандартное отклонение тарифа ультра: 319.8355521742349\n",
      "Стандартное отклонение тарифа смарт: 192.21825925681233\n"
     ]
    }
   ],
   "source": [
    "print('Информация по времени разговора в месяц , по тарифам:\\n')\n",
    "\n",
    "mean_call_ultra = users_all_info[users_all_info['tariff'] == 'ultra']['sum_calls'].mean()\n",
    "mean_call_smart =users_all_info[users_all_info['tariff'] == 'smart']['sum_calls'].mean()\n",
    "print('Среднее тарифа ультра:', mean_call_ultra)\n",
    "print('Среднее тарифа смарт:', mean_call_smart)\n",
    "print()\n",
    "\n",
    "disp_call_ultra = np.var(users_all_info[users_all_info['tariff'] == 'ultra']['sum_calls'],ddof = 1)\n",
    "disp_call_smart = np.var(users_all_info[users_all_info['tariff'] == 'smart']['sum_calls'],ddof = 1)\n",
    "print('Дисперсия тарифа ультра:', disp_msg_ultra)\n",
    "print('Дисперсия тарифа смарт:', disp_msg_smart)\n",
    "print()\n",
    "\n",
    "std_call_ultra = np.sqrt(disp_call_ultra)\n",
    "std_call_smart = np.sqrt(disp_call_smart)\n",
    "print('Стандартное отклонение тарифа ультра:', std_call_ultra)\n",
    "print('Стандартное отклонение тарифа смарт:', std_call_smart)"
   ]
  },
  {
   "cell_type": "code",
   "execution_count": 39,
   "metadata": {},
   "outputs": [
    {
     "name": "stdout",
     "output_type": "stream",
     "text": [
      "Информация о продолжительности разговоров в тарифе УЛЬТРА\n",
      " count     752.000000\n",
      "mean      571.845745\n",
      "std       319.835552\n",
      "min         1.000000\n",
      "25%       341.000000\n",
      "50%       551.500000\n",
      "75%       779.000000\n",
      "max      1727.000000\n",
      "Name: sum_calls, dtype: float64\n",
      "Информация о продолжительности разговоров в тарифе СМАРТ\n",
      " count    1915.000000\n",
      "mean      432.637598\n",
      "std       192.218259\n",
      "min         1.000000\n",
      "25%       295.000000\n",
      "50%       440.000000\n",
      "75%       561.500000\n",
      "max      1471.000000\n",
      "Name: sum_calls, dtype: float64\n"
     ]
    }
   ],
   "source": [
    "print('Информация о продолжительности разговоров в тарифе УЛЬТРА\\n',users_all_info[users_all_info['tariff'] == 'ultra']['sum_calls'].describe())\n",
    "print('Информация о продолжительности разговоров в тарифе СМАРТ\\n',users_all_info[users_all_info['tariff'] == 'smart']['sum_calls'].describe())"
   ]
  },
  {
   "cell_type": "markdown",
   "metadata": {},
   "source": [
    "Оценивая графики и данные статистики можно сделать данные выводы по длительности звонков:\n",
    "<ul>\n",
    "    <li>По гистограмме сразу визуально можно сказать , что среднее значение у них отличается , у тарифа <i>смарт</i> среднее значение более смещено в лево , относительно <i>ультра</i> , посчитав данные, видим , что разница и в правду подтверждается</li>\n",
    "    <li>Также видно ,что распределение у <i>ультра</i> более широкое ,чем у <i>смарт</i></li>\n",
    "    <li>В данном случае наблюдаем \"по книжке\" нормальное распределение без какого-либо смещение</li>\n",
    "    <li>Квартили <i>ультра</i> от 340(1ый) до 779(3ий), медиана лежит 551</li>\n",
    "    <li>Квартили <i>смарт</i> от  295(1ый) до 561(3ий), медиана лежит 440</li>\n",
    "    <li>Сравнивая квартили и графики виолончели можно сделать вывод , что медиана <i>ультра</i> практически на одном уровне с 3 квартилем тарифа <i>смарт</i>. То есть распределения достаточно заметно отличаются , но это логично в связи с возможностями тарифов. В ультра более широкое распределение, в то время как в смарт основная масса распределена в центре и не имеет сильного различия и разброса в данных</li>\n",
    "    <li>В случае <i>ультра</i> опять же - в выборке нету случаев превышения тарифного плана ,даже при максимальном значении в 1727 </li>\n",
    "    <li>В случае со <i>смартом</i> ситуация похожа с ситуацией с сообщениями , также большинство пользователей остается в рамках своего тарифного плана</li>\n",
    "    </ul>\n",
    "<br>\n",
    "<p>\n",
    "    На основе данных заключений и расчетов статистики можно сделать вывод и посчитать сколько требуется минут пользователям определенного трафика в месяц. То есть используя среднее и стандартное отклонение расчитаем нужные показатели : \n",
    "    <ul>\n",
    "        <li>Для тарифа <i>ультра</i> расчитаем: 571 <i>(среднее значение)</i> + 319 <i>(стандартное отклонение)</i>*3 = 571 + 957 = 1528 минут разговора для пользователей <i>ультра</i>. То есть можно округлить ,что для пользователей данного тарифа оптимальным тарифным планом для звонков будет 1550 минут в месяц</li>\n",
    "        <li>Для тарифа <i>смарт</i> расчитаем: 432 <i>(среднее значение)</i> + 192 <i>(стандартное отклонение)</i>*3 = 432 + 576 = 1008 минут разговора для пользователей <i>смарта</i>. То есть можно округлить ,что для пользователей данного тарифа оптимальным тарифным планом для звонков будет 1000 минут в месяц</li>\n",
    "        </ul>\n",
    "        <strong> \n",
    "    <ul>\n",
    "        <li>1550 для УЛЬТРА требуется минут разговора в месяц</li>\n",
    "        <li>1000 для СМАРТ требуется минут разговора в месяц</li>\n",
    "    </ul>\n",
    "        </strong>"
   ]
  },
  {
   "cell_type": "code",
   "execution_count": 40,
   "metadata": {},
   "outputs": [
    {
     "data": {
      "image/png": "[encoded data removed]",
      "text/plain": [
       "<Figure size 216x432 with 2 Axes>"
      ]
     },
     "metadata": {
      "needs_background": "light"
     },
     "output_type": "display_data"
    }
   ],
   "source": [
    "g = sns.FacetGrid(users_all_info, row ='tariff')\n",
    "g_distplot = g.map(sns.distplot,'mb_sum',bins =100)"
   ]
  },
  {
   "cell_type": "markdown",
   "metadata": {},
   "source": [
    "Видна такая же ситуация,что распределение нормальное и нету какого-либо смещения"
   ]
  },
  {
   "cell_type": "code",
   "execution_count": 41,
   "metadata": {},
   "outputs": [
    {
     "name": "stderr",
     "output_type": "stream",
     "text": [
      "/Users/DanilBee/opt/anaconda3/lib/python3.7/site-packages/seaborn/axisgrid.py:728: UserWarning: Using the violinplot function without specifying `order` is likely to produce an incorrect plot.\n",
      "  warnings.warn(warning)\n"
     ]
    },
    {
     "data": {
      "image/png": "[encoded data removed]",
      "text/plain": [
       "<Figure size 216x432 with 2 Axes>"
      ]
     },
     "metadata": {
      "needs_background": "light"
     },
     "output_type": "display_data"
    }
   ],
   "source": [
    "g = sns.FacetGrid(users_all_info, row ='tariff')\n",
    "g_violin = g.map(sns.violinplot,'mb_sum',inner = 'quartile')"
   ]
  },
  {
   "cell_type": "markdown",
   "metadata": {},
   "source": [
    "Строим виолончели , сравниваем квартили и распределение относительно их и где вообще лежат данные в целом . Видно ,что ситуация напоминает со звонками в отношении положения квартилей. Будем смотреть с помощью статистических показателей данное предположение"
   ]
  },
  {
   "cell_type": "code",
   "execution_count": 42,
   "metadata": {},
   "outputs": [
    {
     "name": "stdout",
     "output_type": "stream",
     "text": [
      "Информация об объеме потраченного интернет трафика в тарифе УЛЬТРА\n",
      " count      752.000000\n",
      "mean     19614.590426\n",
      "std       9638.192361\n",
      "min          0.000000\n",
      "25%      11917.000000\n",
      "50%      19463.500000\n",
      "75%      26854.750000\n",
      "max      49789.000000\n",
      "Name: mb_sum, dtype: float64\n",
      "Информация об объеме потраченного интернет трафика в тарифе СМАРТ\n",
      " count     1915.000000\n",
      "mean     16266.113316\n",
      "std       5800.037364\n",
      "min          0.000000\n",
      "25%      12640.000000\n",
      "50%      16484.000000\n",
      "75%      20068.000000\n",
      "max      38610.000000\n",
      "Name: mb_sum, dtype: float64\n"
     ]
    }
   ],
   "source": [
    "print('Информация об объеме потраченного интернет трафика в тарифе УЛЬТРА\\n',users_all_info[users_all_info['tariff'] == 'ultra']['mb_sum'].describe())\n",
    "print('Информация об объеме потраченного интернет трафика в тарифе СМАРТ\\n',users_all_info[users_all_info['tariff'] == 'smart']['mb_sum'].describe())"
   ]
  },
  {
   "cell_type": "code",
   "execution_count": 43,
   "metadata": {},
   "outputs": [
    {
     "name": "stdout",
     "output_type": "stream",
     "text": [
      "Информация по времени разговора в месяц , по тарифам:\n",
      "\n",
      "Среднее тарифа ультра: 19614.590425531915\n",
      "Среднее тарифа смарт: 16266.113315926894\n",
      "\n",
      "Дисперсия тарифа ультра: 92894751.98382299\n",
      "Дисперсия тарифа смарт: 33640433.42027715\n",
      "\n",
      "Стандартное отклонение тарифа ультра: 9638.19236080205\n",
      "Стандартное отклонение тарифа смарт: 5800.037363696647\n"
     ]
    }
   ],
   "source": [
    "print('Информация по времени разговора в месяц , по тарифам:\\n')\n",
    "\n",
    "mean_int_ultra = users_all_info[users_all_info['tariff'] == 'ultra']['mb_sum'].mean()\n",
    "mean_int_smart =users_all_info[users_all_info['tariff'] == 'smart']['mb_sum'].mean()\n",
    "print('Среднее тарифа ультра:', mean_int_ultra)\n",
    "print('Среднее тарифа смарт:', mean_int_smart)\n",
    "print()\n",
    "\n",
    "disp_int_ultra = np.var(users_all_info[users_all_info['tariff'] == 'ultra']['mb_sum'],ddof = 1)\n",
    "disp_int_smart = np.var(users_all_info[users_all_info['tariff'] == 'smart']['mb_sum'],ddof = 1)\n",
    "print('Дисперсия тарифа ультра:', disp_int_ultra)\n",
    "print('Дисперсия тарифа смарт:', disp_int_smart)\n",
    "print()\n",
    "\n",
    "std_int_ultra = np.sqrt(disp_int_ultra)\n",
    "std_int_smart = np.sqrt(disp_int_smart)\n",
    "print('Стандартное отклонение тарифа ультра:', std_int_ultra)\n",
    "print('Стандартное отклонение тарифа смарт:', std_int_smart)"
   ]
  },
  {
   "cell_type": "markdown",
   "metadata": {},
   "source": [
    "Оценивая графики и данные статистики можно сделать данные выводы по расходаванию мегабайтов в месяц:\n",
    "<ul>\n",
    "    <li>По гистограммам опять же видно , что в случае со <i>смартом</i> , распределение больше сосредоточено в центре , чем  в <i>ультра</i></li>\n",
    "    <li>По поводу среднего значения по графикам можно сказать , что они примерно одинаковы и на первый взгляд находятся друг-от-друга  с незначительной разницей,но посчитав статистику  увидели ,что на самом деле разница велика 19614 в <i>ультра</i> и 16266 в <i>смарт</i></li>\n",
    "    <li>Обе гистограммы являются нормальными распределениями</li>\n",
    "    <li>С квартилями наблюдаем похожую ситуацию как и со звонками , что 3 квартиль <i>смарта</i> практически совпадает с медианой <i>ультра</i></li>\n",
    "    <li>В этот раз в случае с <i>ультра</i> уже идет у некоторых пользователей превышение тарифного плана. По тарифу 30720 мб в месяц , а у некоторых пользователей доходит до 49789 мб ,что превышает тариф почти на 19гб</li>\n",
    "    <li>В случае со <i>смартом</i> более 50% пользователей превышает тарифный план , а некоторые пользователи превышают тарифный план даже тарифа ультра на несколько гб</li>\n",
    "    </ul>\n",
    "<br>\n",
    "    \n",
    "<p>\n",
    "    На основе данных заключений и расчетов статистики можно сделать вывод и посчитать сколько требуется мегабайт пользователям определенного трафика в месяц. То есть используя среднее и стандартное отклонение расчитаем нужные показатели : \n",
    "    <ul>\n",
    "        <li>Для тарифа <i>ультра</i> расчитаем: 19614 <i>(среднее значение)</i> + 9638 <i>(стандартное отклонение)</i>*3 = 19614 + 28914 = 168528 мб интернет трафика для пользователей <i>ультра</i> нужно ,чтобы всем хватало. То есть можно округлить ,что для пользователей данного тарифа оптимальным тарифным планом для интернета будет 164 гб в месяц</li>\n",
    "        <li>Для тарифа <i>смарт</i> расчитаем: 16266 <i>(среднее значение)</i> + 5800 <i>(стандартное отклонение)</i>*3 = 16266 + 17400 = 33666 мб интернет трафика для пользователей <i>смарта</i>. То есть можно округлить ,что для пользователей данного тарифа оптимальным тарифным планом для интернета будет 32 гб в месяц</li>\n",
    "        </ul>\n",
    "        <strong> \n",
    "    <ul>\n",
    "        <li>164 для УЛЬТРА требуется гб интернет трафика в месяц</li>\n",
    "        <li>32 для СМАРТ требуется гб интернет трафика в месяц</li>\n",
    "    </ul>\n",
    "        </strong>"
   ]
  },
  {
   "cell_type": "markdown",
   "metadata": {},
   "source": [
    "<h3>Вывод:</h3>"
   ]
  },
  {
   "cell_type": "markdown",
   "metadata": {},
   "source": [
    "<h1>Шаг 4: Гипотезы"
   ]
  },
  {
   "cell_type": "markdown",
   "metadata": {},
   "source": [
    "Сформулируем гипотезы:\n",
    "<ul>\n",
    "    <li>Для гипотезы ,что средняя <strong>выручка пользователей тарифов <i>«Ультра» и «Смарт»</i> различается</strong>, делаем гипотезы ,которая говорит обратное , то есть H<sub>0</sub>:  df['ultra_revenue'] = df['smart_revenue'] , а гипотеза H<sub>1</sub> будем говорить об обратном ,что значение изменилось , и не важно в какую сторону , поэтому проверяет просто по формуле p value</li>\n",
    "    <li>Для гипотезы,что средняя <strong>выручка пользователей из <i>Москвы</i> отличается от выручки пользователей из <i>других регионов</i></strong> , также предпологаем гипотезу , которая говорит обратное -  H<sub>0</sub>:  df[df['city']=='Москва'] = df[df['city'] != 'Москва'] , а гипотеза H<sub>1</sub> будем говорить об обратном ,что значение изменилось , и не важно в какую сторону , поэтому проверяет просто по формуле p value</li>\n",
    "    <li> за альфу принито брать значение в 0.05 ,то есть при p value < 5% мы отвергаем ( но не отрицаем ) гипотезу H<sub>0</sub>"
   ]
  },
  {
   "cell_type": "code",
   "execution_count": 44,
   "metadata": {},
   "outputs": [],
   "source": [
    "#declare alpha value 5%\n",
    "alpha = 0.05\n",
    "users_ultra = users_all_info[users_all_info['tariff'] == 'ultra']\n",
    "users_smart = users_all_info[users_all_info['tariff'] == 'smart']"
   ]
  },
  {
   "cell_type": "code",
   "execution_count": 45,
   "metadata": {},
   "outputs": [
    {
     "name": "stdout",
     "output_type": "stream",
     "text": [
      "p-значение: 5.944992219485207e-111\n",
      "Отвергаем нулевую гипотезу\n"
     ]
    }
   ],
   "source": [
    "#checking hypothesis 1\n",
    "\n",
    "ttest_result_1 = st.ttest_ind(users_ultra['revenue'],users_smart['revenue'])\n",
    "\n",
    "print('p-значение:',ttest_result_1.pvalue)\n",
    "\n",
    "if (ttest_result_1.pvalue<alpha):\n",
    "    print(\"Отвергаем нулевую гипотезу\")\n",
    "else:\n",
    "    print(\"Не получилось отвергнуть нулевую гипотезу\")"
   ]
  },
  {
   "cell_type": "code",
   "execution_count": 46,
   "metadata": {},
   "outputs": [
    {
     "name": "stdout",
     "output_type": "stream",
     "text": [
      "p-значение: 0.1517605791788797\n",
      "Не получилось отвергнуть нулевую гипотезу\n"
     ]
    }
   ],
   "source": [
    "#checking hypothesis 2\n",
    "\n",
    "ttest_result_2 = st.ttest_ind( users_all_info[users_all_info['city'] == 'Москва']['revenue'],users_all_info[users_all_info['city'] != 'Москва']['revenue'])\n",
    "print('p-значение:',ttest_result_2.pvalue)\n",
    "\n",
    "if (ttest_result_2.pvalue<alpha):\n",
    "    print(\"Отвергаем нулевую гипотезу\")\n",
    "else:\n",
    "    print(\"Не получилось отвергнуть нулевую гипотезу\")"
   ]
  },
  {
   "cell_type": "markdown",
   "metadata": {},
   "source": [
    "<h2>Вывод</h2>\n",
    "<br>\n",
    "<strong>Гипотеза 1:</strong> выручка отличается в тарифе <i>Ультра</i> от тарифа <i>Смарт</i>\n",
    "<br>\n",
    "<br>\n",
    "Полученное значение p-value говорит о том, что разница в средней выручке между тарифами отличается и это можно утверждать с достаточной большой уверенностью ,ведь полученное значение получилось очень малым.Поэтому H<sub>0</sub> можем с большой ,очень большой уверенностью отвергнуть(но не отрицать)\n",
    "<br>\n",
    "<br>\n",
    "<strong>Гипотеза 2:</strong> выручка не отличается в городе Москва от остальных городов\n",
    "<br>\n",
    "<br>\n",
    "Полученное значение p-value говорит о том, что хотя средняя выручка пришедших из Москвы и других городов и неодинакова, с вероятностью в  15%+ такое различие можно получить случайно. Это явно слишком большая вероятность, чтобы делать вывод о значимом различии между средними выручками.Поэтому H<sub>0</sub> не можем отвергнуть(но не отрицать)"
   ]
  },
  {
   "cell_type": "markdown",
   "metadata": {},
   "source": [
    "<h1>Шаг 5: Общий вывод</h1>"
   ]
  },
  {
   "cell_type": "markdown",
   "metadata": {},
   "source": [
    "<h2>Вывод</h2>\n",
    "<br>\n",
    "<p> Проделали большую работу с данными, сначала мы предобработали данные , заполнив данные логическими заполнениями. Также изменили типы данных: на временные , с вещественных на целочисленные (т.к. операторы жадные<i>:)</i> округляли все значения в верх) Также избавились от лишних столбцов , многие из них уже имели идентификаторы , и много было лишних столбцов, так что ,некоторые столбцы сделали новыми идентификаторами , а в некоторых случаях просто удалили.\n",
    "<br>\n",
    "После предобработки занялись вычилениями полезных показателей -  расчитали данные по месяцам , делали с помощью метода groupby ,где в результате получался Series с мультииндексом , и один из индексов('month') перевели обратно в столбец. Далее объеденяли их в общие данные для пользователей , в результате потеряли какие-то данные, но добились репрезентативности выборки с которой можно работать. После того как получили все данные , с помощью функции вычислили для каждого пользователя сколько в месяц он тратит денег ( выручку для компании )\n",
    "<br>\n",
    "    <br>\n",
    "Далее с помощью графиков и статистических показателей посмотрели распределение данных по использованным пользователем показателей по тарифам , так мы увидели с помощью гистограмм , что все данные распределены нормально , только показатель сообщений имеет отличительные скошенности вправую сторону. С помощью виолончели наблюдали визуально более подробно как распределены данные относительно всего массива , так подметили разницу в квартилях и как основная масса людей использует возможности тарифов. Далее подтвердить данные и высчитать нужные показатели ,чтобы понять сколько нужно определенного ресурса(количество сообщений , объем интернет трафика, количество минут) в среднем всем пользователем тарифа . Сделали на основе ,что среднее значение + 3*стандартное отклонение покрывает 99% пользователей. Самым основным было , что у тарифа Смарт основное количество пользователей сосредоточенно достаточно близко к среднему значению на всех графиках , в отличие от Ультра ,где графики более широкие ,что также подтверджает дисперсия. По всем этим данным можно сделать вывод ,что пользователем тарифа Ультра хватает своих возможностей с головой , и большая часть из них даже близко не подходит к границам тарифного плана , в то время как в Смарт хоть и все данные сосредоточены более узко , но почти все они на грани со своим тарифным планом и есть немалая часть за границами тарифного плана , но как правило с небольшим перебором. Основная выручка сразу видно идет с объема интернет трафика,ведь пользователям обоих тарифных планах катострафически не хватает интернет трафика и многие уходят за его границы и платят по высокому дополнительному пакету за 1 гб\n",
    "<br>\n",
    "Выдвигаем 2 гипотезы, обе гипотезы проверяли T тестом для 2 не связанных совокупностей \n",
    "<br>\n",
    "    <br>\n",
    "<strong>Гипотеза 1:</strong> выручка отличается в тарифе <i>Ультра</i> от тарифа <i>Смарт</i>\n",
    "<br>\n",
    "<br>\n",
    "Выолнили T тест ,где получили p значение , на основе которого получили данные для того ,чтобы отвергнуть H<sub>0</sub> гипотезу, и придерживаться H<sub>1</sub>,которая говорит о том , что разница в выручке в тарифах есть\n",
    "<br>\n",
    "<br>\n",
    "<strong>Гипотеза 2:</strong> выручка не отличается в городе Москва от остальных городов\n",
    "<br>\n",
    "<br>\n",
    "Также выполнили T тест,где значение p дало понять что хоть и есть основы полагать ,что выручка отличается Москвы от остальных городов, но с таким процентом мы вполне могли получить случайно и с нашей установленной стандартом alpha в 5% , мы не может отвергнуть H<sub>0</sub> гипотезу"
   ]
  }
 ],
 "metadata": {
  "kernelspec": {
   "display_name": "Python 3",
   "language": "python",
   "name": "python3"
  },
  "language_info": {
   "codemirror_mode": {
    "name": "ipython",
    "version": 3
   },
   "file_extension": ".py",
   "mimetype": "text/x-python",
   "name": "python",
   "nbconvert_exporter": "python",
   "pygments_lexer": "ipython3",
   "version": "3.7.7"
  }
 },
 "nbformat": 4,
 "nbformat_minor": 2
}
