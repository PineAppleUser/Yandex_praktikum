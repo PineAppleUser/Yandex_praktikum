{
 "cells": [
  {
   "cell_type": "markdown",
   "metadata": {},
   "source": [
    "### Шаг 1. Выгрузка данных"
   ]
  },
  {
   "cell_type": "code",
   "execution_count": 3,
   "metadata": {},
   "outputs": [
    {
     "name": "stdout",
     "output_type": "stream",
     "text": [
      "<class 'pandas.core.frame.DataFrame'>\n",
      "RangeIndex: 21525 entries, 0 to 21524\n",
      "Data columns (total 12 columns):\n",
      "children            21525 non-null int64\n",
      "days_employed       19351 non-null float64\n",
      "dob_years           21525 non-null int64\n",
      "education           21525 non-null object\n",
      "education_id        21525 non-null int64\n",
      "family_status       21525 non-null object\n",
      "family_status_id    21525 non-null int64\n",
      "gender              21525 non-null object\n",
      "income_type         21525 non-null object\n",
      "debt                21525 non-null int64\n",
      "total_income        19351 non-null float64\n",
      "purpose             21525 non-null object\n",
      "dtypes: float64(2), int64(5), object(5)\n",
      "memory usage: 2.0+ MB\n",
      "None\n"
     ]
    }
   ],
   "source": [
    "import pandas as pd\n",
    "data = pd.read_csv('/datasets/data.csv')\n",
    "print(data.info())"
   ]
  },
  {
   "cell_type": "markdown",
   "metadata": {},
   "source": [
    "### Вывод"
   ]
  },
  {
   "cell_type": "markdown",
   "metadata": {},
   "source": [
    "Первым делом бросается в глаза отрицательные значеня в days_employed , у всех значение отрицательное ,кроме пенсионеров,у которых количество дней выходит за рамки разумного.Видно ,что пропуски допущеный в days_employed и total_income. Также сразу видна проблема с регистрами.Типы переменных везде аддекватные"
   ]
  },
  {
   "cell_type": "markdown",
   "metadata": {},
   "source": [
    "### Шаг 2. Предобработка данных"
   ]
  },
  {
   "cell_type": "markdown",
   "metadata": {},
   "source": [
    "### Обработка пропусков"
   ]
  },
  {
   "cell_type": "code",
   "execution_count": 4,
   "metadata": {},
   "outputs": [],
   "source": [
    "income_types = ['безработный','в декрете','госслужащий','компаньон','пенсионер'\\\n",
    "                ,'предприниматель','сотрудник','студент']\n",
    "for income_type in income_types:\n",
    "    median_income = data[data['income_type'] == income_type]['total_income'].median()\n",
    "    median_days_employed = data[data['income_type'] == income_type]['days_employed'].median()\n",
    "    data['total_income'] = data['total_income'].fillna(value = median_income)\n",
    "    data['days_employed']= data['days_employed'].fillna(value = median_days_employed)"
   ]
  },
  {
   "cell_type": "markdown",
   "metadata": {},
   "source": [
    "### Вывод"
   ]
  },
  {
   "cell_type": "markdown",
   "metadata": {},
   "source": [
    "Пропусков в категориальных переменных ни в одном из столбцов не обнаруженно.Обнаружены пропуски в столбцах: days_employed и total_income. Категоризируем зарплаты в каждой профессии и вычислияем медиану именно по каждой из них , заполняем по ним пропуски в обоих столбцах. Для проверки выводим информацию о значениях , видим ,что все пропуски успешно заполнены"
   ]
  },
  {
   "cell_type": "markdown",
   "metadata": {},
   "source": [
    "### Замена типа данных"
   ]
  },
  {
   "cell_type": "code",
   "execution_count": 5,
   "metadata": {},
   "outputs": [],
   "source": [
    "# float to int\n",
    "data['total_income'] = data['total_income'].astype('int')"
   ]
  },
  {
   "cell_type": "markdown",
   "metadata": {},
   "source": [
    "# Вывод"
   ]
  },
  {
   "cell_type": "markdown",
   "metadata": {},
   "source": [
    "Переводим данные о ежемесячном доходе в целый тип ,чтобы сократить время работы программы и удобнее работать с методами sum() и остальными. Данные в таком количестве не сильно пострадают в статистике при опускании части после запятой"
   ]
  },
  {
   "cell_type": "markdown",
   "metadata": {},
   "source": [
    "### Обработка дубликатов"
   ]
  },
  {
   "cell_type": "code",
   "execution_count": 6,
   "metadata": {},
   "outputs": [
    {
     "data": {
      "text/plain": [
       "0"
      ]
     },
     "execution_count": 6,
     "metadata": {},
     "output_type": "execute_result"
    }
   ],
   "source": [
    "#рассмотрим каждый стринг столбец методом value_counts()\n",
    "data['education'] = data['education'].str.lower()\n",
    "data['education'].value_counts()\n",
    "#Теперь все education разные\n",
    "\n",
    "#все разные,но Не женат / не замужем , начинается с верхнего регистра - справим\n",
    "data.loc[data['family_status'] == 'Не женат / не замужем','family_status'] = 'не женат / не замужем'\n",
    "data['family_status'].value_counts()\n",
    "\n",
    "#children\n",
    "\n",
    "data.loc[data['children'] < 0,'children'] = 0\n",
    "\n",
    "#кол-во дупликатов 71 data.duplicated().sum()\n",
    "\n",
    "data = data.drop_duplicates()\n",
    "\n",
    "data.duplicated().sum()"
   ]
  },
  {
   "cell_type": "markdown",
   "metadata": {},
   "source": [
    "### Вывод"
   ]
  },
  {
   "cell_type": "markdown",
   "metadata": {},
   "source": [
    "Привели категориальные параметры к единому виду ,чтобы не было разницы с регистром тем самым при сравнении не было разницы между \"среднее\" и \"СРЕДНЕЕ\" итп,также для красоты таблицы , сделали все семейные статусы с маленькой буквы. Последующие дупликаты могут вылезти после лемматизации в столбце purpose"
   ]
  },
  {
   "cell_type": "markdown",
   "metadata": {},
   "source": [
    "### Лемматизация"
   ]
  },
  {
   "cell_type": "code",
   "execution_count": 7,
   "metadata": {},
   "outputs": [],
   "source": [
    "from pymystem3 import Mystem\n",
    "m = Mystem()\n",
    "\n",
    "def grouped_purpose(purpose):\n",
    "    purposes = ['свадьба', 'недвижимость', 'жилье', 'автомобиль', 'образование']\n",
    "    lemmas = m.lemmatize(purpose)\n",
    "    for lemma in lemmas:\n",
    "        if lemma in purposes:\n",
    "            return lemma\n",
    "\n",
    "data['purpose'] = data['purpose'].apply(grouped_purpose)"
   ]
  },
  {
   "cell_type": "markdown",
   "metadata": {},
   "source": [
    "### Вывод"
   ]
  },
  {
   "cell_type": "markdown",
   "metadata": {},
   "source": [
    "Пишем функцию ,которая принимает на вход значение data['purpose'] и лемматезирует его ,чтобы выудить ключевое слово для понятия причины кредита.Присваиваем все ключевые слова в массив и сравниваем по нему на сходимость причины, в итоге возвразает это значение ,которое мы перезаписываем на прошлое ,чтобы не создавать новый столбец с еще 20000+ новыми данными"
   ]
  },
  {
   "cell_type": "markdown",
   "metadata": {},
   "source": [
    "### Категоризация данных"
   ]
  },
  {
   "cell_type": "code",
   "execution_count": 8,
   "metadata": {},
   "outputs": [
    {
     "name": "stdout",
     "output_type": "stream",
     "text": [
      "children\n",
      "0     14138\n",
      "1      4808\n",
      "2      2052\n",
      "3       330\n",
      "4        41\n",
      "5         9\n",
      "20       76\n",
      "Name: children, dtype: int64\n"
     ]
    }
   ],
   "source": [
    "#print(data.groupby('family_status')['children'].count())\n",
    "#print(data.groupby('children')['children'].count())\n",
    "#print(data.groupby('purpose')['children'].count())\n",
    "print(data.groupby('children')['children'].count())\n",
    "data.loc[data['children'] > 3 ,'children'] = 3\n",
    "child_relation = data[['children','debt']]\n",
    "fam_stat_relation = data[['family_status','debt']]\n",
    "income_relation = data[['total_income','debt']]\n",
    "purpose_relation = data[['purpose','debt']]"
   ]
  },
  {
   "cell_type": "markdown",
   "metadata": {},
   "source": [
    "### Вывод"
   ]
  },
  {
   "cell_type": "markdown",
   "metadata": {},
   "source": [
    "Взял словари для быстрого отношения одного к другому ,чтобы можно было в ответе на вопрос с помощью метода вызвать отношение одного к другому. Также проверил , что основное количество данных приходится на 0 , 1 , 2 количество детей,что делает их самыми весомыми показателями.Поэтому показатели с меньшими количеством данных группируем под общее количество детей 3 "
   ]
  },
  {
   "cell_type": "markdown",
   "metadata": {},
   "source": [
    "### Шаг 3. Ответьте на вопросы"
   ]
  },
  {
   "cell_type": "code",
   "execution_count": 9,
   "metadata": {},
   "outputs": [
    {
     "data": {
      "text/html": [
       "<div>\n",
       "<style scoped>\n",
       "    .dataframe tbody tr th:only-of-type {\n",
       "        vertical-align: middle;\n",
       "    }\n",
       "\n",
       "    .dataframe tbody tr th {\n",
       "        vertical-align: top;\n",
       "    }\n",
       "\n",
       "    .dataframe thead th {\n",
       "        text-align: right;\n",
       "    }\n",
       "</style>\n",
       "<table border=\"1\" class=\"dataframe\">\n",
       "  <thead>\n",
       "    <tr style=\"text-align: right;\">\n",
       "      <th></th>\n",
       "      <th>debt</th>\n",
       "    </tr>\n",
       "    <tr>\n",
       "      <th>children</th>\n",
       "      <th></th>\n",
       "    </tr>\n",
       "  </thead>\n",
       "  <tbody>\n",
       "    <tr>\n",
       "      <td>2</td>\n",
       "      <td>0.094542</td>\n",
       "    </tr>\n",
       "    <tr>\n",
       "      <td>1</td>\n",
       "      <td>0.092346</td>\n",
       "    </tr>\n",
       "    <tr>\n",
       "      <td>3</td>\n",
       "      <td>0.085526</td>\n",
       "    </tr>\n",
       "    <tr>\n",
       "      <td>0</td>\n",
       "      <td>0.075258</td>\n",
       "    </tr>\n",
       "  </tbody>\n",
       "</table>\n",
       "</div>"
      ],
      "text/plain": [
       "              debt\n",
       "children          \n",
       "2         0.094542\n",
       "1         0.092346\n",
       "3         0.085526\n",
       "0         0.075258"
      ]
     },
     "execution_count": 9,
     "metadata": {},
     "output_type": "execute_result"
    }
   ],
   "source": [
    "#child_relation.groupby('children').mean().sort_values(by='debt',ascending = False)\n",
    "pivot_child_relation = data.pivot_table(index ='children', values = 'debt')\n",
    "pivot_child_relation.sort_values(by = 'debt', ascending = False)"
   ]
  },
  {
   "cell_type": "markdown",
   "metadata": {},
   "source": [
    "### Вывод"
   ]
  },
  {
   "cell_type": "markdown",
   "metadata": {},
   "source": [
    "Чем больше детей ,тем сложнее закрыть кредит в срок , группа людей , у кого детей 3 и более(собраны под кол-вом детей = 3) показывают относительно хорошие результаты , но большое влияение на их среднее оказывает также у кого было 5 детей , ведь данных мало , а показатели все идеальные ,что делает среднее значение искаженным "
   ]
  },
  {
   "cell_type": "code",
   "execution_count": 10,
   "metadata": {},
   "outputs": [
    {
     "data": {
      "text/html": [
       "<div>\n",
       "<style scoped>\n",
       "    .dataframe tbody tr th:only-of-type {\n",
       "        vertical-align: middle;\n",
       "    }\n",
       "\n",
       "    .dataframe tbody tr th {\n",
       "        vertical-align: top;\n",
       "    }\n",
       "\n",
       "    .dataframe thead th {\n",
       "        text-align: right;\n",
       "    }\n",
       "</style>\n",
       "<table border=\"1\" class=\"dataframe\">\n",
       "  <thead>\n",
       "    <tr style=\"text-align: right;\">\n",
       "      <th></th>\n",
       "      <th>debt</th>\n",
       "    </tr>\n",
       "    <tr>\n",
       "      <th>family_status</th>\n",
       "      <th></th>\n",
       "    </tr>\n",
       "  </thead>\n",
       "  <tbody>\n",
       "    <tr>\n",
       "      <td>не женат / не замужем</td>\n",
       "      <td>0.097509</td>\n",
       "    </tr>\n",
       "    <tr>\n",
       "      <td>гражданский брак</td>\n",
       "      <td>0.093471</td>\n",
       "    </tr>\n",
       "    <tr>\n",
       "      <td>женат / замужем</td>\n",
       "      <td>0.075452</td>\n",
       "    </tr>\n",
       "    <tr>\n",
       "      <td>в разводе</td>\n",
       "      <td>0.071130</td>\n",
       "    </tr>\n",
       "    <tr>\n",
       "      <td>вдовец / вдова</td>\n",
       "      <td>0.065693</td>\n",
       "    </tr>\n",
       "  </tbody>\n",
       "</table>\n",
       "</div>"
      ],
      "text/plain": [
       "                           debt\n",
       "family_status                  \n",
       "не женат / не замужем  0.097509\n",
       "гражданский брак       0.093471\n",
       "женат / замужем        0.075452\n",
       "в разводе              0.071130\n",
       "вдовец / вдова         0.065693"
      ]
     },
     "execution_count": 10,
     "metadata": {},
     "output_type": "execute_result"
    }
   ],
   "source": [
    "#fam_stat_relation.groupby('family_status').mean().sort_values(by='debt',ascending = False)\n",
    "pivot_stat_relation = data.pivot_table(index = 'family_status', values = 'debt')\n",
    "pivot_stat_relation.sort_values(by = 'debt', ascending = False)"
   ]
  },
  {
   "cell_type": "markdown",
   "metadata": {},
   "source": [
    "### Вывод"
   ]
  },
  {
   "cell_type": "markdown",
   "metadata": {},
   "source": [
    "Семейный статус показывает ,что людям не женатым/не замужем сложнее всего закрыть кредит. В гражданском браке также данные показатель желает оставлять лучшего , возможно это связано с их будущей свадьбой и покупок ,что оставляет их в больших долгах. Женатым и замужем уже не нужны такие большие кредиты , и они уже могут распределять общие расходы 2ух человек. Людям в разводе многого не надо , по крайне мере ,пока они снова не станут состоять в гражданском браке и не влезут в большие кредиты. Вдовцам и вдовам подавно не нужны какие-то роскоши или крупые кредиты,что делает их самыми платежеспособными людьми "
   ]
  },
  {
   "cell_type": "code",
   "execution_count": 11,
   "metadata": {},
   "outputs": [
    {
     "data": {
      "text/html": [
       "<div>\n",
       "<style scoped>\n",
       "    .dataframe tbody tr th:only-of-type {\n",
       "        vertical-align: middle;\n",
       "    }\n",
       "\n",
       "    .dataframe tbody tr th {\n",
       "        vertical-align: top;\n",
       "    }\n",
       "\n",
       "    .dataframe thead th {\n",
       "        text-align: right;\n",
       "    }\n",
       "</style>\n",
       "<table border=\"1\" class=\"dataframe\">\n",
       "  <thead>\n",
       "    <tr style=\"text-align: right;\">\n",
       "      <th></th>\n",
       "      <th>debt</th>\n",
       "    </tr>\n",
       "    <tr>\n",
       "      <th>total_income</th>\n",
       "      <th></th>\n",
       "    </tr>\n",
       "  </thead>\n",
       "  <tbody>\n",
       "    <tr>\n",
       "      <td>20667</td>\n",
       "      <td>1.0</td>\n",
       "    </tr>\n",
       "    <tr>\n",
       "      <td>171879</td>\n",
       "      <td>1.0</td>\n",
       "    </tr>\n",
       "    <tr>\n",
       "      <td>263793</td>\n",
       "      <td>1.0</td>\n",
       "    </tr>\n",
       "    <tr>\n",
       "      <td>263633</td>\n",
       "      <td>1.0</td>\n",
       "    </tr>\n",
       "    <tr>\n",
       "      <td>82940</td>\n",
       "      <td>1.0</td>\n",
       "    </tr>\n",
       "    <tr>\n",
       "      <td>...</td>\n",
       "      <td>...</td>\n",
       "    </tr>\n",
       "    <tr>\n",
       "      <td>119484</td>\n",
       "      <td>0.0</td>\n",
       "    </tr>\n",
       "    <tr>\n",
       "      <td>119485</td>\n",
       "      <td>0.0</td>\n",
       "    </tr>\n",
       "    <tr>\n",
       "      <td>119488</td>\n",
       "      <td>0.0</td>\n",
       "    </tr>\n",
       "    <tr>\n",
       "      <td>119489</td>\n",
       "      <td>0.0</td>\n",
       "    </tr>\n",
       "    <tr>\n",
       "      <td>2265604</td>\n",
       "      <td>0.0</td>\n",
       "    </tr>\n",
       "  </tbody>\n",
       "</table>\n",
       "<p>18607 rows × 1 columns</p>\n",
       "</div>"
      ],
      "text/plain": [
       "              debt\n",
       "total_income      \n",
       "20667          1.0\n",
       "171879         1.0\n",
       "263793         1.0\n",
       "263633         1.0\n",
       "82940          1.0\n",
       "...            ...\n",
       "119484         0.0\n",
       "119485         0.0\n",
       "119488         0.0\n",
       "119489         0.0\n",
       "2265604        0.0\n",
       "\n",
       "[18607 rows x 1 columns]"
      ]
     },
     "execution_count": 11,
     "metadata": {},
     "output_type": "execute_result"
    }
   ],
   "source": [
    "#income_relation.groupby('total_income').mean().sort_values(by='debt',ascending = False)\n",
    "pivot_income_relation = data.pivot_table(index = 'total_income', values = 'debt')\n",
    "pivot_income_relation.sort_values(by = 'debt', ascending = False)"
   ]
  },
  {
   "cell_type": "markdown",
   "metadata": {},
   "source": [
    "### Вывод"
   ]
  },
  {
   "cell_type": "markdown",
   "metadata": {},
   "source": [
    "Ежемесячный заработок самый прямой показатель на платежеспосбность ,ведь без денег - нет и средств на погашение кредита. Здесь статистика показывает ,что зависимость абсолютно прямая"
   ]
  },
  {
   "cell_type": "code",
   "execution_count": 12,
   "metadata": {},
   "outputs": [
    {
     "data": {
      "text/html": [
       "<div>\n",
       "<style scoped>\n",
       "    .dataframe tbody tr th:only-of-type {\n",
       "        vertical-align: middle;\n",
       "    }\n",
       "\n",
       "    .dataframe tbody tr th {\n",
       "        vertical-align: top;\n",
       "    }\n",
       "\n",
       "    .dataframe thead th {\n",
       "        text-align: right;\n",
       "    }\n",
       "</style>\n",
       "<table border=\"1\" class=\"dataframe\">\n",
       "  <thead>\n",
       "    <tr style=\"text-align: right;\">\n",
       "      <th></th>\n",
       "      <th>debt</th>\n",
       "    </tr>\n",
       "    <tr>\n",
       "      <th>purpose</th>\n",
       "      <th></th>\n",
       "    </tr>\n",
       "  </thead>\n",
       "  <tbody>\n",
       "    <tr>\n",
       "      <td>автомобиль</td>\n",
       "      <td>0.093590</td>\n",
       "    </tr>\n",
       "    <tr>\n",
       "      <td>образование</td>\n",
       "      <td>0.092200</td>\n",
       "    </tr>\n",
       "    <tr>\n",
       "      <td>свадьба</td>\n",
       "      <td>0.080034</td>\n",
       "    </tr>\n",
       "    <tr>\n",
       "      <td>недвижимость</td>\n",
       "      <td>0.074634</td>\n",
       "    </tr>\n",
       "    <tr>\n",
       "      <td>жилье</td>\n",
       "      <td>0.069058</td>\n",
       "    </tr>\n",
       "  </tbody>\n",
       "</table>\n",
       "</div>"
      ],
      "text/plain": [
       "                  debt\n",
       "purpose               \n",
       "автомобиль    0.093590\n",
       "образование   0.092200\n",
       "свадьба       0.080034\n",
       "недвижимость  0.074634\n",
       "жилье         0.069058"
      ]
     },
     "execution_count": 12,
     "metadata": {},
     "output_type": "execute_result"
    }
   ],
   "source": [
    "#purpose_relation.groupby('purpose').mean().sort_values(by='debt',ascending = False)\n",
    "pivot_purpose_relation = data.pivot_table(index = 'purpose', values = 'debt')\n",
    "pivot_purpose_relation.sort_values(by = 'debt', ascending = False)"
   ]
  },
  {
   "cell_type": "markdown",
   "metadata": {},
   "source": [
    "### Вывод"
   ]
  },
  {
   "cell_type": "markdown",
   "metadata": {},
   "source": [
    "Зависимость от цели кредита влияет в обратном от логики понятии , то есть чем дороже/больше займ , тем чаще люди возвращают его в срок ,но это также может быть связанно с количеством времени ,которое дается на выплату и люди с течением времени уже привыкают к ежемесячной выплате в определенную сумму , когда машина или образование - быстрые кредиты , к которым нужно приспасабливаться и нету времени на ошибки в финансах ,что в обратном случае может привести к задержке в оплате в срок кредита"
   ]
  },
  {
   "cell_type": "markdown",
   "metadata": {},
   "source": [
    "### Шаг 4. Общий вывод"
   ]
  },
  {
   "cell_type": "markdown",
   "metadata": {},
   "source": [
    "Платежеспосбность однозначно зависит от количества детей , чем меньше их , тем лучше показатели выплаты в срок. Также заработная плата также очевидно влияет на платежеспособность клиента , ведь чем больше денег он получает ,тем легче ему будет выплатить данный кредит . Семейный статус и цель кредита не так однозначны ,но также видна логика , когда у людей по их семейному статусу предстоит измена ,у них и меняются цели кредита , тем самым делает их менее платежеспособными , ведь свадьба дело не дешевое,которое нужно успеть выплатить не в такой долгий срок , как жилье , так что для таких категорических параметров не хватает параметров на какое время они берут кредит , что на прямую зависит от их платежеспобности в срок.\n",
    "<br>\n",
    "Значит можем выделить гипотезы : \n",
    "<br>\n",
    "1)количество детей напрямую влияет на на платежеспобность \n",
    "<br>\n",
    "2)заработная плата также имеет прямое влияение на платежеспобность клиентта\n",
    "<br>\n",
    "3)люди ,которые женаты/замужем или были женаты/замужем имеют лучшую платежоспобность\n",
    "<br>\n",
    "4)чем дороже цель кредита , тем лучше у людей получается вернуть деньги в срок"
   ]
  },
  {
   "cell_type": "code",
   "execution_count": null,
   "metadata": {},
   "outputs": [],
   "source": []
  }
 ],
 "metadata": {
  "kernelspec": {
   "display_name": "Python 3",
   "language": "python",
   "name": "python3"
  },
  "language_info": {
   "codemirror_mode": {
    "name": "ipython",
    "version": 3
   },
   "file_extension": ".py",
   "mimetype": "text/x-python",
   "name": "python",
   "nbconvert_exporter": "python",
   "pygments_lexer": "ipython3",
   "version": "3.7.6"
  }
 },
 "nbformat": 4,
 "nbformat_minor": 2
}
