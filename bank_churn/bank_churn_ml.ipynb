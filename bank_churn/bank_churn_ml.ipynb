{
 "cells": [
  {
   "cell_type": "markdown",
   "metadata": {},
   "source": [
    "Источник данных: [https://www.kaggle.com/barelydedicated/bank-customer-churn-modeling](https://www.kaggle.com/barelydedicated/bank-customer-churn-modeling)"
   ]
  },
  {
   "cell_type": "markdown",
   "metadata": {},
   "source": [
    "# 1. Подготовка данных"
   ]
  },
  {
   "cell_type": "code",
   "execution_count": 1,
   "metadata": {},
   "outputs": [],
   "source": [
    "#importing libraries\n",
    "\n",
    "import pandas as pd\n",
    "import numpy as np\n",
    "#preprocessing data\n",
    "from sklearn.utils import shuffle\n",
    "from sklearn.model_selection import train_test_split\n",
    "from sklearn.preprocessing import StandardScaler\n",
    "#models\n",
    "from sklearn.tree import DecisionTreeClassifier\n",
    "from sklearn.ensemble import RandomForestClassifier\n",
    "from sklearn.linear_model import LogisticRegression\n",
    "#metrics\n",
    "from sklearn.metrics import f1_score\n",
    "from sklearn.metrics import roc_auc_score\n",
    "from sklearn.metrics import recall_score\n",
    "from sklearn.metrics import precision_score"
   ]
  },
  {
   "cell_type": "code",
   "execution_count": 2,
   "metadata": {},
   "outputs": [],
   "source": [
    "data = pd.read_csv('/datasets/Churn.csv')"
   ]
  },
  {
   "cell_type": "code",
   "execution_count": 3,
   "metadata": {
    "scrolled": true
   },
   "outputs": [
    {
     "data": {
      "text/html": [
       "<div>\n",
       "<style scoped>\n",
       "    .dataframe tbody tr th:only-of-type {\n",
       "        vertical-align: middle;\n",
       "    }\n",
       "\n",
       "    .dataframe tbody tr th {\n",
       "        vertical-align: top;\n",
       "    }\n",
       "\n",
       "    .dataframe thead th {\n",
       "        text-align: right;\n",
       "    }\n",
       "</style>\n",
       "<table border=\"1\" class=\"dataframe\">\n",
       "  <thead>\n",
       "    <tr style=\"text-align: right;\">\n",
       "      <th></th>\n",
       "      <th>RowNumber</th>\n",
       "      <th>CustomerId</th>\n",
       "      <th>Surname</th>\n",
       "      <th>CreditScore</th>\n",
       "      <th>Geography</th>\n",
       "      <th>Gender</th>\n",
       "      <th>Age</th>\n",
       "      <th>Tenure</th>\n",
       "      <th>Balance</th>\n",
       "      <th>NumOfProducts</th>\n",
       "      <th>HasCrCard</th>\n",
       "      <th>IsActiveMember</th>\n",
       "      <th>EstimatedSalary</th>\n",
       "      <th>Exited</th>\n",
       "    </tr>\n",
       "  </thead>\n",
       "  <tbody>\n",
       "    <tr>\n",
       "      <td>0</td>\n",
       "      <td>1</td>\n",
       "      <td>15634602</td>\n",
       "      <td>Hargrave</td>\n",
       "      <td>619</td>\n",
       "      <td>France</td>\n",
       "      <td>Female</td>\n",
       "      <td>42</td>\n",
       "      <td>2.0</td>\n",
       "      <td>0.00</td>\n",
       "      <td>1</td>\n",
       "      <td>1</td>\n",
       "      <td>1</td>\n",
       "      <td>101348.88</td>\n",
       "      <td>1</td>\n",
       "    </tr>\n",
       "    <tr>\n",
       "      <td>1</td>\n",
       "      <td>2</td>\n",
       "      <td>15647311</td>\n",
       "      <td>Hill</td>\n",
       "      <td>608</td>\n",
       "      <td>Spain</td>\n",
       "      <td>Female</td>\n",
       "      <td>41</td>\n",
       "      <td>1.0</td>\n",
       "      <td>83807.86</td>\n",
       "      <td>1</td>\n",
       "      <td>0</td>\n",
       "      <td>1</td>\n",
       "      <td>112542.58</td>\n",
       "      <td>0</td>\n",
       "    </tr>\n",
       "    <tr>\n",
       "      <td>2</td>\n",
       "      <td>3</td>\n",
       "      <td>15619304</td>\n",
       "      <td>Onio</td>\n",
       "      <td>502</td>\n",
       "      <td>France</td>\n",
       "      <td>Female</td>\n",
       "      <td>42</td>\n",
       "      <td>8.0</td>\n",
       "      <td>159660.80</td>\n",
       "      <td>3</td>\n",
       "      <td>1</td>\n",
       "      <td>0</td>\n",
       "      <td>113931.57</td>\n",
       "      <td>1</td>\n",
       "    </tr>\n",
       "    <tr>\n",
       "      <td>3</td>\n",
       "      <td>4</td>\n",
       "      <td>15701354</td>\n",
       "      <td>Boni</td>\n",
       "      <td>699</td>\n",
       "      <td>France</td>\n",
       "      <td>Female</td>\n",
       "      <td>39</td>\n",
       "      <td>1.0</td>\n",
       "      <td>0.00</td>\n",
       "      <td>2</td>\n",
       "      <td>0</td>\n",
       "      <td>0</td>\n",
       "      <td>93826.63</td>\n",
       "      <td>0</td>\n",
       "    </tr>\n",
       "    <tr>\n",
       "      <td>4</td>\n",
       "      <td>5</td>\n",
       "      <td>15737888</td>\n",
       "      <td>Mitchell</td>\n",
       "      <td>850</td>\n",
       "      <td>Spain</td>\n",
       "      <td>Female</td>\n",
       "      <td>43</td>\n",
       "      <td>2.0</td>\n",
       "      <td>125510.82</td>\n",
       "      <td>1</td>\n",
       "      <td>1</td>\n",
       "      <td>1</td>\n",
       "      <td>79084.10</td>\n",
       "      <td>0</td>\n",
       "    </tr>\n",
       "    <tr>\n",
       "      <td>...</td>\n",
       "      <td>...</td>\n",
       "      <td>...</td>\n",
       "      <td>...</td>\n",
       "      <td>...</td>\n",
       "      <td>...</td>\n",
       "      <td>...</td>\n",
       "      <td>...</td>\n",
       "      <td>...</td>\n",
       "      <td>...</td>\n",
       "      <td>...</td>\n",
       "      <td>...</td>\n",
       "      <td>...</td>\n",
       "      <td>...</td>\n",
       "      <td>...</td>\n",
       "    </tr>\n",
       "    <tr>\n",
       "      <td>9995</td>\n",
       "      <td>9996</td>\n",
       "      <td>15606229</td>\n",
       "      <td>Obijiaku</td>\n",
       "      <td>771</td>\n",
       "      <td>France</td>\n",
       "      <td>Male</td>\n",
       "      <td>39</td>\n",
       "      <td>5.0</td>\n",
       "      <td>0.00</td>\n",
       "      <td>2</td>\n",
       "      <td>1</td>\n",
       "      <td>0</td>\n",
       "      <td>96270.64</td>\n",
       "      <td>0</td>\n",
       "    </tr>\n",
       "    <tr>\n",
       "      <td>9996</td>\n",
       "      <td>9997</td>\n",
       "      <td>15569892</td>\n",
       "      <td>Johnstone</td>\n",
       "      <td>516</td>\n",
       "      <td>France</td>\n",
       "      <td>Male</td>\n",
       "      <td>35</td>\n",
       "      <td>10.0</td>\n",
       "      <td>57369.61</td>\n",
       "      <td>1</td>\n",
       "      <td>1</td>\n",
       "      <td>1</td>\n",
       "      <td>101699.77</td>\n",
       "      <td>0</td>\n",
       "    </tr>\n",
       "    <tr>\n",
       "      <td>9997</td>\n",
       "      <td>9998</td>\n",
       "      <td>15584532</td>\n",
       "      <td>Liu</td>\n",
       "      <td>709</td>\n",
       "      <td>France</td>\n",
       "      <td>Female</td>\n",
       "      <td>36</td>\n",
       "      <td>7.0</td>\n",
       "      <td>0.00</td>\n",
       "      <td>1</td>\n",
       "      <td>0</td>\n",
       "      <td>1</td>\n",
       "      <td>42085.58</td>\n",
       "      <td>1</td>\n",
       "    </tr>\n",
       "    <tr>\n",
       "      <td>9998</td>\n",
       "      <td>9999</td>\n",
       "      <td>15682355</td>\n",
       "      <td>Sabbatini</td>\n",
       "      <td>772</td>\n",
       "      <td>Germany</td>\n",
       "      <td>Male</td>\n",
       "      <td>42</td>\n",
       "      <td>3.0</td>\n",
       "      <td>75075.31</td>\n",
       "      <td>2</td>\n",
       "      <td>1</td>\n",
       "      <td>0</td>\n",
       "      <td>92888.52</td>\n",
       "      <td>1</td>\n",
       "    </tr>\n",
       "    <tr>\n",
       "      <td>9999</td>\n",
       "      <td>10000</td>\n",
       "      <td>15628319</td>\n",
       "      <td>Walker</td>\n",
       "      <td>792</td>\n",
       "      <td>France</td>\n",
       "      <td>Female</td>\n",
       "      <td>28</td>\n",
       "      <td>NaN</td>\n",
       "      <td>130142.79</td>\n",
       "      <td>1</td>\n",
       "      <td>1</td>\n",
       "      <td>0</td>\n",
       "      <td>38190.78</td>\n",
       "      <td>0</td>\n",
       "    </tr>\n",
       "  </tbody>\n",
       "</table>\n",
       "<p>10000 rows × 14 columns</p>\n",
       "</div>"
      ],
      "text/plain": [
       "      RowNumber  CustomerId    Surname  CreditScore Geography  Gender  Age  \\\n",
       "0             1    15634602   Hargrave          619    France  Female   42   \n",
       "1             2    15647311       Hill          608     Spain  Female   41   \n",
       "2             3    15619304       Onio          502    France  Female   42   \n",
       "3             4    15701354       Boni          699    France  Female   39   \n",
       "4             5    15737888   Mitchell          850     Spain  Female   43   \n",
       "...         ...         ...        ...          ...       ...     ...  ...   \n",
       "9995       9996    15606229   Obijiaku          771    France    Male   39   \n",
       "9996       9997    15569892  Johnstone          516    France    Male   35   \n",
       "9997       9998    15584532        Liu          709    France  Female   36   \n",
       "9998       9999    15682355  Sabbatini          772   Germany    Male   42   \n",
       "9999      10000    15628319     Walker          792    France  Female   28   \n",
       "\n",
       "      Tenure    Balance  NumOfProducts  HasCrCard  IsActiveMember  \\\n",
       "0        2.0       0.00              1          1               1   \n",
       "1        1.0   83807.86              1          0               1   \n",
       "2        8.0  159660.80              3          1               0   \n",
       "3        1.0       0.00              2          0               0   \n",
       "4        2.0  125510.82              1          1               1   \n",
       "...      ...        ...            ...        ...             ...   \n",
       "9995     5.0       0.00              2          1               0   \n",
       "9996    10.0   57369.61              1          1               1   \n",
       "9997     7.0       0.00              1          0               1   \n",
       "9998     3.0   75075.31              2          1               0   \n",
       "9999     NaN  130142.79              1          1               0   \n",
       "\n",
       "      EstimatedSalary  Exited  \n",
       "0           101348.88       1  \n",
       "1           112542.58       0  \n",
       "2           113931.57       1  \n",
       "3            93826.63       0  \n",
       "4            79084.10       0  \n",
       "...               ...     ...  \n",
       "9995         96270.64       0  \n",
       "9996        101699.77       0  \n",
       "9997         42085.58       1  \n",
       "9998         92888.52       1  \n",
       "9999         38190.78       0  \n",
       "\n",
       "[10000 rows x 14 columns]"
      ]
     },
     "execution_count": 3,
     "metadata": {},
     "output_type": "execute_result"
    }
   ],
   "source": [
    "data"
   ]
  },
  {
   "cell_type": "code",
   "execution_count": 4,
   "metadata": {},
   "outputs": [
    {
     "name": "stdout",
     "output_type": "stream",
     "text": [
      "<class 'pandas.core.frame.DataFrame'>\n",
      "RangeIndex: 10000 entries, 0 to 9999\n",
      "Data columns (total 14 columns):\n",
      "RowNumber          10000 non-null int64\n",
      "CustomerId         10000 non-null int64\n",
      "Surname            10000 non-null object\n",
      "CreditScore        10000 non-null int64\n",
      "Geography          10000 non-null object\n",
      "Gender             10000 non-null object\n",
      "Age                10000 non-null int64\n",
      "Tenure             9091 non-null float64\n",
      "Balance            10000 non-null float64\n",
      "NumOfProducts      10000 non-null int64\n",
      "HasCrCard          10000 non-null int64\n",
      "IsActiveMember     10000 non-null int64\n",
      "EstimatedSalary    10000 non-null float64\n",
      "Exited             10000 non-null int64\n",
      "dtypes: float64(3), int64(8), object(3)\n",
      "memory usage: 1.1+ MB\n"
     ]
    }
   ],
   "source": [
    "data.info()"
   ]
  },
  {
   "cell_type": "markdown",
   "metadata": {},
   "source": [
    "Чтобы использовать данные ,нужно определиться с признаками которые хотим использовать(сразу видно бесполезные для нас колонки: rownumber , customerid, surname) и ,если нужные категориальные признаки - предобработать их прямым или порядковым кодированием. Также провести масштабирование , так как численные колонки находятся в савершенно разных масштабах</h4>"
   ]
  },
  {
   "cell_type": "markdown",
   "metadata": {},
   "source": [
    "# 2. Исследование задачи"
   ]
  },
  {
   "cell_type": "code",
   "execution_count": 5,
   "metadata": {
    "scrolled": true
   },
   "outputs": [
    {
     "name": "stdout",
     "output_type": "stream",
     "text": [
      "<class 'pandas.core.frame.DataFrame'>\n",
      "Int64Index: 9091 entries, 0 to 9998\n",
      "Data columns (total 14 columns):\n",
      "RowNumber          9091 non-null int64\n",
      "CustomerId         9091 non-null int64\n",
      "Surname            9091 non-null object\n",
      "CreditScore        9091 non-null int64\n",
      "Geography          9091 non-null object\n",
      "Gender             9091 non-null object\n",
      "Age                9091 non-null int64\n",
      "Tenure             9091 non-null float64\n",
      "Balance            9091 non-null float64\n",
      "NumOfProducts      9091 non-null int64\n",
      "HasCrCard          9091 non-null int64\n",
      "IsActiveMember     9091 non-null int64\n",
      "EstimatedSalary    9091 non-null float64\n",
      "Exited             9091 non-null int64\n",
      "dtypes: float64(3), int64(8), object(3)\n",
      "memory usage: 1.0+ MB\n"
     ]
    }
   ],
   "source": [
    "data.dropna(inplace=True)\n",
    "data.info()"
   ]
  },
  {
   "cell_type": "markdown",
   "metadata": {},
   "source": [
    "В итоге понял ,что тетрадку свою локальную закачать не могу , а ячейки надо запустить. Смог открыть на сервере датасет с пропусками , посмотрел пропуски по графикам и подумав , мне кажется ,что заполнить их какой-то логикой здесь невозможно , Ни зарплата , Ни кредит , Ни возрастная группа не показала какого-то влияния , везде есть абсолютно разные случаи кол-во недвижимости . Возможно можно там притянуть зауши какую-то зависимость и на основе нее заполнить значения , но мне кажется ,что это будет искажением данных и скажется иначе на модели. Поэтому решил просто избавиться от данных строк. В связи с этим немного данные по наблюдениям изменились ,но в целом в лучшую сторону , хотя на тренировочных и валидационных результат не так однозначен и в чем-то лучше стал , в чем-то хуже стал"
   ]
  },
  {
   "cell_type": "code",
   "execution_count": 6,
   "metadata": {},
   "outputs": [
    {
     "name": "stdout",
     "output_type": "stream",
     "text": [
      "France     4550\n",
      "Germany    2293\n",
      "Spain      2248\n",
      "Name: Geography, dtype: int64\n",
      "Male      4974\n",
      "Female    4117\n",
      "Name: Gender, dtype: int64\n"
     ]
    }
   ],
   "source": [
    "#did OHE encoding oh Geography and Gender\n",
    "print(data['Geography'].value_counts())\n",
    "print(data['Gender'].value_counts())\n",
    "\n",
    "data_ohe = pd.get_dummies(data, columns = ['Geography', 'Gender'], drop_first = True)"
   ]
  },
  {
   "cell_type": "code",
   "execution_count": 7,
   "metadata": {},
   "outputs": [],
   "source": [
    "#we dont actually need first 3 columns so we can drop them as well\n",
    "df = data_ohe.drop(['RowNumber', 'CustomerId', 'Surname'], axis = 1)"
   ]
  },
  {
   "cell_type": "code",
   "execution_count": 8,
   "metadata": {},
   "outputs": [],
   "source": [
    "# splitting into 3 sets train, test, valid\n",
    "train_df, test_df = train_test_split(df, test_size = 0.3, random_state = 42)\n",
    "test_df, valid_df = train_test_split(test_df, test_size = 0.5, random_state = 42)"
   ]
  },
  {
   "cell_type": "code",
   "execution_count": 9,
   "metadata": {},
   "outputs": [],
   "source": [
    "#features\n",
    "features_train = train_df.drop('Exited', axis = 1)\n",
    "features_valid = valid_df.drop('Exited', axis = 1)\n",
    "features_test = test_df.drop('Exited', axis = 1)\n",
    "#target\n",
    "target_train = train_df['Exited']\n",
    "target_valid = valid_df['Exited']\n",
    "target_test = test_df['Exited']"
   ]
  },
  {
   "cell_type": "code",
   "execution_count": 10,
   "metadata": {},
   "outputs": [],
   "source": [
    "numeric = ['CreditScore', 'Age', 'Balance', 'EstimatedSalary',]\n",
    "#numeric = features_train.columns\n",
    "scaler = StandardScaler()\n",
    "scaler.fit(features_train[numeric])\n",
    "\n",
    "\n",
    "features_train[numeric] = scaler.transform(features_train[numeric])\n",
    "\n",
    "features_valid[numeric] = scaler.transform(features_valid[numeric])\n",
    "\n",
    "features_test[numeric] = scaler.transform(features_test[numeric]);"
   ]
  },
  {
   "cell_type": "markdown",
   "metadata": {},
   "source": [
    "Сделал сверху махинации с колонкой ,так как , если этого не делать ,то scaler будет выдавать массив ,вместо DataFrame и ,когда потребуется применить sample в задаче с дисбалансом - будет ошибка"
   ]
  },
  {
   "cell_type": "code",
   "execution_count": 11,
   "metadata": {},
   "outputs": [],
   "source": [
    "#function that will return DataFrame with all model's stats\n",
    "def modelStats(model, sett):\n",
    "    if sett == 'test':\n",
    "        probability = model.predict_proba(features_test)[:,1]\n",
    "        prediction = model.predict(features_test)\n",
    "        predicted_valid = pd.Series(prediction)\n",
    "        class_frequency = predicted_valid.value_counts(normalize=True)\n",
    "        d = {'AUC_ROC': [roc_auc_score(target_test, probability)],\\\n",
    "                 'F1': [f1_score(target_test, prediction)],\\\n",
    "                 'Accuracy': [model.score(features_test, target_test)],\\\n",
    "                 'Precision': [precision_score(target_test, prediction)],\\\n",
    "                 'Recall': [recall_score(target_test, prediction)]}\n",
    "        scores = pd.DataFrame(data = d)\n",
    "    elif sett == 'valid':\n",
    "        probability = model.predict_proba(features_valid)[:,1]\n",
    "        prediction = model.predict(features_valid)\n",
    "        predicted_valid = pd.Series(prediction)\n",
    "        class_frequency = predicted_valid.value_counts(normalize=True)\n",
    "        d = {'AUC_ROC': [roc_auc_score(target_valid, probability)],\\\n",
    "                 'F1': [f1_score(target_valid, prediction)],\\\n",
    "                 'Accuracy': [model.score(features_valid, target_valid)],\\\n",
    "                 'Precision': [precision_score(target_valid, prediction)],\\\n",
    "                 'Recall': [recall_score(target_valid, prediction)]}\n",
    "        scores = pd.DataFrame(data = d)\n",
    "    return scores"
   ]
  },
  {
   "cell_type": "code",
   "execution_count": 12,
   "metadata": {},
   "outputs": [
    {
     "name": "stdout",
     "output_type": "stream",
     "text": [
      "0    7237\n",
      "1    1854\n",
      "Name: Exited, dtype: int64\n"
     ]
    },
    {
     "name": "stderr",
     "output_type": "stream",
     "text": [
      "/opt/conda/lib/python3.7/site-packages/sklearn/ensemble/forest.py:245: FutureWarning: The default value of n_estimators will change from 10 in version 0.20 to 100 in 0.22.\n",
      "  \"10 in version 0.20 to 100 in 0.22.\", FutureWarning)\n"
     ]
    }
   ],
   "source": [
    "#training models\n",
    "forestModel = RandomForestClassifier(random_state = 42)\n",
    "forestModel.fit(features_train, target_train)\n",
    "\n",
    "treeModel = DecisionTreeClassifier(random_state = 42)\n",
    "treeModel.fit(features_train, target_train)\n",
    "\n",
    "logisModel = LogisticRegression(random_state = 42, solver='liblinear')\n",
    "logisModel.fit(features_train, target_train)\n",
    "\n",
    "#imbalanced target feature in DataFrame\n",
    "print(df['Exited'].value_counts())"
   ]
  },
  {
   "cell_type": "code",
   "execution_count": 13,
   "metadata": {},
   "outputs": [
    {
     "name": "stdout",
     "output_type": "stream",
     "text": [
      "Random Forest Classifier\n"
     ]
    },
    {
     "data": {
      "text/html": [
       "<div>\n",
       "<style scoped>\n",
       "    .dataframe tbody tr th:only-of-type {\n",
       "        vertical-align: middle;\n",
       "    }\n",
       "\n",
       "    .dataframe tbody tr th {\n",
       "        vertical-align: top;\n",
       "    }\n",
       "\n",
       "    .dataframe thead th {\n",
       "        text-align: right;\n",
       "    }\n",
       "</style>\n",
       "<table border=\"1\" class=\"dataframe\">\n",
       "  <thead>\n",
       "    <tr style=\"text-align: right;\">\n",
       "      <th></th>\n",
       "      <th>AUC_ROC</th>\n",
       "      <th>F1</th>\n",
       "      <th>Accuracy</th>\n",
       "      <th>Precision</th>\n",
       "      <th>Recall</th>\n",
       "      <th>balance</th>\n",
       "    </tr>\n",
       "  </thead>\n",
       "  <tbody>\n",
       "    <tr>\n",
       "      <td>0</td>\n",
       "      <td>0.803945</td>\n",
       "      <td>0.536471</td>\n",
       "      <td>0.855572</td>\n",
       "      <td>0.74026</td>\n",
       "      <td>0.420664</td>\n",
       "      <td>дисбаланс</td>\n",
       "    </tr>\n",
       "  </tbody>\n",
       "</table>\n",
       "</div>"
      ],
      "text/plain": [
       "    AUC_ROC        F1  Accuracy  Precision    Recall    balance\n",
       "0  0.803945  0.536471  0.855572    0.74026  0.420664  дисбаланс"
      ]
     },
     "execution_count": 13,
     "metadata": {},
     "output_type": "execute_result"
    }
   ],
   "source": [
    "statsRFC_disbalance = modelStats(forestModel, 'valid')\n",
    "print('Random Forest Classifier')\n",
    "statsRFC_disbalance['balance'] = 'дисбаланс'\n",
    "statsRFC_disbalance"
   ]
  },
  {
   "cell_type": "code",
   "execution_count": 14,
   "metadata": {},
   "outputs": [
    {
     "name": "stdout",
     "output_type": "stream",
     "text": [
      "Decision Tree Classifier\n"
     ]
    },
    {
     "data": {
      "text/html": [
       "<div>\n",
       "<style scoped>\n",
       "    .dataframe tbody tr th:only-of-type {\n",
       "        vertical-align: middle;\n",
       "    }\n",
       "\n",
       "    .dataframe tbody tr th {\n",
       "        vertical-align: top;\n",
       "    }\n",
       "\n",
       "    .dataframe thead th {\n",
       "        text-align: right;\n",
       "    }\n",
       "</style>\n",
       "<table border=\"1\" class=\"dataframe\">\n",
       "  <thead>\n",
       "    <tr style=\"text-align: right;\">\n",
       "      <th></th>\n",
       "      <th>AUC_ROC</th>\n",
       "      <th>F1</th>\n",
       "      <th>Accuracy</th>\n",
       "      <th>Precision</th>\n",
       "      <th>Recall</th>\n",
       "      <th>balance</th>\n",
       "    </tr>\n",
       "  </thead>\n",
       "  <tbody>\n",
       "    <tr>\n",
       "      <td>0</td>\n",
       "      <td>0.672164</td>\n",
       "      <td>0.472924</td>\n",
       "      <td>0.785924</td>\n",
       "      <td>0.462898</td>\n",
       "      <td>0.483395</td>\n",
       "      <td>дисбаланс</td>\n",
       "    </tr>\n",
       "  </tbody>\n",
       "</table>\n",
       "</div>"
      ],
      "text/plain": [
       "    AUC_ROC        F1  Accuracy  Precision    Recall    balance\n",
       "0  0.672164  0.472924  0.785924   0.462898  0.483395  дисбаланс"
      ]
     },
     "execution_count": 14,
     "metadata": {},
     "output_type": "execute_result"
    }
   ],
   "source": [
    "statsDTC_disbalance = modelStats(treeModel, 'valid')\n",
    "print('Decision Tree Classifier')\n",
    "statsDTC_disbalance['balance'] = 'дисбаланс'\n",
    "statsDTC_disbalance"
   ]
  },
  {
   "cell_type": "code",
   "execution_count": 15,
   "metadata": {},
   "outputs": [
    {
     "name": "stdout",
     "output_type": "stream",
     "text": [
      "Logistic Regression\n"
     ]
    },
    {
     "data": {
      "text/html": [
       "<div>\n",
       "<style scoped>\n",
       "    .dataframe tbody tr th:only-of-type {\n",
       "        vertical-align: middle;\n",
       "    }\n",
       "\n",
       "    .dataframe tbody tr th {\n",
       "        vertical-align: top;\n",
       "    }\n",
       "\n",
       "    .dataframe thead th {\n",
       "        text-align: right;\n",
       "    }\n",
       "</style>\n",
       "<table border=\"1\" class=\"dataframe\">\n",
       "  <thead>\n",
       "    <tr style=\"text-align: right;\">\n",
       "      <th></th>\n",
       "      <th>AUC_ROC</th>\n",
       "      <th>F1</th>\n",
       "      <th>Accuracy</th>\n",
       "      <th>Precision</th>\n",
       "      <th>Recall</th>\n",
       "      <th>balance</th>\n",
       "    </tr>\n",
       "  </thead>\n",
       "  <tbody>\n",
       "    <tr>\n",
       "      <td>0</td>\n",
       "      <td>0.745141</td>\n",
       "      <td>0.259366</td>\n",
       "      <td>0.811584</td>\n",
       "      <td>0.592105</td>\n",
       "      <td>0.166052</td>\n",
       "      <td>дисбаланс</td>\n",
       "    </tr>\n",
       "  </tbody>\n",
       "</table>\n",
       "</div>"
      ],
      "text/plain": [
       "    AUC_ROC        F1  Accuracy  Precision    Recall    balance\n",
       "0  0.745141  0.259366  0.811584   0.592105  0.166052  дисбаланс"
      ]
     },
     "execution_count": 15,
     "metadata": {},
     "output_type": "execute_result"
    }
   ],
   "source": [
    "statsLR_disbalance = modelStats(logisModel, 'valid')\n",
    "print('Logistic Regression')\n",
    "statsLR_disbalance['balance'] = 'дисбаланс'\n",
    "statsLR_disbalance"
   ]
  },
  {
   "cell_type": "code",
   "execution_count": 16,
   "metadata": {},
   "outputs": [
    {
     "data": {
      "text/plain": [
       "0    5064\n",
       "1    1299\n",
       "Name: Exited, dtype: int64"
      ]
     },
     "execution_count": 16,
     "metadata": {},
     "output_type": "execute_result"
    }
   ],
   "source": [
    "target_train.value_counts()"
   ]
  },
  {
   "cell_type": "markdown",
   "metadata": {},
   "source": [
    "<h4> Выводы о балансе </h4>\n",
    "<br>\n",
    "Наблюдаем достаточно большой дисбаланс в сторону 0 класса, на тренировочных данных эта разница примерно в 4 раза. Это оказало достаточно большое влияение на прогнозирование моделей, так как модель будет стараться в основном предугадывать 0 и будет показывать плохие результаты по всем положительным метрикам.\n",
    "<br>\n",
    "Случайный лес несмотря даже на это , показывает относительно неплохие результаты на тестовой выборке ,показывая неплохие метрики. Хорошая точность(precision) , неплохая относительно полнота отсюда и хороший показатель метрики F1. AUC_ROC даже достаточно близок к 1 ,но нужно улучшать модель , ведь неплохая - даже близко не значит хорошая ! \n",
    "<br>\n",
    "<br>\n",
    "А вот положительного уже меньше в случае с деревом решений, точность здесь и полнота не предcтавляют из себя ничего выдающегося и являются слабыми показателями , откуда и соответсвенно такое же значение F1 меры \n",
    "<br>\n",
    "У логистической регрессии все очень плохо , точность ненамного лучше дерева решений , зато полнота никакая - такая модель не далеко ушла он констаной модели ,которая предсказывает 0. Так как оба показатели слабые ,то и F1 очень слабая.\n",
    "<br>\n",
    "AUC-ROC что у дерева решений , что у логистической регрессии AUC-ROC 0.7 ,что относительно неплохо, ведь не так уж и близко к 0.5 ,но в то же время меньше ,чем у леса более ,чем на 0.1"
   ]
  },
  {
   "cell_type": "markdown",
   "metadata": {},
   "source": [
    "# 3. Борьба с дисбалансом"
   ]
  },
  {
   "cell_type": "code",
   "execution_count": 17,
   "metadata": {},
   "outputs": [
    {
     "name": "stderr",
     "output_type": "stream",
     "text": [
      "/opt/conda/lib/python3.7/site-packages/sklearn/ensemble/forest.py:245: FutureWarning: The default value of n_estimators will change from 10 in version 0.20 to 100 in 0.22.\n",
      "  \"10 in version 0.20 to 100 in 0.22.\", FutureWarning)\n"
     ]
    }
   ],
   "source": [
    "#Making the DataFrame for each model with all scores in there with each balancing method \n",
    "\n",
    "#class_weight parameter balanced\n",
    "\n",
    "logisModel = LogisticRegression(class_weight = 'balanced', solver = 'liblinear', random_state = 42)\n",
    "\n",
    "logisModel.fit(features_train, target_train)\n",
    "\n",
    "treeModel = DecisionTreeClassifier(class_weight = 'balanced', random_state = 42)\n",
    "\n",
    "treeModel.fit(features_train, target_train)\n",
    "\n",
    "forestModel = RandomForestClassifier(class_weight = 'balanced', random_state = 42)\n",
    "\n",
    "forestModel.fit(features_train, target_train);"
   ]
  },
  {
   "cell_type": "code",
   "execution_count": 18,
   "metadata": {},
   "outputs": [
    {
     "name": "stdout",
     "output_type": "stream",
     "text": [
      "Random Forest Classifier with parameter class_weight = balanced\n"
     ]
    },
    {
     "data": {
      "text/html": [
       "<div>\n",
       "<style scoped>\n",
       "    .dataframe tbody tr th:only-of-type {\n",
       "        vertical-align: middle;\n",
       "    }\n",
       "\n",
       "    .dataframe tbody tr th {\n",
       "        vertical-align: top;\n",
       "    }\n",
       "\n",
       "    .dataframe thead th {\n",
       "        text-align: right;\n",
       "    }\n",
       "</style>\n",
       "<table border=\"1\" class=\"dataframe\">\n",
       "  <thead>\n",
       "    <tr style=\"text-align: right;\">\n",
       "      <th></th>\n",
       "      <th>AUC_ROC</th>\n",
       "      <th>F1</th>\n",
       "      <th>Accuracy</th>\n",
       "      <th>Precision</th>\n",
       "      <th>Recall</th>\n",
       "      <th>balance</th>\n",
       "    </tr>\n",
       "  </thead>\n",
       "  <tbody>\n",
       "    <tr>\n",
       "      <td>0</td>\n",
       "      <td>0.789403</td>\n",
       "      <td>0.521531</td>\n",
       "      <td>0.853372</td>\n",
       "      <td>0.741497</td>\n",
       "      <td>0.402214</td>\n",
       "      <td>class_weight</td>\n",
       "    </tr>\n",
       "    <tr>\n",
       "      <td>0</td>\n",
       "      <td>0.803945</td>\n",
       "      <td>0.536471</td>\n",
       "      <td>0.855572</td>\n",
       "      <td>0.740260</td>\n",
       "      <td>0.420664</td>\n",
       "      <td>дисбаланс</td>\n",
       "    </tr>\n",
       "  </tbody>\n",
       "</table>\n",
       "</div>"
      ],
      "text/plain": [
       "    AUC_ROC        F1  Accuracy  Precision    Recall       balance\n",
       "0  0.789403  0.521531  0.853372   0.741497  0.402214  class_weight\n",
       "0  0.803945  0.536471  0.855572   0.740260  0.420664     дисбаланс"
      ]
     },
     "execution_count": 18,
     "metadata": {},
     "output_type": "execute_result"
    }
   ],
   "source": [
    "statsRFC_classweight = modelStats(forestModel, 'valid')\n",
    "print('Random Forest Classifier with parameter class_weight = balanced')\n",
    "statsRFC_classweight['balance'] = 'class_weight'\n",
    "statsRFC = pd.concat([statsRFC_classweight, statsRFC_disbalance])\n",
    "statsRFC"
   ]
  },
  {
   "cell_type": "code",
   "execution_count": 19,
   "metadata": {},
   "outputs": [
    {
     "name": "stdout",
     "output_type": "stream",
     "text": [
      "Decision Tree Classifier with parameter class_weight = balanced\n"
     ]
    },
    {
     "data": {
      "text/html": [
       "<div>\n",
       "<style scoped>\n",
       "    .dataframe tbody tr th:only-of-type {\n",
       "        vertical-align: middle;\n",
       "    }\n",
       "\n",
       "    .dataframe tbody tr th {\n",
       "        vertical-align: top;\n",
       "    }\n",
       "\n",
       "    .dataframe thead th {\n",
       "        text-align: right;\n",
       "    }\n",
       "</style>\n",
       "<table border=\"1\" class=\"dataframe\">\n",
       "  <thead>\n",
       "    <tr style=\"text-align: right;\">\n",
       "      <th></th>\n",
       "      <th>AUC_ROC</th>\n",
       "      <th>F1</th>\n",
       "      <th>Accuracy</th>\n",
       "      <th>Precision</th>\n",
       "      <th>Recall</th>\n",
       "      <th>balance</th>\n",
       "    </tr>\n",
       "  </thead>\n",
       "  <tbody>\n",
       "    <tr>\n",
       "      <td>0</td>\n",
       "      <td>0.709888</td>\n",
       "      <td>0.535055</td>\n",
       "      <td>0.815249</td>\n",
       "      <td>0.535055</td>\n",
       "      <td>0.535055</td>\n",
       "      <td>class_weight</td>\n",
       "    </tr>\n",
       "    <tr>\n",
       "      <td>0</td>\n",
       "      <td>0.672164</td>\n",
       "      <td>0.472924</td>\n",
       "      <td>0.785924</td>\n",
       "      <td>0.462898</td>\n",
       "      <td>0.483395</td>\n",
       "      <td>дисбаланс</td>\n",
       "    </tr>\n",
       "  </tbody>\n",
       "</table>\n",
       "</div>"
      ],
      "text/plain": [
       "    AUC_ROC        F1  Accuracy  Precision    Recall       balance\n",
       "0  0.709888  0.535055  0.815249   0.535055  0.535055  class_weight\n",
       "0  0.672164  0.472924  0.785924   0.462898  0.483395     дисбаланс"
      ]
     },
     "execution_count": 19,
     "metadata": {},
     "output_type": "execute_result"
    }
   ],
   "source": [
    "statsDTC_classweight = modelStats(treeModel, 'valid')\n",
    "print('Decision Tree Classifier with parameter class_weight = balanced')\n",
    "statsDTC_classweight['balance'] = 'class_weight'\n",
    "statsDTC = pd.concat([statsDTC_classweight, statsDTC_disbalance])\n",
    "statsDTC"
   ]
  },
  {
   "cell_type": "code",
   "execution_count": 20,
   "metadata": {},
   "outputs": [
    {
     "name": "stdout",
     "output_type": "stream",
     "text": [
      "Logistic Regression with parameter class_weight = balanced\n"
     ]
    },
    {
     "data": {
      "text/html": [
       "<div>\n",
       "<style scoped>\n",
       "    .dataframe tbody tr th:only-of-type {\n",
       "        vertical-align: middle;\n",
       "    }\n",
       "\n",
       "    .dataframe tbody tr th {\n",
       "        vertical-align: top;\n",
       "    }\n",
       "\n",
       "    .dataframe thead th {\n",
       "        text-align: right;\n",
       "    }\n",
       "</style>\n",
       "<table border=\"1\" class=\"dataframe\">\n",
       "  <thead>\n",
       "    <tr style=\"text-align: right;\">\n",
       "      <th></th>\n",
       "      <th>AUC_ROC</th>\n",
       "      <th>F1</th>\n",
       "      <th>Accuracy</th>\n",
       "      <th>Precision</th>\n",
       "      <th>Recall</th>\n",
       "      <th>balance</th>\n",
       "    </tr>\n",
       "  </thead>\n",
       "  <tbody>\n",
       "    <tr>\n",
       "      <td>0</td>\n",
       "      <td>0.749442</td>\n",
       "      <td>0.481108</td>\n",
       "      <td>0.697947</td>\n",
       "      <td>0.365201</td>\n",
       "      <td>0.704797</td>\n",
       "      <td>class_weight</td>\n",
       "    </tr>\n",
       "    <tr>\n",
       "      <td>0</td>\n",
       "      <td>0.745141</td>\n",
       "      <td>0.259366</td>\n",
       "      <td>0.811584</td>\n",
       "      <td>0.592105</td>\n",
       "      <td>0.166052</td>\n",
       "      <td>дисбаланс</td>\n",
       "    </tr>\n",
       "  </tbody>\n",
       "</table>\n",
       "</div>"
      ],
      "text/plain": [
       "    AUC_ROC        F1  Accuracy  Precision    Recall       balance\n",
       "0  0.749442  0.481108  0.697947   0.365201  0.704797  class_weight\n",
       "0  0.745141  0.259366  0.811584   0.592105  0.166052     дисбаланс"
      ]
     },
     "execution_count": 20,
     "metadata": {},
     "output_type": "execute_result"
    }
   ],
   "source": [
    "statsLR_classweight = modelStats(logisModel, 'valid')\n",
    "print('Logistic Regression with parameter class_weight = balanced')\n",
    "statsLR_classweight['balance'] = 'class_weight'\n",
    "statsLR = pd.concat([statsLR_classweight, statsLR_disbalance])\n",
    "statsLR"
   ]
  },
  {
   "cell_type": "code",
   "execution_count": 21,
   "metadata": {},
   "outputs": [
    {
     "name": "stdout",
     "output_type": "stream",
     "text": [
      "0    1519\n",
      "1    1299\n",
      "Name: Exited, dtype: int64\n"
     ]
    },
    {
     "name": "stderr",
     "output_type": "stream",
     "text": [
      "/opt/conda/lib/python3.7/site-packages/sklearn/ensemble/forest.py:245: FutureWarning: The default value of n_estimators will change from 10 in version 0.20 to 100 in 0.22.\n",
      "  \"10 in version 0.20 to 100 in 0.22.\", FutureWarning)\n"
     ]
    }
   ],
   "source": [
    "#downsampling\n",
    "\n",
    "def downsample(features, target, fraction):\n",
    "\n",
    "    features_zeros = features[target == 0]\n",
    "    features_ones = features[target == 1]\n",
    "    target_zeros = target[target == 0]\n",
    "    target_ones = target[target == 1]\n",
    "    \n",
    "    features_downsampled = pd.concat(\n",
    "        [features_zeros.sample(frac=fraction, random_state=42)] + [features_ones])\n",
    "    target_downsampled = pd.concat(\n",
    "        [target_zeros.sample(frac=fraction, random_state=42)] + [target_ones])\n",
    "    \n",
    "    features_downsampled, target_downsampled = shuffle(\n",
    "        features_downsampled, target_downsampled, random_state=42)\n",
    "    \n",
    "    return features_downsampled, target_downsampled\n",
    "\n",
    "features_downsampled, target_downsampled = downsample(features_train, target_train, 0.3)\n",
    "\n",
    "print(target_downsampled.value_counts())\n",
    "\n",
    "logisModel = LogisticRegression(solver = 'liblinear', random_state = 42)\n",
    "\n",
    "logisModel.fit(features_downsampled, target_downsampled)\n",
    "\n",
    "treeModel = DecisionTreeClassifier(random_state = 42)\n",
    "\n",
    "treeModel.fit(features_downsampled, target_downsampled)\n",
    "\n",
    "forestModel = RandomForestClassifier(random_state = 42)\n",
    "\n",
    "forestModel.fit(features_downsampled, target_downsampled);"
   ]
  },
  {
   "cell_type": "code",
   "execution_count": 22,
   "metadata": {},
   "outputs": [
    {
     "name": "stdout",
     "output_type": "stream",
     "text": [
      "Random Forest Classifier with downsampling\n"
     ]
    },
    {
     "data": {
      "text/html": [
       "<div>\n",
       "<style scoped>\n",
       "    .dataframe tbody tr th:only-of-type {\n",
       "        vertical-align: middle;\n",
       "    }\n",
       "\n",
       "    .dataframe tbody tr th {\n",
       "        vertical-align: top;\n",
       "    }\n",
       "\n",
       "    .dataframe thead th {\n",
       "        text-align: right;\n",
       "    }\n",
       "</style>\n",
       "<table border=\"1\" class=\"dataframe\">\n",
       "  <thead>\n",
       "    <tr style=\"text-align: right;\">\n",
       "      <th></th>\n",
       "      <th>AUC_ROC</th>\n",
       "      <th>F1</th>\n",
       "      <th>Accuracy</th>\n",
       "      <th>Precision</th>\n",
       "      <th>Recall</th>\n",
       "      <th>balance</th>\n",
       "    </tr>\n",
       "  </thead>\n",
       "  <tbody>\n",
       "    <tr>\n",
       "      <td>0</td>\n",
       "      <td>0.816079</td>\n",
       "      <td>0.566879</td>\n",
       "      <td>0.800587</td>\n",
       "      <td>0.498599</td>\n",
       "      <td>0.656827</td>\n",
       "      <td>downsampling</td>\n",
       "    </tr>\n",
       "    <tr>\n",
       "      <td>0</td>\n",
       "      <td>0.789403</td>\n",
       "      <td>0.521531</td>\n",
       "      <td>0.853372</td>\n",
       "      <td>0.741497</td>\n",
       "      <td>0.402214</td>\n",
       "      <td>class_weight</td>\n",
       "    </tr>\n",
       "    <tr>\n",
       "      <td>0</td>\n",
       "      <td>0.803945</td>\n",
       "      <td>0.536471</td>\n",
       "      <td>0.855572</td>\n",
       "      <td>0.740260</td>\n",
       "      <td>0.420664</td>\n",
       "      <td>дисбаланс</td>\n",
       "    </tr>\n",
       "  </tbody>\n",
       "</table>\n",
       "</div>"
      ],
      "text/plain": [
       "    AUC_ROC        F1  Accuracy  Precision    Recall       balance\n",
       "0  0.816079  0.566879  0.800587   0.498599  0.656827  downsampling\n",
       "0  0.789403  0.521531  0.853372   0.741497  0.402214  class_weight\n",
       "0  0.803945  0.536471  0.855572   0.740260  0.420664     дисбаланс"
      ]
     },
     "execution_count": 22,
     "metadata": {},
     "output_type": "execute_result"
    }
   ],
   "source": [
    "statsRFC_downsampled = modelStats(forestModel, 'valid')\n",
    "print('Random Forest Classifier with downsampling')\n",
    "statsRFC_downsampled['balance'] = 'downsampling'\n",
    "statsRFC = pd.concat([statsRFC_downsampled, statsRFC])\n",
    "statsRFC"
   ]
  },
  {
   "cell_type": "code",
   "execution_count": 23,
   "metadata": {},
   "outputs": [
    {
     "name": "stdout",
     "output_type": "stream",
     "text": [
      "Decision Tree Classifier with downsampling\n"
     ]
    },
    {
     "data": {
      "text/html": [
       "<div>\n",
       "<style scoped>\n",
       "    .dataframe tbody tr th:only-of-type {\n",
       "        vertical-align: middle;\n",
       "    }\n",
       "\n",
       "    .dataframe tbody tr th {\n",
       "        vertical-align: top;\n",
       "    }\n",
       "\n",
       "    .dataframe thead th {\n",
       "        text-align: right;\n",
       "    }\n",
       "</style>\n",
       "<table border=\"1\" class=\"dataframe\">\n",
       "  <thead>\n",
       "    <tr style=\"text-align: right;\">\n",
       "      <th></th>\n",
       "      <th>AUC_ROC</th>\n",
       "      <th>F1</th>\n",
       "      <th>Accuracy</th>\n",
       "      <th>Precision</th>\n",
       "      <th>Recall</th>\n",
       "      <th>balance</th>\n",
       "    </tr>\n",
       "  </thead>\n",
       "  <tbody>\n",
       "    <tr>\n",
       "      <td>0</td>\n",
       "      <td>0.708330</td>\n",
       "      <td>0.490470</td>\n",
       "      <td>0.706012</td>\n",
       "      <td>0.374031</td>\n",
       "      <td>0.712177</td>\n",
       "      <td>downsampling</td>\n",
       "    </tr>\n",
       "    <tr>\n",
       "      <td>0</td>\n",
       "      <td>0.709888</td>\n",
       "      <td>0.535055</td>\n",
       "      <td>0.815249</td>\n",
       "      <td>0.535055</td>\n",
       "      <td>0.535055</td>\n",
       "      <td>class_weight</td>\n",
       "    </tr>\n",
       "    <tr>\n",
       "      <td>0</td>\n",
       "      <td>0.672164</td>\n",
       "      <td>0.472924</td>\n",
       "      <td>0.785924</td>\n",
       "      <td>0.462898</td>\n",
       "      <td>0.483395</td>\n",
       "      <td>дисбаланс</td>\n",
       "    </tr>\n",
       "  </tbody>\n",
       "</table>\n",
       "</div>"
      ],
      "text/plain": [
       "    AUC_ROC        F1  Accuracy  Precision    Recall       balance\n",
       "0  0.708330  0.490470  0.706012   0.374031  0.712177  downsampling\n",
       "0  0.709888  0.535055  0.815249   0.535055  0.535055  class_weight\n",
       "0  0.672164  0.472924  0.785924   0.462898  0.483395     дисбаланс"
      ]
     },
     "execution_count": 23,
     "metadata": {},
     "output_type": "execute_result"
    }
   ],
   "source": [
    "statsDTC_downsampled = modelStats(treeModel, 'valid')\n",
    "print('Decision Tree Classifier with downsampling')\n",
    "statsDTC_downsampled['balance'] = 'downsampling'\n",
    "statsDTC = pd.concat([statsDTC_downsampled, statsDTC])\n",
    "statsDTC"
   ]
  },
  {
   "cell_type": "code",
   "execution_count": 24,
   "metadata": {},
   "outputs": [
    {
     "name": "stdout",
     "output_type": "stream",
     "text": [
      "Logistic Regression with downsampling\n"
     ]
    },
    {
     "data": {
      "text/html": [
       "<div>\n",
       "<style scoped>\n",
       "    .dataframe tbody tr th:only-of-type {\n",
       "        vertical-align: middle;\n",
       "    }\n",
       "\n",
       "    .dataframe tbody tr th {\n",
       "        vertical-align: top;\n",
       "    }\n",
       "\n",
       "    .dataframe thead th {\n",
       "        text-align: right;\n",
       "    }\n",
       "</style>\n",
       "<table border=\"1\" class=\"dataframe\">\n",
       "  <thead>\n",
       "    <tr style=\"text-align: right;\">\n",
       "      <th></th>\n",
       "      <th>AUC_ROC</th>\n",
       "      <th>F1</th>\n",
       "      <th>Accuracy</th>\n",
       "      <th>Precision</th>\n",
       "      <th>Recall</th>\n",
       "      <th>balance</th>\n",
       "    </tr>\n",
       "  </thead>\n",
       "  <tbody>\n",
       "    <tr>\n",
       "      <td>0</td>\n",
       "      <td>0.748608</td>\n",
       "      <td>0.481328</td>\n",
       "      <td>0.725073</td>\n",
       "      <td>0.384956</td>\n",
       "      <td>0.642066</td>\n",
       "      <td>downsampling</td>\n",
       "    </tr>\n",
       "    <tr>\n",
       "      <td>0</td>\n",
       "      <td>0.749442</td>\n",
       "      <td>0.481108</td>\n",
       "      <td>0.697947</td>\n",
       "      <td>0.365201</td>\n",
       "      <td>0.704797</td>\n",
       "      <td>class_weight</td>\n",
       "    </tr>\n",
       "    <tr>\n",
       "      <td>0</td>\n",
       "      <td>0.745141</td>\n",
       "      <td>0.259366</td>\n",
       "      <td>0.811584</td>\n",
       "      <td>0.592105</td>\n",
       "      <td>0.166052</td>\n",
       "      <td>дисбаланс</td>\n",
       "    </tr>\n",
       "  </tbody>\n",
       "</table>\n",
       "</div>"
      ],
      "text/plain": [
       "    AUC_ROC        F1  Accuracy  Precision    Recall       balance\n",
       "0  0.748608  0.481328  0.725073   0.384956  0.642066  downsampling\n",
       "0  0.749442  0.481108  0.697947   0.365201  0.704797  class_weight\n",
       "0  0.745141  0.259366  0.811584   0.592105  0.166052     дисбаланс"
      ]
     },
     "execution_count": 24,
     "metadata": {},
     "output_type": "execute_result"
    }
   ],
   "source": [
    "statsLR_downsampled = modelStats(logisModel, 'valid')\n",
    "print('Logistic Regression with downsampling')\n",
    "statsLR_downsampled['balance'] = 'downsampling'\n",
    "statsLR = pd.concat([statsLR_downsampled, statsLR])\n",
    "statsLR"
   ]
  },
  {
   "cell_type": "code",
   "execution_count": 25,
   "metadata": {},
   "outputs": [
    {
     "name": "stdout",
     "output_type": "stream",
     "text": [
      "1    5196\n",
      "0    5064\n",
      "Name: Exited, dtype: int64\n"
     ]
    },
    {
     "name": "stderr",
     "output_type": "stream",
     "text": [
      "/opt/conda/lib/python3.7/site-packages/sklearn/ensemble/forest.py:245: FutureWarning: The default value of n_estimators will change from 10 in version 0.20 to 100 in 0.22.\n",
      "  \"10 in version 0.20 to 100 in 0.22.\", FutureWarning)\n"
     ]
    }
   ],
   "source": [
    "#upsampling\n",
    "\n",
    "def upsample(features, target, repeat):\n",
    "    features_zeros = features[target == 0]\n",
    "    features_ones = features[target == 1]\n",
    "    target_zeros = target[target == 0]\n",
    "    target_ones = target[target == 1]\n",
    "\n",
    "    features_upsampled = pd.concat([features_zeros] + [features_ones] * repeat)\n",
    "    target_upsampled = pd.concat([target_zeros] + [target_ones] * repeat)\n",
    "    \n",
    "    features_upsampled, target_upsampled = shuffle(\n",
    "        features_upsampled, target_upsampled, random_state= 42 )\n",
    "    \n",
    "    return features_upsampled, target_upsampled\n",
    "\n",
    "features_upsampled, target_upsampled = upsample(features_train, target_train, 4)\n",
    "\n",
    "print(target_upsampled.value_counts())\n",
    "\n",
    "logisModel = LogisticRegression(solver = 'liblinear', random_state = 42)\n",
    "\n",
    "logisModel.fit(features_upsampled, target_upsampled)\n",
    "\n",
    "treeModel = DecisionTreeClassifier(random_state = 42)\n",
    "\n",
    "treeModel.fit(features_upsampled, target_upsampled)\n",
    "\n",
    "forestModel = RandomForestClassifier(random_state = 42)\n",
    "\n",
    "forestModel.fit(features_upsampled, target_upsampled);"
   ]
  },
  {
   "cell_type": "code",
   "execution_count": 26,
   "metadata": {},
   "outputs": [
    {
     "name": "stdout",
     "output_type": "stream",
     "text": [
      "Random Forest Classifier with upsampling\n"
     ]
    },
    {
     "data": {
      "text/html": [
       "<div>\n",
       "<style scoped>\n",
       "    .dataframe tbody tr th:only-of-type {\n",
       "        vertical-align: middle;\n",
       "    }\n",
       "\n",
       "    .dataframe tbody tr th {\n",
       "        vertical-align: top;\n",
       "    }\n",
       "\n",
       "    .dataframe thead th {\n",
       "        text-align: right;\n",
       "    }\n",
       "</style>\n",
       "<table border=\"1\" class=\"dataframe\">\n",
       "  <thead>\n",
       "    <tr style=\"text-align: right;\">\n",
       "      <th></th>\n",
       "      <th>AUC_ROC</th>\n",
       "      <th>F1</th>\n",
       "      <th>Accuracy</th>\n",
       "      <th>Precision</th>\n",
       "      <th>Recall</th>\n",
       "      <th>balance</th>\n",
       "    </tr>\n",
       "  </thead>\n",
       "  <tbody>\n",
       "    <tr>\n",
       "      <td>0</td>\n",
       "      <td>0.812073</td>\n",
       "      <td>0.565574</td>\n",
       "      <td>0.844575</td>\n",
       "      <td>0.635945</td>\n",
       "      <td>0.509225</td>\n",
       "      <td>upsampling</td>\n",
       "    </tr>\n",
       "    <tr>\n",
       "      <td>0</td>\n",
       "      <td>0.816079</td>\n",
       "      <td>0.566879</td>\n",
       "      <td>0.800587</td>\n",
       "      <td>0.498599</td>\n",
       "      <td>0.656827</td>\n",
       "      <td>downsampling</td>\n",
       "    </tr>\n",
       "    <tr>\n",
       "      <td>0</td>\n",
       "      <td>0.789403</td>\n",
       "      <td>0.521531</td>\n",
       "      <td>0.853372</td>\n",
       "      <td>0.741497</td>\n",
       "      <td>0.402214</td>\n",
       "      <td>class_weight</td>\n",
       "    </tr>\n",
       "    <tr>\n",
       "      <td>0</td>\n",
       "      <td>0.803945</td>\n",
       "      <td>0.536471</td>\n",
       "      <td>0.855572</td>\n",
       "      <td>0.740260</td>\n",
       "      <td>0.420664</td>\n",
       "      <td>дисбаланс</td>\n",
       "    </tr>\n",
       "  </tbody>\n",
       "</table>\n",
       "</div>"
      ],
      "text/plain": [
       "    AUC_ROC        F1  Accuracy  Precision    Recall       balance\n",
       "0  0.812073  0.565574  0.844575   0.635945  0.509225    upsampling\n",
       "0  0.816079  0.566879  0.800587   0.498599  0.656827  downsampling\n",
       "0  0.789403  0.521531  0.853372   0.741497  0.402214  class_weight\n",
       "0  0.803945  0.536471  0.855572   0.740260  0.420664     дисбаланс"
      ]
     },
     "execution_count": 26,
     "metadata": {},
     "output_type": "execute_result"
    }
   ],
   "source": [
    "statsRFC_upsampled = modelStats(forestModel, 'valid')\n",
    "print('Random Forest Classifier with upsampling')\n",
    "statsRFC_upsampled['balance'] = 'upsampling'\n",
    "statsRFC = pd.concat([statsRFC_upsampled, statsRFC])\n",
    "statsRFC"
   ]
  },
  {
   "cell_type": "code",
   "execution_count": 27,
   "metadata": {},
   "outputs": [
    {
     "name": "stdout",
     "output_type": "stream",
     "text": [
      "Decision Tree Classifier with upsampling\n"
     ]
    },
    {
     "data": {
      "text/html": [
       "<div>\n",
       "<style scoped>\n",
       "    .dataframe tbody tr th:only-of-type {\n",
       "        vertical-align: middle;\n",
       "    }\n",
       "\n",
       "    .dataframe tbody tr th {\n",
       "        vertical-align: top;\n",
       "    }\n",
       "\n",
       "    .dataframe thead th {\n",
       "        text-align: right;\n",
       "    }\n",
       "</style>\n",
       "<table border=\"1\" class=\"dataframe\">\n",
       "  <thead>\n",
       "    <tr style=\"text-align: right;\">\n",
       "      <th></th>\n",
       "      <th>AUC_ROC</th>\n",
       "      <th>F1</th>\n",
       "      <th>Accuracy</th>\n",
       "      <th>Precision</th>\n",
       "      <th>Recall</th>\n",
       "      <th>balance</th>\n",
       "    </tr>\n",
       "  </thead>\n",
       "  <tbody>\n",
       "    <tr>\n",
       "      <td>0</td>\n",
       "      <td>0.697903</td>\n",
       "      <td>0.516729</td>\n",
       "      <td>0.809384</td>\n",
       "      <td>0.520599</td>\n",
       "      <td>0.512915</td>\n",
       "      <td>upsampling</td>\n",
       "    </tr>\n",
       "    <tr>\n",
       "      <td>0</td>\n",
       "      <td>0.708330</td>\n",
       "      <td>0.490470</td>\n",
       "      <td>0.706012</td>\n",
       "      <td>0.374031</td>\n",
       "      <td>0.712177</td>\n",
       "      <td>downsampling</td>\n",
       "    </tr>\n",
       "    <tr>\n",
       "      <td>0</td>\n",
       "      <td>0.709888</td>\n",
       "      <td>0.535055</td>\n",
       "      <td>0.815249</td>\n",
       "      <td>0.535055</td>\n",
       "      <td>0.535055</td>\n",
       "      <td>class_weight</td>\n",
       "    </tr>\n",
       "    <tr>\n",
       "      <td>0</td>\n",
       "      <td>0.672164</td>\n",
       "      <td>0.472924</td>\n",
       "      <td>0.785924</td>\n",
       "      <td>0.462898</td>\n",
       "      <td>0.483395</td>\n",
       "      <td>дисбаланс</td>\n",
       "    </tr>\n",
       "  </tbody>\n",
       "</table>\n",
       "</div>"
      ],
      "text/plain": [
       "    AUC_ROC        F1  Accuracy  Precision    Recall       balance\n",
       "0  0.697903  0.516729  0.809384   0.520599  0.512915    upsampling\n",
       "0  0.708330  0.490470  0.706012   0.374031  0.712177  downsampling\n",
       "0  0.709888  0.535055  0.815249   0.535055  0.535055  class_weight\n",
       "0  0.672164  0.472924  0.785924   0.462898  0.483395     дисбаланс"
      ]
     },
     "execution_count": 27,
     "metadata": {},
     "output_type": "execute_result"
    }
   ],
   "source": [
    "statsDTC_upsampled = modelStats(treeModel, 'valid')\n",
    "print('Decision Tree Classifier with upsampling')\n",
    "statsDTC_upsampled['balance'] = 'upsampling'\n",
    "statsDTC = pd.concat([statsDTC_upsampled, statsDTC])\n",
    "statsDTC"
   ]
  },
  {
   "cell_type": "code",
   "execution_count": 28,
   "metadata": {},
   "outputs": [
    {
     "name": "stdout",
     "output_type": "stream",
     "text": [
      "Logistic Regression with upsampling\n"
     ]
    },
    {
     "data": {
      "text/html": [
       "<div>\n",
       "<style scoped>\n",
       "    .dataframe tbody tr th:only-of-type {\n",
       "        vertical-align: middle;\n",
       "    }\n",
       "\n",
       "    .dataframe tbody tr th {\n",
       "        vertical-align: top;\n",
       "    }\n",
       "\n",
       "    .dataframe thead th {\n",
       "        text-align: right;\n",
       "    }\n",
       "</style>\n",
       "<table border=\"1\" class=\"dataframe\">\n",
       "  <thead>\n",
       "    <tr style=\"text-align: right;\">\n",
       "      <th></th>\n",
       "      <th>AUC_ROC</th>\n",
       "      <th>F1</th>\n",
       "      <th>Accuracy</th>\n",
       "      <th>Precision</th>\n",
       "      <th>Recall</th>\n",
       "      <th>balance</th>\n",
       "      <th>model</th>\n",
       "    </tr>\n",
       "  </thead>\n",
       "  <tbody>\n",
       "    <tr>\n",
       "      <td>0</td>\n",
       "      <td>0.749456</td>\n",
       "      <td>0.475248</td>\n",
       "      <td>0.689150</td>\n",
       "      <td>0.357542</td>\n",
       "      <td>0.708487</td>\n",
       "      <td>upsampling</td>\n",
       "      <td>Logistic Regression</td>\n",
       "    </tr>\n",
       "    <tr>\n",
       "      <td>0</td>\n",
       "      <td>0.748608</td>\n",
       "      <td>0.481328</td>\n",
       "      <td>0.725073</td>\n",
       "      <td>0.384956</td>\n",
       "      <td>0.642066</td>\n",
       "      <td>downsampling</td>\n",
       "      <td>Logistic Regression</td>\n",
       "    </tr>\n",
       "    <tr>\n",
       "      <td>0</td>\n",
       "      <td>0.749442</td>\n",
       "      <td>0.481108</td>\n",
       "      <td>0.697947</td>\n",
       "      <td>0.365201</td>\n",
       "      <td>0.704797</td>\n",
       "      <td>class_weight</td>\n",
       "      <td>Logistic Regression</td>\n",
       "    </tr>\n",
       "    <tr>\n",
       "      <td>0</td>\n",
       "      <td>0.745141</td>\n",
       "      <td>0.259366</td>\n",
       "      <td>0.811584</td>\n",
       "      <td>0.592105</td>\n",
       "      <td>0.166052</td>\n",
       "      <td>дисбаланс</td>\n",
       "      <td>Logistic Regression</td>\n",
       "    </tr>\n",
       "  </tbody>\n",
       "</table>\n",
       "</div>"
      ],
      "text/plain": [
       "    AUC_ROC        F1  Accuracy  Precision    Recall       balance  \\\n",
       "0  0.749456  0.475248  0.689150   0.357542  0.708487    upsampling   \n",
       "0  0.748608  0.481328  0.725073   0.384956  0.642066  downsampling   \n",
       "0  0.749442  0.481108  0.697947   0.365201  0.704797  class_weight   \n",
       "0  0.745141  0.259366  0.811584   0.592105  0.166052     дисбаланс   \n",
       "\n",
       "                 model  \n",
       "0  Logistic Regression  \n",
       "0  Logistic Regression  \n",
       "0  Logistic Regression  \n",
       "0  Logistic Regression  "
      ]
     },
     "execution_count": 28,
     "metadata": {},
     "output_type": "execute_result"
    }
   ],
   "source": [
    "statsLR_upsampled = modelStats(logisModel, 'valid')\n",
    "print('Logistic Regression with upsampling')\n",
    "statsLR_upsampled['balance'] = 'upsampling'\n",
    "statsLR = pd.concat([statsLR_upsampled, statsLR])\n",
    "statsLR['model'] = 'Logistic Regression'\n",
    "statsLR"
   ]
  },
  {
   "cell_type": "code",
   "execution_count": 29,
   "metadata": {},
   "outputs": [
    {
     "name": "stdout",
     "output_type": "stream",
     "text": [
      "best f1 score for Random Forest on validation set = 0.6061588330632092 with the 47 estimators and depth =  9\n"
     ]
    }
   ],
   "source": [
    "#tweaking parameters for Random Forest Classifier\n",
    "\n",
    "best = 0\n",
    "est = 0\n",
    "d = 0\n",
    "auc_sc = np.array([])\n",
    "f1_sc = np.array([])\n",
    "for estim in range (1, 50, 1):\n",
    "    for depth in range(1, 10 ,1):\n",
    "        forestModel = RandomForestClassifier(max_depth = depth,n_estimators = estim, random_state = 42)\n",
    "    \n",
    "        forestModel.fit(features_upsampled, target_upsampled)\n",
    "    \n",
    "        forestPrediction = forestModel.predict(features_valid)\n",
    "        \n",
    "        forestPrediction_Proba = forestModel.predict_proba(features_valid)[:,1]\n",
    "    \n",
    "        f1 = f1_score(target_valid, forestPrediction)\n",
    "        \n",
    "        f1_sc = np.append(f1_sc, f1)\n",
    "        \n",
    "        auc_sc = np.append(auc_sc, roc_auc_score(target_valid, forestPrediction_Proba))\n",
    "        \n",
    "        if f1 > best:\n",
    "            best = f1\n",
    "            est = estim\n",
    "            d = depth\n",
    "print('best f1 score for Random Forest on validation set =',best,'with the {} estimators'.format(est),'and depth = ',d)"
   ]
  },
  {
   "cell_type": "code",
   "execution_count": 30,
   "metadata": {},
   "outputs": [
    {
     "data": {
      "text/html": [
       "<div>\n",
       "<style scoped>\n",
       "    .dataframe tbody tr th:only-of-type {\n",
       "        vertical-align: middle;\n",
       "    }\n",
       "\n",
       "    .dataframe tbody tr th {\n",
       "        vertical-align: top;\n",
       "    }\n",
       "\n",
       "    .dataframe thead th {\n",
       "        text-align: right;\n",
       "    }\n",
       "</style>\n",
       "<table border=\"1\" class=\"dataframe\">\n",
       "  <thead>\n",
       "    <tr style=\"text-align: right;\">\n",
       "      <th></th>\n",
       "      <th>auc</th>\n",
       "      <th>f1</th>\n",
       "    </tr>\n",
       "  </thead>\n",
       "  <tbody>\n",
       "    <tr>\n",
       "      <td>0</td>\n",
       "      <td>0.587151</td>\n",
       "      <td>0.362445</td>\n",
       "    </tr>\n",
       "    <tr>\n",
       "      <td>1</td>\n",
       "      <td>0.622288</td>\n",
       "      <td>0.370861</td>\n",
       "    </tr>\n",
       "    <tr>\n",
       "      <td>2</td>\n",
       "      <td>0.705589</td>\n",
       "      <td>0.439080</td>\n",
       "    </tr>\n",
       "    <tr>\n",
       "      <td>3</td>\n",
       "      <td>0.743466</td>\n",
       "      <td>0.505092</td>\n",
       "    </tr>\n",
       "    <tr>\n",
       "      <td>4</td>\n",
       "      <td>0.781420</td>\n",
       "      <td>0.490780</td>\n",
       "    </tr>\n",
       "    <tr>\n",
       "      <td>...</td>\n",
       "      <td>...</td>\n",
       "      <td>...</td>\n",
       "    </tr>\n",
       "    <tr>\n",
       "      <td>436</td>\n",
       "      <td>0.831590</td>\n",
       "      <td>0.546529</td>\n",
       "    </tr>\n",
       "    <tr>\n",
       "      <td>437</td>\n",
       "      <td>0.842461</td>\n",
       "      <td>0.560372</td>\n",
       "    </tr>\n",
       "    <tr>\n",
       "      <td>438</td>\n",
       "      <td>0.844845</td>\n",
       "      <td>0.580952</td>\n",
       "    </tr>\n",
       "    <tr>\n",
       "      <td>439</td>\n",
       "      <td>0.845862</td>\n",
       "      <td>0.584518</td>\n",
       "    </tr>\n",
       "    <tr>\n",
       "      <td>440</td>\n",
       "      <td>0.844941</td>\n",
       "      <td>0.602917</td>\n",
       "    </tr>\n",
       "  </tbody>\n",
       "</table>\n",
       "<p>441 rows × 2 columns</p>\n",
       "</div>"
      ],
      "text/plain": [
       "          auc        f1\n",
       "0    0.587151  0.362445\n",
       "1    0.622288  0.370861\n",
       "2    0.705589  0.439080\n",
       "3    0.743466  0.505092\n",
       "4    0.781420  0.490780\n",
       "..        ...       ...\n",
       "436  0.831590  0.546529\n",
       "437  0.842461  0.560372\n",
       "438  0.844845  0.580952\n",
       "439  0.845862  0.584518\n",
       "440  0.844941  0.602917\n",
       "\n",
       "[441 rows x 2 columns]"
      ]
     },
     "execution_count": 30,
     "metadata": {},
     "output_type": "execute_result"
    },
    {
     "data": {
      "image/png": "[encoded data removed]",
      "text/plain": [
       "<Figure size 432x288 with 1 Axes>"
      ]
     },
     "metadata": {
      "needs_background": "light"
     },
     "output_type": "display_data"
    },
    {
     "data": {
      "image/png": "[encoded data removed]",
      "text/plain": [
       "<Figure size 432x288 with 1 Axes>"
      ]
     },
     "metadata": {
      "needs_background": "light"
     },
     "output_type": "display_data"
    }
   ],
   "source": [
    "forestPlot = pd.DataFrame({'auc':auc_sc, 'f1':f1_sc})\n",
    "forestPlot.plot();\n",
    "forestPlot.plot('auc', 'f1', kind='scatter');\n",
    "forestPlot"
   ]
  },
  {
   "cell_type": "code",
   "execution_count": 31,
   "metadata": {},
   "outputs": [
    {
     "name": "stdout",
     "output_type": "stream",
     "text": [
      "best f1 score for Decision Tree on validation set = 0.575712143928036 with the 8 max depth\n"
     ]
    }
   ],
   "source": [
    "#tweaking parameters for Decision Tree Classifier\n",
    "best = 0\n",
    "ind = 0\n",
    "auc_sc = np.array([])\n",
    "f1_sc = np.array([])\n",
    "for index in range(1,50,1):\n",
    "    treeModel = DecisionTreeClassifier(class_weight = 'balanced',max_depth = index ,random_state = 42)\n",
    "    \n",
    "    treeModel.fit(features_train, target_train)\n",
    "    \n",
    "    treePrediction = treeModel.predict(features_valid)\n",
    "    \n",
    "    f1 = f1_score(target_valid, treePrediction)\n",
    "    \n",
    "    f1_sc = np.append(f1_sc, f1)\n",
    "    \n",
    "    treePrediction_Proba = treeModel.predict_proba(features_valid)[:,1]\n",
    "        \n",
    "    auc_sc = np.append(auc_sc, roc_auc_score(target_valid, treePrediction_Proba)) \n",
    "\n",
    "    if f1 > best:\n",
    "        best = f1\n",
    "        ind = index\n",
    "print('best f1 score for Decision Tree on validation set =',best,'with the {} max depth'.format(ind))"
   ]
  },
  {
   "cell_type": "code",
   "execution_count": 32,
   "metadata": {},
   "outputs": [
    {
     "data": {
      "image/png": "[encoded data removed]",
      "text/plain": [
       "<Figure size 432x288 with 1 Axes>"
      ]
     },
     "metadata": {
      "needs_background": "light"
     },
     "output_type": "display_data"
    }
   ],
   "source": [
    "scc = pd.DataFrame({'auc':auc_sc, 'f1':f1_sc})\n",
    "scc.plot();"
   ]
  },
  {
   "cell_type": "markdown",
   "metadata": {},
   "source": [
    "<h4>Выполнили 3 вида балансировки классов:</h4>\n",
    "\n",
    "Увеличение выборки в целом показал лучшие результаты по улучшению метрики F1 в случае с Random Forest Classifier и Logistic Regression, но для Decision Tree Classifier лучшее влияние оказал Class_weight='balanced. Но у увелечении выборки видна тенденция ,что Точность и Полнота примерно сбалансированы относительно друг-друга на всех моделях ,однако примерно та же ситуация у class_weight='balanced у Дерева решений. У уменьшения выборки заметен больший дисбаланс между Точностью и Полнотой, и на всех 3-ех моделях в сторону Полноты.\n",
    "<br>\n",
    "<br>\n",
    "Также изучив измерения AUC относительно F1 можно отметить , что она меняется синхронно с F1 при изменении параметров в случае с RandomForestClassifier ,но наблюдаем абсолютно наоборот в случае с DecisionTreeClassifier , где AUC остается монотонно с изменением параметров.\n",
    "<br>\n",
    "<br>\n",
    "Также так как метрики показали относительно похожие результаты относительно друг-друга, выбрали для подбора гиперпараметров в цикле данные, сбалансированные методом уменьшения выборки. Определяли их результативность по F1 ,так как она является в нашей задаче ключевой метрикой\n",
    "<br>\n",
    "<br>\n",
    "Лучшей моделью на валидационной выборке можно легко назвать Random Forest Regressor , еще до учета гиперпараметров это модель выдает на 0.1+ лучше показатель F1 и также имеет самый высокий AUC_ROC в 0.86 и для нее лучшей балансировкой показала Увелечение выборки"
   ]
  },
  {
   "cell_type": "code",
   "execution_count": 33,
   "metadata": {},
   "outputs": [
    {
     "data": {
      "text/html": [
       "<div>\n",
       "<style scoped>\n",
       "    .dataframe tbody tr th:only-of-type {\n",
       "        vertical-align: middle;\n",
       "    }\n",
       "\n",
       "    .dataframe tbody tr th {\n",
       "        vertical-align: top;\n",
       "    }\n",
       "\n",
       "    .dataframe thead th {\n",
       "        text-align: right;\n",
       "    }\n",
       "</style>\n",
       "<table border=\"1\" class=\"dataframe\">\n",
       "  <thead>\n",
       "    <tr style=\"text-align: right;\">\n",
       "      <th></th>\n",
       "      <th>AUC_ROC</th>\n",
       "      <th>F1</th>\n",
       "      <th>balance</th>\n",
       "      <th>model</th>\n",
       "    </tr>\n",
       "  </thead>\n",
       "  <tbody>\n",
       "    <tr>\n",
       "      <td>0</td>\n",
       "      <td>0.845690</td>\n",
       "      <td>0.606159</td>\n",
       "      <td>upsampling</td>\n",
       "      <td>Random Forest Classifier</td>\n",
       "    </tr>\n",
       "    <tr>\n",
       "      <td>0</td>\n",
       "      <td>0.842378</td>\n",
       "      <td>0.585965</td>\n",
       "      <td>class_weight</td>\n",
       "      <td>Random Forest Classifier</td>\n",
       "    </tr>\n",
       "    <tr>\n",
       "      <td>0</td>\n",
       "      <td>0.814138</td>\n",
       "      <td>0.575712</td>\n",
       "      <td>class_weight</td>\n",
       "      <td>Decision Tree Classifier</td>\n",
       "    </tr>\n",
       "    <tr>\n",
       "      <td>0</td>\n",
       "      <td>0.804438</td>\n",
       "      <td>0.574887</td>\n",
       "      <td>upsampling</td>\n",
       "      <td>Decision Tree Classifier</td>\n",
       "    </tr>\n",
       "    <tr>\n",
       "      <td>0</td>\n",
       "      <td>0.842986</td>\n",
       "      <td>0.574501</td>\n",
       "      <td>downsampling</td>\n",
       "      <td>Random Forest Classifier</td>\n",
       "    </tr>\n",
       "    <tr>\n",
       "      <td>0</td>\n",
       "      <td>0.787789</td>\n",
       "      <td>0.540230</td>\n",
       "      <td>downsampling</td>\n",
       "      <td>Decision Tree Classifier</td>\n",
       "    </tr>\n",
       "    <tr>\n",
       "      <td>0</td>\n",
       "      <td>0.748608</td>\n",
       "      <td>0.481328</td>\n",
       "      <td>downsampling</td>\n",
       "      <td>Logistic Regression</td>\n",
       "    </tr>\n",
       "    <tr>\n",
       "      <td>0</td>\n",
       "      <td>0.749442</td>\n",
       "      <td>0.481108</td>\n",
       "      <td>class_weight</td>\n",
       "      <td>Logistic Regression</td>\n",
       "    </tr>\n",
       "    <tr>\n",
       "      <td>0</td>\n",
       "      <td>0.749456</td>\n",
       "      <td>0.475248</td>\n",
       "      <td>upsampling</td>\n",
       "      <td>Logistic Regression</td>\n",
       "    </tr>\n",
       "    <tr>\n",
       "      <td>0</td>\n",
       "      <td>0.745141</td>\n",
       "      <td>0.259366</td>\n",
       "      <td>дисбаланс</td>\n",
       "      <td>Logistic Regression</td>\n",
       "    </tr>\n",
       "  </tbody>\n",
       "</table>\n",
       "</div>"
      ],
      "text/plain": [
       "    AUC_ROC        F1       balance                     model\n",
       "0  0.845690  0.606159    upsampling  Random Forest Classifier\n",
       "0  0.842378  0.585965  class_weight  Random Forest Classifier\n",
       "0  0.814138  0.575712  class_weight  Decision Tree Classifier\n",
       "0  0.804438  0.574887    upsampling  Decision Tree Classifier\n",
       "0  0.842986  0.574501  downsampling  Random Forest Classifier\n",
       "0  0.787789  0.540230  downsampling  Decision Tree Classifier\n",
       "0  0.748608  0.481328  downsampling       Logistic Regression\n",
       "0  0.749442  0.481108  class_weight       Logistic Regression\n",
       "0  0.749456  0.475248    upsampling       Logistic Regression\n",
       "0  0.745141  0.259366     дисбаланс       Logistic Regression"
      ]
     },
     "execution_count": 33,
     "metadata": {},
     "output_type": "execute_result"
    }
   ],
   "source": [
    "forestModel = RandomForestClassifier(max_depth = 9,n_estimators = 47, random_state = 42)\n",
    "forestModel.fit(features_downsampled, target_downsampled)\n",
    "forestDS= modelStats(forestModel, 'valid')\n",
    "forestDS['balance'] = 'downsampling'\n",
    "forestModel.fit(features_upsampled, target_upsampled)\n",
    "forestUS= modelStats(forestModel, 'valid')\n",
    "forestUS['balance'] = 'upsampling'\n",
    "forestModel = RandomForestClassifier(class_weight = 'balanced',max_depth = 9,n_estimators = 47, random_state = 42)\n",
    "forestModel.fit(features_train, target_train)\n",
    "forestCW = modelStats(forestModel, 'valid')\n",
    "forestCW['balance'] = 'class_weight'\n",
    "statsRFC = pd.concat([forestDS,forestUS,forestCW])\n",
    "statsRFC['model'] = 'Random Forest Classifier'\n",
    "\n",
    "treeModel = DecisionTreeClassifier(max_depth = 8, random_state = 42)\n",
    "treeModel.fit(features_downsampled, target_downsampled)\n",
    "treeDS= modelStats(treeModel, 'valid')\n",
    "treeDS['balance'] = 'downsampling'\n",
    "treeModel.fit(features_upsampled, target_upsampled)\n",
    "treeUS= modelStats(treeModel, 'valid')\n",
    "treeUS['balance'] = 'upsampling'\n",
    "treeModel = DecisionTreeClassifier(class_weight = 'balanced',max_depth = 8, random_state = 42)\n",
    "treeModel.fit(features_train, target_train)\n",
    "treeCW = modelStats(treeModel, 'valid')\n",
    "treeCW['balance'] = 'class_weight'\n",
    "statsDTC = pd.concat([treeDS,treeUS,treeCW])\n",
    "statsDTC['model'] = 'Decision Tree Classifier'\n",
    "\n",
    "stats =pd.concat([statsLR,statsRFC,statsDTC])\n",
    "stats.drop(['Accuracy', 'Precision', 'Recall'], axis = 1,inplace = True)\n",
    "stats.sort_values(by='F1', ascending = False)"
   ]
  },
  {
   "cell_type": "markdown",
   "metadata": {},
   "source": [
    "# 4. Тестирование модели"
   ]
  },
  {
   "cell_type": "code",
   "execution_count": 34,
   "metadata": {},
   "outputs": [],
   "source": [
    "#merging 2 datasets into 1 for training purposes and balancing that dataset \n",
    "\n",
    "featuress = pd.concat([features_train, features_valid])\n",
    "targett = pd.concat([target_train, target_valid])\n",
    "features_downsampled, target_downsampled = downsample(featuress, targett, 0.3)\n",
    "features_upsampled, target_upsampled = upsample(featuress, targett, 4)"
   ]
  },
  {
   "cell_type": "code",
   "execution_count": 35,
   "metadata": {},
   "outputs": [],
   "source": [
    "forestModel = RandomForestClassifier(max_depth = 9,n_estimators = 47, random_state = 42)\n",
    "forestModel.fit(features_downsampled, target_downsampled)\n",
    "testForestDS = modelStats(forestModel, 'test')\n",
    "testForestDS['balance'] = 'downsample'"
   ]
  },
  {
   "cell_type": "code",
   "execution_count": 36,
   "metadata": {},
   "outputs": [],
   "source": [
    "forestModel.fit(features_upsampled, target_upsampled)\n",
    "testForestUS = modelStats(forestModel, 'test')\n",
    "testForestUS['balance'] = 'upsample'"
   ]
  },
  {
   "cell_type": "code",
   "execution_count": 37,
   "metadata": {},
   "outputs": [
    {
     "name": "stdout",
     "output_type": "stream",
     "text": [
      "Random Forest Classifier test results:\n"
     ]
    },
    {
     "data": {
      "text/html": [
       "<div>\n",
       "<style scoped>\n",
       "    .dataframe tbody tr th:only-of-type {\n",
       "        vertical-align: middle;\n",
       "    }\n",
       "\n",
       "    .dataframe tbody tr th {\n",
       "        vertical-align: top;\n",
       "    }\n",
       "\n",
       "    .dataframe thead th {\n",
       "        text-align: right;\n",
       "    }\n",
       "</style>\n",
       "<table border=\"1\" class=\"dataframe\">\n",
       "  <thead>\n",
       "    <tr style=\"text-align: right;\">\n",
       "      <th></th>\n",
       "      <th>AUC_ROC</th>\n",
       "      <th>F1</th>\n",
       "      <th>Accuracy</th>\n",
       "      <th>Precision</th>\n",
       "      <th>Recall</th>\n",
       "      <th>balance</th>\n",
       "    </tr>\n",
       "  </thead>\n",
       "  <tbody>\n",
       "    <tr>\n",
       "      <td>0</td>\n",
       "      <td>0.865395</td>\n",
       "      <td>0.626391</td>\n",
       "      <td>0.827713</td>\n",
       "      <td>0.571014</td>\n",
       "      <td>0.693662</td>\n",
       "      <td>downsample</td>\n",
       "    </tr>\n",
       "    <tr>\n",
       "      <td>0</td>\n",
       "      <td>0.869135</td>\n",
       "      <td>0.625659</td>\n",
       "      <td>0.843842</td>\n",
       "      <td>0.624561</td>\n",
       "      <td>0.626761</td>\n",
       "      <td>class_weight</td>\n",
       "    </tr>\n",
       "    <tr>\n",
       "      <td>0</td>\n",
       "      <td>0.867984</td>\n",
       "      <td>0.621262</td>\n",
       "      <td>0.832845</td>\n",
       "      <td>0.588050</td>\n",
       "      <td>0.658451</td>\n",
       "      <td>upsample</td>\n",
       "    </tr>\n",
       "  </tbody>\n",
       "</table>\n",
       "</div>"
      ],
      "text/plain": [
       "    AUC_ROC        F1  Accuracy  Precision    Recall       balance\n",
       "0  0.865395  0.626391  0.827713   0.571014  0.693662    downsample\n",
       "0  0.869135  0.625659  0.843842   0.624561  0.626761  class_weight\n",
       "0  0.867984  0.621262  0.832845   0.588050  0.658451      upsample"
      ]
     },
     "execution_count": 37,
     "metadata": {},
     "output_type": "execute_result"
    }
   ],
   "source": [
    "forestModel = RandomForestClassifier(class_weight = 'balanced',max_depth = 9,n_estimators = 47, random_state = 42)\n",
    "forestModel.fit(featuress, targett)\n",
    "testForestCW = modelStats(forestModel, 'test')\n",
    "testForestCW['balance'] = 'class_weight'\n",
    "\n",
    "testForest = pd.concat([testForestDS,testForestUS,testForestCW])\n",
    "print('Random Forest Classifier test results:')\n",
    "testForest.sort_values(by = 'F1', ascending = False)"
   ]
  },
  {
   "cell_type": "code",
   "execution_count": 38,
   "metadata": {},
   "outputs": [],
   "source": [
    "treeModel = DecisionTreeClassifier(max_depth = 8, random_state = 42)\n",
    "treeModel.fit(features_downsampled, target_downsampled)\n",
    "testTreeDS = modelStats(treeModel, 'test')\n",
    "testTreeDS['balance'] = 'downsample'"
   ]
  },
  {
   "cell_type": "code",
   "execution_count": 39,
   "metadata": {},
   "outputs": [],
   "source": [
    "treeModel.fit(features_upsampled, target_upsampled)\n",
    "testTreeUS = modelStats(treeModel, 'test')\n",
    "testTreeUS['balance'] = 'upsample'"
   ]
  },
  {
   "cell_type": "code",
   "execution_count": 40,
   "metadata": {},
   "outputs": [
    {
     "name": "stdout",
     "output_type": "stream",
     "text": [
      "Decision Tree Classifier test results:\n"
     ]
    },
    {
     "data": {
      "text/html": [
       "<div>\n",
       "<style scoped>\n",
       "    .dataframe tbody tr th:only-of-type {\n",
       "        vertical-align: middle;\n",
       "    }\n",
       "\n",
       "    .dataframe tbody tr th {\n",
       "        vertical-align: top;\n",
       "    }\n",
       "\n",
       "    .dataframe thead th {\n",
       "        text-align: right;\n",
       "    }\n",
       "</style>\n",
       "<table border=\"1\" class=\"dataframe\">\n",
       "  <thead>\n",
       "    <tr style=\"text-align: right;\">\n",
       "      <th></th>\n",
       "      <th>AUC_ROC</th>\n",
       "      <th>F1</th>\n",
       "      <th>Accuracy</th>\n",
       "      <th>Precision</th>\n",
       "      <th>Recall</th>\n",
       "      <th>balance</th>\n",
       "    </tr>\n",
       "  </thead>\n",
       "  <tbody>\n",
       "    <tr>\n",
       "      <td>0</td>\n",
       "      <td>0.821984</td>\n",
       "      <td>0.579666</td>\n",
       "      <td>0.796921</td>\n",
       "      <td>0.509333</td>\n",
       "      <td>0.672535</td>\n",
       "      <td>downsample</td>\n",
       "    </tr>\n",
       "    <tr>\n",
       "      <td>0</td>\n",
       "      <td>0.817819</td>\n",
       "      <td>0.563380</td>\n",
       "      <td>0.772727</td>\n",
       "      <td>0.469484</td>\n",
       "      <td>0.704225</td>\n",
       "      <td>class_weight</td>\n",
       "    </tr>\n",
       "    <tr>\n",
       "      <td>0</td>\n",
       "      <td>0.816947</td>\n",
       "      <td>0.562588</td>\n",
       "      <td>0.771994</td>\n",
       "      <td>0.468384</td>\n",
       "      <td>0.704225</td>\n",
       "      <td>upsample</td>\n",
       "    </tr>\n",
       "  </tbody>\n",
       "</table>\n",
       "</div>"
      ],
      "text/plain": [
       "    AUC_ROC        F1  Accuracy  Precision    Recall       balance\n",
       "0  0.821984  0.579666  0.796921   0.509333  0.672535    downsample\n",
       "0  0.817819  0.563380  0.772727   0.469484  0.704225  class_weight\n",
       "0  0.816947  0.562588  0.771994   0.468384  0.704225      upsample"
      ]
     },
     "execution_count": 40,
     "metadata": {},
     "output_type": "execute_result"
    }
   ],
   "source": [
    "treeModel = DecisionTreeClassifier(class_weight = 'balanced',max_depth = 8, random_state = 42)\n",
    "treeModel.fit(featuress, targett)\n",
    "testTreeCW = modelStats(treeModel, 'test')\n",
    "testTreeCW['balance'] = 'class_weight'\n",
    "\n",
    "testTree = pd.concat([testTreeDS, testTreeUS, testTreeCW])\n",
    "print('Decision Tree Classifier test results:')\n",
    "testTree.sort_values(by = 'F1', ascending = False)"
   ]
  },
  {
   "cell_type": "code",
   "execution_count": 41,
   "metadata": {},
   "outputs": [],
   "source": [
    "logisModel = LogisticRegression(solver = 'liblinear',random_state = 42)\n",
    "logisModel.fit(features_downsampled, target_downsampled)\n",
    "testLogisDS = modelStats(logisModel, 'test')\n",
    "testLogisDS['balance'] = 'downsample'"
   ]
  },
  {
   "cell_type": "code",
   "execution_count": 42,
   "metadata": {},
   "outputs": [],
   "source": [
    "logisModel.fit(features_upsampled, target_upsampled)\n",
    "testLogisUS = modelStats(logisModel, 'test')\n",
    "testLogisUS['balance'] = 'upsample'"
   ]
  },
  {
   "cell_type": "code",
   "execution_count": 43,
   "metadata": {},
   "outputs": [
    {
     "name": "stdout",
     "output_type": "stream",
     "text": [
      "Logistic Regression test results:\n"
     ]
    },
    {
     "data": {
      "text/html": [
       "<div>\n",
       "<style scoped>\n",
       "    .dataframe tbody tr th:only-of-type {\n",
       "        vertical-align: middle;\n",
       "    }\n",
       "\n",
       "    .dataframe tbody tr th {\n",
       "        vertical-align: top;\n",
       "    }\n",
       "\n",
       "    .dataframe thead th {\n",
       "        text-align: right;\n",
       "    }\n",
       "</style>\n",
       "<table border=\"1\" class=\"dataframe\">\n",
       "  <thead>\n",
       "    <tr style=\"text-align: right;\">\n",
       "      <th></th>\n",
       "      <th>AUC_ROC</th>\n",
       "      <th>F1</th>\n",
       "      <th>Accuracy</th>\n",
       "      <th>Precision</th>\n",
       "      <th>Recall</th>\n",
       "      <th>balance</th>\n",
       "    </tr>\n",
       "  </thead>\n",
       "  <tbody>\n",
       "    <tr>\n",
       "      <td>0</td>\n",
       "      <td>0.777840</td>\n",
       "      <td>0.508941</td>\n",
       "      <td>0.738270</td>\n",
       "      <td>0.417607</td>\n",
       "      <td>0.651408</td>\n",
       "      <td>downsample</td>\n",
       "    </tr>\n",
       "    <tr>\n",
       "      <td>0</td>\n",
       "      <td>0.777713</td>\n",
       "      <td>0.495663</td>\n",
       "      <td>0.701613</td>\n",
       "      <td>0.382409</td>\n",
       "      <td>0.704225</td>\n",
       "      <td>class_weight</td>\n",
       "    </tr>\n",
       "    <tr>\n",
       "      <td>0</td>\n",
       "      <td>0.777784</td>\n",
       "      <td>0.493252</td>\n",
       "      <td>0.697214</td>\n",
       "      <td>0.378531</td>\n",
       "      <td>0.707746</td>\n",
       "      <td>upsample</td>\n",
       "    </tr>\n",
       "  </tbody>\n",
       "</table>\n",
       "</div>"
      ],
      "text/plain": [
       "    AUC_ROC        F1  Accuracy  Precision    Recall       balance\n",
       "0  0.777840  0.508941  0.738270   0.417607  0.651408    downsample\n",
       "0  0.777713  0.495663  0.701613   0.382409  0.704225  class_weight\n",
       "0  0.777784  0.493252  0.697214   0.378531  0.707746      upsample"
      ]
     },
     "execution_count": 43,
     "metadata": {},
     "output_type": "execute_result"
    }
   ],
   "source": [
    "logisModel = LogisticRegression(solver = 'liblinear', class_weight = 'balanced',random_state = 42)\n",
    "logisModel.fit(featuress, targett)\n",
    "testLogisCW = modelStats(logisModel, 'test')\n",
    "testLogisCW['balance'] = 'class_weight'\n",
    "\n",
    "testLogis = pd.concat([testLogisDS, testLogisUS, testLogisCW])\n",
    "print('Logistic Regression test results:')\n",
    "testLogis.sort_values(by = 'F1', ascending = False)"
   ]
  },
  {
   "cell_type": "markdown",
   "metadata": {},
   "source": [
    "Соеденили Тренировочную и Валидационную выборки и сбалансировали их уменьшением и увелечением выборки . Использовали ту же функцию для проверки на тестовой выборке. Свели все данные для каждой из моделей в свой DataFrame. Во всех моделях лучшим способом оказался увелечение выборки для лучшей F1 меры.\n",
    "<br>\n",
    "В целом лучшей моделью можно назвать в плане результативности RandomForestClassifier, которая смогла добиться F1 = 0.61  с методом увелечения выборки , в которой также точность 57% и полнота 65%, что говорят о умении модели определять истинно положительные ответы достаточно неплохо и охватывает из них чуть больше половины. \n",
    "<br>\n",
    "Дерево решений также неплохо справилась с заданием и добилась заветных F1 = 0.59,у которой также лучшие результаты с балансировкой методом увелечения выборки,что достаточно странно , ведь подбор гиперпараметров делали по class_weight = 'balanced' ,ибо она показала на валидационной выборки лучшие показатели , у которой точность 52% и полнота 68% ,не сильно отстает от Леса ,но если брать качество ,то эти пару процентов в некоторых случаях могут сыграть большую роль , так что лучше определяться что важнее - скорость или качество. Думаю в данном случае важнее качество ,поэтому фаворитом будет лес\n",
    "<br>\n",
    "Логистическая регрессия даже после всех небольших махинация не смогла набрать желанную отметку F1 в 0.59 , а смогла только максимум набрать 0.47 , точность и полнота у нее намного хуже чем у прошлых моделей , данная модель может быть потенциальна ,если нам в задаче была бы не так важна точность , но главной метрикой была бы полнота и скорость ,тогда можно было бы ее использовать\n",
    "<br>\n",
    "<br>\n",
    "Явным фаворитом выступает RandomForestRegressor  с лучшими F1 и AUC_ROC Показателями на увелечении выборки"
   ]
  }
 ],
 "metadata": {
  "kernelspec": {
   "display_name": "Python 3",
   "language": "python",
   "name": "python3"
  },
  "language_info": {
   "codemirror_mode": {
    "name": "ipython",
    "version": 3
   },
   "file_extension": ".py",
   "mimetype": "text/x-python",
   "name": "python",
   "nbconvert_exporter": "python",
   "pygments_lexer": "ipython3",
   "version": "3.7.7"
  }
 },
 "nbformat": 4,
 "nbformat_minor": 2
}
