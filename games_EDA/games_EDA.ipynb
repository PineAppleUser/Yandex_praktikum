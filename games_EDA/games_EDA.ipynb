{
 "cells": [
  {
   "cell_type": "markdown",
   "metadata": {},
   "source": [
    "<h1>Шаг 1: Выгрузка данных<h1>"
   ]
  },
  {
   "cell_type": "code",
   "execution_count": 124,
   "metadata": {},
   "outputs": [],
   "source": [
    "import pandas as pd\n",
    "from scipy import stats as st\n",
    "import numpy as np\n",
    "import seaborn as sns\n",
    "import matplotlib.pyplot as plt"
   ]
  },
  {
   "cell_type": "code",
   "execution_count": 125,
   "metadata": {},
   "outputs": [],
   "source": [
    "games_data = pd.read_csv('/Users/DanilBee/Desktop/Yandex_projects/Games/games.csv')"
   ]
  },
  {
   "cell_type": "code",
   "execution_count": 127,
   "metadata": {},
   "outputs": [
    {
     "name": "stdout",
     "output_type": "stream",
     "text": [
      "<class 'pandas.core.frame.DataFrame'>\n",
      "RangeIndex: 16715 entries, 0 to 16714\n",
      "Data columns (total 11 columns):\n",
      "Name               16713 non-null object\n",
      "Platform           16715 non-null object\n",
      "Year_of_Release    16446 non-null float64\n",
      "Genre              16713 non-null object\n",
      "NA_sales           16715 non-null float64\n",
      "EU_sales           16715 non-null float64\n",
      "JP_sales           16715 non-null float64\n",
      "Other_sales        16715 non-null float64\n",
      "Critic_Score       8137 non-null float64\n",
      "User_Score         10014 non-null object\n",
      "Rating             9949 non-null object\n",
      "dtypes: float64(6), object(5)\n",
      "memory usage: 1.4+ MB\n"
     ]
    }
   ],
   "source": [
    "games_data.info()"
   ]
  },
  {
   "cell_type": "markdown",
   "metadata": {},
   "source": [
    "<h2>Вывод:</h2>\n",
    "<br>\n",
    "<br>\n",
    "<p>Загрузили данные , сразу видно ,что есть множество проблем:\n",
    "    <ul>\n",
    "        <li>Название колонок с большой буквы</li>\n",
    "        <li>Есть столбцы с множеством пропусков:нужно понять столбцы ,где можно заполнить данные и где нету логической замены</li>\n",
    "        <li>Столбец с именем невозможно заполнить какой-то логикой ,но таких всего 2 , значит можно дропнуть такие строки без потери репрезентативности</li>\n",
    "        <li>Остальные столбцы нужно смотреть , ведь одна и та же игра может быть на разных платформах и в соотвествии с этим можно попробовать выполнить заполнение пропусков</li>\n",
    "        <li>Проверить на дупликаты и дропнуть их</li>\n",
    "        <li>Поменять форматы данных , на те с которыми можно работать</li>"
   ]
  },
  {
   "cell_type": "markdown",
   "metadata": {},
   "source": [
    "<h1> Шаг 2: Предобработка данных </h1>"
   ]
  },
  {
   "cell_type": "code",
   "execution_count": 128,
   "metadata": {},
   "outputs": [
    {
     "data": {
      "text/plain": [
       "Index(['name', 'platform', 'year_of_release', 'genre', 'na_sales', 'eu_sales',\n",
       "       'jp_sales', 'other_sales', 'critic_score', 'user_score', 'rating'],\n",
       "      dtype='object')"
      ]
     },
     "execution_count": 128,
     "metadata": {},
     "output_type": "execute_result"
    }
   ],
   "source": [
    "#changing the name of columns\n",
    "\n",
    "games_data.columns = ['name','platform','year_of_release','genre','na_sales','eu_sales',\n",
    "                      'jp_sales','other_sales','critic_score','user_score','rating']\n",
    "games_data.columns"
   ]
  },
  {
   "cell_type": "code",
   "execution_count": 131,
   "metadata": {},
   "outputs": [
    {
     "name": "stdout",
     "output_type": "stream",
     "text": [
      "<class 'pandas.core.frame.DataFrame'>\n",
      "Int64Index: 16444 entries, 0 to 16714\n",
      "Data columns (total 11 columns):\n",
      "name               16444 non-null object\n",
      "platform           16444 non-null object\n",
      "year_of_release    16444 non-null float64\n",
      "genre              16444 non-null object\n",
      "na_sales           16444 non-null float64\n",
      "eu_sales           16444 non-null float64\n",
      "jp_sales           16444 non-null float64\n",
      "other_sales        16444 non-null float64\n",
      "critic_score       7983 non-null float64\n",
      "user_score         9839 non-null object\n",
      "rating             9768 non-null object\n",
      "dtypes: float64(6), object(5)\n",
      "memory usage: 1.5+ MB\n"
     ]
    }
   ],
   "source": [
    "#dropping the nans in these columns : year_of_release has some but not much  so we can live with that\n",
    "#and name has only 2 missing values\n",
    "games_data.dropna(subset=['year_of_release'], inplace = True)\n",
    "games_data.dropna(subset=['name'], inplace = True)\n",
    "games_data.info()"
   ]
  },
  {
   "cell_type": "code",
   "execution_count": 132,
   "metadata": {},
   "outputs": [
    {
     "name": "stdout",
     "output_type": "stream",
     "text": [
      "<class 'pandas.core.frame.DataFrame'>\n",
      "Int64Index: 16444 entries, 0 to 16714\n",
      "Data columns (total 11 columns):\n",
      "name               16444 non-null object\n",
      "platform           16444 non-null object\n",
      "year_of_release    16444 non-null int64\n",
      "genre              16444 non-null object\n",
      "na_sales           16444 non-null float64\n",
      "eu_sales           16444 non-null float64\n",
      "jp_sales           16444 non-null float64\n",
      "other_sales        16444 non-null float64\n",
      "critic_score       7983 non-null float64\n",
      "user_score         7463 non-null float64\n",
      "rating             9768 non-null object\n",
      "dtypes: float64(6), int64(1), object(4)\n",
      "memory usage: 1.5+ MB\n"
     ]
    }
   ],
   "source": [
    "#tbd stands fro to be determined , so it basically means there is no vallue , we can replace this with nans\n",
    "games_data['user_score'].replace('tbd',np.nan, inplace=True)\n",
    "#after doing that we can make the column to numeric value so we can with user_score in the future analysis\n",
    "pd.to_numeric(games_data['user_score'], errors='ignore')\n",
    "games_data['user_score'] = games_data['user_score'].astype(float)\n",
    "games_data['year_of_release'] = games_data['year_of_release'].astype(int)\n",
    "games_data.info()"
   ]
  },
  {
   "cell_type": "code",
   "execution_count": 133,
   "metadata": {},
   "outputs": [],
   "source": [
    "#dropping duplicates\n",
    "games_data = games_data.drop_duplicates()"
   ]
  },
  {
   "cell_type": "markdown",
   "metadata": {},
   "source": [
    "<h2>Вывод</h2>\n",
    "<br>\n",
    "<br>\n",
    "<p>\n",
    "    Провели небольшую предобработку данных:\n",
    "    <ul>\n",
    "        <li>Заменили названия столбцов на строчные</li>\n",
    "        <li>Избавились от пары строк с пропавшим именем</li>\n",
    "        <li>Избавились от строк в годе выпуска,их было тоже немного(269) ,поэтому в репрезентативности данных не теряем, была идея восстановить данные на основе той же самой игры на другой платформе ,но код затратный по времени , и восстанавливает около 100 (что может быть не верно,ибо релиз той же игры на разных платформах может быть в разное время)</li>\n",
    "        <li>Была идея заполнить рейтинг по той же логике ,что и год выпуска , на основе других платформ взять среднее по оценкам и заполнить ими ,но код затратный на время и может также не отражать суть , ибо адаптирование игры на разные платформы или новые фичи в новой платформе могут поднять значительно рейтинг , а мы этого не учли.Также результат кода был достаточно мал ,поэтому просто будет жить с nan'ами)</li>\n",
    "        <li>Также заменили tbdв user_score на NaN ,так как tbd(to be determined) означает ,что нету еще значения , что совпадает по смыслу с NaN'ами и может работать как и с ними,так как все равно нету логической замены на что-то иное</li>\n",
    "        <li>В user_score значение столбца поменяли на численное для будущего анализа и работы с данными</li>\n",
    "        <li>Из измены типов данных можно сделать такую операцию только с year_of_release. Продажи идут в миллионах и округлять потеряем репрезентативность и будет максимально не правильно, либо умножать и превращать в int не вижу смысла</li>\n",
    "        <li>В конце всей работы вызвали метод drop_duplicates() и убрали дупликаты из таблицы</li>\n",
    "    </ul>"
   ]
  },
  {
   "cell_type": "markdown",
   "metadata": {},
   "source": [
    "<h1>Шаг 3: Исследовательский анализ данных</h1>"
   ]
  },
  {
   "cell_type": "code",
   "execution_count": 134,
   "metadata": {},
   "outputs": [
    {
     "data": {
      "text/plain": [
       "2008    1427\n",
       "2009    1426\n",
       "2010    1255\n",
       "2007    1197\n",
       "2011    1136\n",
       "        ... \n",
       "1990      16\n",
       "1988      15\n",
       "1984      14\n",
       "1985      14\n",
       "1980       9\n",
       "Name: year_of_release, Length: 37, dtype: int64"
      ]
     },
     "execution_count": 134,
     "metadata": {},
     "output_type": "execute_result"
    }
   ],
   "source": [
    "games_data['year_of_release'].value_counts()"
   ]
  },
  {
   "cell_type": "code",
   "execution_count": 135,
   "metadata": {},
   "outputs": [
    {
     "data": {
      "image/png": "[encoded data removed]",
      "text/plain": [
       "<Figure size 432x288 with 1 Axes>"
      ]
     },
     "metadata": {
      "needs_background": "light"
     },
     "output_type": "display_data"
    }
   ],
   "source": [
    "ax = sns.distplot(games_data['year_of_release'])"
   ]
  },
  {
   "cell_type": "markdown",
   "metadata": {},
   "source": [
    "Можно выделить актуальный период по выпуску игр: с 2000 года "
   ]
  },
  {
   "cell_type": "code",
   "execution_count": 136,
   "metadata": {},
   "outputs": [
    {
     "data": {
      "text/plain": [
       "PS2     2127\n",
       "DS      2121\n",
       "PS3     1306\n",
       "Wii     1286\n",
       "X360    1232\n",
       "        ... \n",
       "SCD        6\n",
       "3DO        3\n",
       "TG16       2\n",
       "GG         1\n",
       "PCFX       1\n",
       "Name: platform, Length: 31, dtype: int64"
      ]
     },
     "execution_count": 136,
     "metadata": {},
     "output_type": "execute_result"
    }
   ],
   "source": [
    "games_data['platform'].value_counts()\n",
    "#according on results I would choose the values from XOne without looking on the dates"
   ]
  },
  {
   "cell_type": "code",
   "execution_count": 137,
   "metadata": {},
   "outputs": [
    {
     "data": {
      "image/png": "[encoded data removed]",
      "text/plain": [
       "<Figure size 1152x648 with 1 Axes>"
      ]
     },
     "metadata": {
      "needs_background": "light"
     },
     "output_type": "display_data"
    }
   ],
   "source": [
    "plt.figure(figsize=(16,9))\n",
    "ax = sns.stripplot(x='platform',y='year_of_release',data=games_data, jitter = 0.05).set_title('Период жизни платформ');"
   ]
  },
  {
   "cell_type": "markdown",
   "metadata": {},
   "source": [
    "Характерный срок \"жизни\" каждой консоли можно заметить - составляет в среднем примерно 10 лет. \n",
    "<br>\n",
    "<br>\n",
    "Есть небольшие исключения из этого , например - ПК , после его появления он только набирал свою популярность ,но это легко объясняется тем,что под именем этой платформы происходят модификации постоянно и сама по себе платформа ,скорей всего, никогда не устареет.\n",
    "<br>\n",
    "<br>\n",
    "Остальные платформы - ограничены заводскими установками , поэтому выходят новые платформы от той же фирмы , и как мы видим примерно с периодичностью в 5 лет , и после этого каждая из платформ живет еще примерно 5 лет.\n",
    "<br>\n",
    "<br>\n",
    "Также можем наблюдать остальные не такие удачные платформы , которые существовали не так долго. И Были затменены огромным выбором в свой промежуток времени и не смогли быть конкуретноспособными\n",
    "<br>\n",
    "<br>\n",
    "Можно дать медаль ветерана платформе 2600, так как для своего времени он показал неплохие результаты и дал настрой , и мотивацию двигать данное направление вперед"
   ]
  },
  {
   "cell_type": "markdown",
   "metadata": {},
   "source": [
    "<strong>На основе данных 2 таблиц можно сделать вывод об актуальном периоде:</strong>\n",
    "<br>\n",
    "<br>\n",
    "По количеству выпуску игр по годам дает нам акутальный период с 2000 года\n",
    "<br>\n",
    "По актуальности приставок актуальный период с 2005-2006 года\n",
    "<br>\n",
    "<br>\n",
    "Так как нам нужно основываясь на <i>актуальном периоде</i> сделать выводы на 2017 год, нужно брать данные основываясь на акутальность годов ,но что более важно - платформ ! Поэтому актуальным периодом будет <strong>2006-2016</strong> , с которым продолжим работу "
   ]
  },
  {
   "cell_type": "code",
   "execution_count": 138,
   "metadata": {},
   "outputs": [],
   "source": [
    "#choosing the games that were up to an actual date that we chose \n",
    "games_upto_date = games_data[games_data['year_of_release'] > 2005]"
   ]
  },
  {
   "cell_type": "code",
   "execution_count": 139,
   "metadata": {},
   "outputs": [
    {
     "data": {
      "text/plain": [
       "DS      1979\n",
       "PS3     1306\n",
       "Wii     1286\n",
       "X360    1214\n",
       "PSP     1083\n",
       "        ... \n",
       "WiiU     147\n",
       "XB        66\n",
       "GBA       45\n",
       "GC        44\n",
       "DC         2\n",
       "Name: platform, Length: 16, dtype: int64"
      ]
     },
     "execution_count": 139,
     "metadata": {},
     "output_type": "execute_result"
    }
   ],
   "source": [
    "#choosing profitable platforms\n",
    "games_upto_date['platform'].value_counts()"
   ]
  },
  {
   "cell_type": "code",
   "execution_count": 140,
   "metadata": {},
   "outputs": [],
   "source": [
    "#Getting rid of low popularity in the relevant period\n",
    "games_upto_date = games_upto_date[(games_upto_date['platform'] != 'GBA') & (games_upto_date['platform'] !='GC') & (games_upto_date['platform'] !='DC') & (games_upto_date['platform'] !='XB')]"
   ]
  },
  {
   "cell_type": "code",
   "execution_count": 141,
   "metadata": {},
   "outputs": [],
   "source": [
    "#calcilating the sum of all kinds os sales into new columns\n",
    "games_upto_date['sum_sales'] = games_upto_date['na_sales'] + games_upto_date['eu_sales'] + games_upto_date['jp_sales'] + games_upto_date['other_sales']"
   ]
  },
  {
   "cell_type": "code",
   "execution_count": 142,
   "metadata": {},
   "outputs": [
    {
     "data": {
      "text/html": [
       "<div>\n",
       "<style scoped>\n",
       "    .dataframe tbody tr th:only-of-type {\n",
       "        vertical-align: middle;\n",
       "    }\n",
       "\n",
       "    .dataframe tbody tr th {\n",
       "        vertical-align: top;\n",
       "    }\n",
       "\n",
       "    .dataframe thead th {\n",
       "        text-align: right;\n",
       "    }\n",
       "</style>\n",
       "<table border=\"1\" class=\"dataframe\">\n",
       "  <thead>\n",
       "    <tr style=\"text-align: right;\">\n",
       "      <th></th>\n",
       "      <th></th>\n",
       "      <th>sum_sales</th>\n",
       "    </tr>\n",
       "    <tr>\n",
       "      <th>platform</th>\n",
       "      <th>year_of_release</th>\n",
       "      <th></th>\n",
       "    </tr>\n",
       "  </thead>\n",
       "  <tbody>\n",
       "    <tr>\n",
       "      <td rowspan=\"6\" valign=\"top\">3DS</td>\n",
       "      <td>2011</td>\n",
       "      <td>63.20</td>\n",
       "    </tr>\n",
       "    <tr>\n",
       "      <td>2012</td>\n",
       "      <td>51.36</td>\n",
       "    </tr>\n",
       "    <tr>\n",
       "      <td>2013</td>\n",
       "      <td>56.57</td>\n",
       "    </tr>\n",
       "    <tr>\n",
       "      <td>2014</td>\n",
       "      <td>43.76</td>\n",
       "    </tr>\n",
       "    <tr>\n",
       "      <td>2015</td>\n",
       "      <td>27.78</td>\n",
       "    </tr>\n",
       "    <tr>\n",
       "      <td>2016</td>\n",
       "      <td>15.14</td>\n",
       "    </tr>\n",
       "    <tr>\n",
       "      <td rowspan=\"8\" valign=\"top\">DS</td>\n",
       "      <td>2006</td>\n",
       "      <td>119.81</td>\n",
       "    </tr>\n",
       "    <tr>\n",
       "      <td>2007</td>\n",
       "      <td>146.94</td>\n",
       "    </tr>\n",
       "    <tr>\n",
       "      <td>2008</td>\n",
       "      <td>145.31</td>\n",
       "    </tr>\n",
       "    <tr>\n",
       "      <td>2009</td>\n",
       "      <td>119.54</td>\n",
       "    </tr>\n",
       "    <tr>\n",
       "      <td>2010</td>\n",
       "      <td>85.02</td>\n",
       "    </tr>\n",
       "    <tr>\n",
       "      <td>2011</td>\n",
       "      <td>26.18</td>\n",
       "    </tr>\n",
       "    <tr>\n",
       "      <td>2012</td>\n",
       "      <td>11.01</td>\n",
       "    </tr>\n",
       "    <tr>\n",
       "      <td>2013</td>\n",
       "      <td>1.54</td>\n",
       "    </tr>\n",
       "    <tr>\n",
       "      <td rowspan=\"11\" valign=\"top\">PC</td>\n",
       "      <td>2006</td>\n",
       "      <td>2.85</td>\n",
       "    </tr>\n",
       "    <tr>\n",
       "      <td>2007</td>\n",
       "      <td>9.28</td>\n",
       "    </tr>\n",
       "    <tr>\n",
       "      <td>2008</td>\n",
       "      <td>12.42</td>\n",
       "    </tr>\n",
       "    <tr>\n",
       "      <td>2009</td>\n",
       "      <td>16.91</td>\n",
       "    </tr>\n",
       "    <tr>\n",
       "      <td>2010</td>\n",
       "      <td>24.28</td>\n",
       "    </tr>\n",
       "    <tr>\n",
       "      <td>2011</td>\n",
       "      <td>35.03</td>\n",
       "    </tr>\n",
       "    <tr>\n",
       "      <td>2012</td>\n",
       "      <td>23.22</td>\n",
       "    </tr>\n",
       "    <tr>\n",
       "      <td>2013</td>\n",
       "      <td>12.38</td>\n",
       "    </tr>\n",
       "    <tr>\n",
       "      <td>2014</td>\n",
       "      <td>13.28</td>\n",
       "    </tr>\n",
       "    <tr>\n",
       "      <td>2015</td>\n",
       "      <td>8.52</td>\n",
       "    </tr>\n",
       "    <tr>\n",
       "      <td>2016</td>\n",
       "      <td>5.25</td>\n",
       "    </tr>\n",
       "    <tr>\n",
       "      <td rowspan=\"6\" valign=\"top\">PS2</td>\n",
       "      <td>2006</td>\n",
       "      <td>103.42</td>\n",
       "    </tr>\n",
       "    <tr>\n",
       "      <td>2007</td>\n",
       "      <td>75.99</td>\n",
       "    </tr>\n",
       "    <tr>\n",
       "      <td>2008</td>\n",
       "      <td>53.90</td>\n",
       "    </tr>\n",
       "    <tr>\n",
       "      <td>2009</td>\n",
       "      <td>26.40</td>\n",
       "    </tr>\n",
       "    <tr>\n",
       "      <td>2010</td>\n",
       "      <td>5.64</td>\n",
       "    </tr>\n",
       "    <tr>\n",
       "      <td>2011</td>\n",
       "      <td>0.45</td>\n",
       "    </tr>\n",
       "    <tr>\n",
       "      <td rowspan=\"11\" valign=\"top\">PS3</td>\n",
       "      <td>2006</td>\n",
       "      <td>20.96</td>\n",
       "    </tr>\n",
       "    <tr>\n",
       "      <td>2007</td>\n",
       "      <td>73.19</td>\n",
       "    </tr>\n",
       "    <tr>\n",
       "      <td>2008</td>\n",
       "      <td>118.52</td>\n",
       "    </tr>\n",
       "    <tr>\n",
       "      <td>2009</td>\n",
       "      <td>130.93</td>\n",
       "    </tr>\n",
       "    <tr>\n",
       "      <td>2010</td>\n",
       "      <td>142.17</td>\n",
       "    </tr>\n",
       "    <tr>\n",
       "      <td>2011</td>\n",
       "      <td>156.78</td>\n",
       "    </tr>\n",
       "    <tr>\n",
       "      <td>2012</td>\n",
       "      <td>107.36</td>\n",
       "    </tr>\n",
       "    <tr>\n",
       "      <td>2013</td>\n",
       "      <td>113.25</td>\n",
       "    </tr>\n",
       "    <tr>\n",
       "      <td>2014</td>\n",
       "      <td>47.76</td>\n",
       "    </tr>\n",
       "    <tr>\n",
       "      <td>2015</td>\n",
       "      <td>16.82</td>\n",
       "    </tr>\n",
       "    <tr>\n",
       "      <td>2016</td>\n",
       "      <td>3.60</td>\n",
       "    </tr>\n",
       "    <tr>\n",
       "      <td rowspan=\"4\" valign=\"top\">PS4</td>\n",
       "      <td>2013</td>\n",
       "      <td>25.99</td>\n",
       "    </tr>\n",
       "    <tr>\n",
       "      <td>2014</td>\n",
       "      <td>100.00</td>\n",
       "    </tr>\n",
       "    <tr>\n",
       "      <td>2015</td>\n",
       "      <td>118.90</td>\n",
       "    </tr>\n",
       "    <tr>\n",
       "      <td>2016</td>\n",
       "      <td>69.25</td>\n",
       "    </tr>\n",
       "    <tr>\n",
       "      <td rowspan=\"10\" valign=\"top\">PSP</td>\n",
       "      <td>2006</td>\n",
       "      <td>55.32</td>\n",
       "    </tr>\n",
       "    <tr>\n",
       "      <td>2007</td>\n",
       "      <td>46.93</td>\n",
       "    </tr>\n",
       "    <tr>\n",
       "      <td>2008</td>\n",
       "      <td>34.55</td>\n",
       "    </tr>\n",
       "    <tr>\n",
       "      <td>2009</td>\n",
       "      <td>37.78</td>\n",
       "    </tr>\n",
       "    <tr>\n",
       "      <td>2010</td>\n",
       "      <td>35.04</td>\n",
       "    </tr>\n",
       "    <tr>\n",
       "      <td>2011</td>\n",
       "      <td>17.82</td>\n",
       "    </tr>\n",
       "    <tr>\n",
       "      <td>2012</td>\n",
       "      <td>7.69</td>\n",
       "    </tr>\n",
       "    <tr>\n",
       "      <td>2013</td>\n",
       "      <td>3.14</td>\n",
       "    </tr>\n",
       "    <tr>\n",
       "      <td>2014</td>\n",
       "      <td>0.24</td>\n",
       "    </tr>\n",
       "    <tr>\n",
       "      <td>2015</td>\n",
       "      <td>0.12</td>\n",
       "    </tr>\n",
       "    <tr>\n",
       "      <td rowspan=\"6\" valign=\"top\">PSV</td>\n",
       "      <td>2011</td>\n",
       "      <td>4.63</td>\n",
       "    </tr>\n",
       "    <tr>\n",
       "      <td>2012</td>\n",
       "      <td>16.19</td>\n",
       "    </tr>\n",
       "    <tr>\n",
       "      <td>2013</td>\n",
       "      <td>10.59</td>\n",
       "    </tr>\n",
       "    <tr>\n",
       "      <td>2014</td>\n",
       "      <td>11.90</td>\n",
       "    </tr>\n",
       "    <tr>\n",
       "      <td>2015</td>\n",
       "      <td>6.25</td>\n",
       "    </tr>\n",
       "    <tr>\n",
       "      <td>2016</td>\n",
       "      <td>4.25</td>\n",
       "    </tr>\n",
       "    <tr>\n",
       "      <td rowspan=\"11\" valign=\"top\">Wii</td>\n",
       "      <td>2006</td>\n",
       "      <td>137.15</td>\n",
       "    </tr>\n",
       "    <tr>\n",
       "      <td>2007</td>\n",
       "      <td>152.77</td>\n",
       "    </tr>\n",
       "    <tr>\n",
       "      <td>2008</td>\n",
       "      <td>171.32</td>\n",
       "    </tr>\n",
       "    <tr>\n",
       "      <td>2009</td>\n",
       "      <td>206.97</td>\n",
       "    </tr>\n",
       "    <tr>\n",
       "      <td>2010</td>\n",
       "      <td>127.95</td>\n",
       "    </tr>\n",
       "    <tr>\n",
       "      <td>2011</td>\n",
       "      <td>59.65</td>\n",
       "    </tr>\n",
       "    <tr>\n",
       "      <td>2012</td>\n",
       "      <td>21.71</td>\n",
       "    </tr>\n",
       "    <tr>\n",
       "      <td>2013</td>\n",
       "      <td>8.59</td>\n",
       "    </tr>\n",
       "    <tr>\n",
       "      <td>2014</td>\n",
       "      <td>3.75</td>\n",
       "    </tr>\n",
       "    <tr>\n",
       "      <td>2015</td>\n",
       "      <td>1.14</td>\n",
       "    </tr>\n",
       "    <tr>\n",
       "      <td>2016</td>\n",
       "      <td>0.18</td>\n",
       "    </tr>\n",
       "    <tr>\n",
       "      <td rowspan=\"5\" valign=\"top\">WiiU</td>\n",
       "      <td>2012</td>\n",
       "      <td>17.56</td>\n",
       "    </tr>\n",
       "    <tr>\n",
       "      <td>2013</td>\n",
       "      <td>21.65</td>\n",
       "    </tr>\n",
       "    <tr>\n",
       "      <td>2014</td>\n",
       "      <td>22.03</td>\n",
       "    </tr>\n",
       "    <tr>\n",
       "      <td>2015</td>\n",
       "      <td>16.35</td>\n",
       "    </tr>\n",
       "    <tr>\n",
       "      <td>2016</td>\n",
       "      <td>4.60</td>\n",
       "    </tr>\n",
       "    <tr>\n",
       "      <td rowspan=\"11\" valign=\"top\">X360</td>\n",
       "      <td>2006</td>\n",
       "      <td>51.62</td>\n",
       "    </tr>\n",
       "    <tr>\n",
       "      <td>2007</td>\n",
       "      <td>95.41</td>\n",
       "    </tr>\n",
       "    <tr>\n",
       "      <td>2008</td>\n",
       "      <td>135.26</td>\n",
       "    </tr>\n",
       "    <tr>\n",
       "      <td>2009</td>\n",
       "      <td>120.29</td>\n",
       "    </tr>\n",
       "    <tr>\n",
       "      <td>2010</td>\n",
       "      <td>170.03</td>\n",
       "    </tr>\n",
       "    <tr>\n",
       "      <td>2011</td>\n",
       "      <td>143.84</td>\n",
       "    </tr>\n",
       "    <tr>\n",
       "      <td>2012</td>\n",
       "      <td>99.74</td>\n",
       "    </tr>\n",
       "    <tr>\n",
       "      <td>2013</td>\n",
       "      <td>88.58</td>\n",
       "    </tr>\n",
       "    <tr>\n",
       "      <td>2014</td>\n",
       "      <td>34.74</td>\n",
       "    </tr>\n",
       "    <tr>\n",
       "      <td>2015</td>\n",
       "      <td>11.96</td>\n",
       "    </tr>\n",
       "    <tr>\n",
       "      <td>2016</td>\n",
       "      <td>1.52</td>\n",
       "    </tr>\n",
       "    <tr>\n",
       "      <td rowspan=\"4\" valign=\"top\">XOne</td>\n",
       "      <td>2013</td>\n",
       "      <td>18.96</td>\n",
       "    </tr>\n",
       "    <tr>\n",
       "      <td>2014</td>\n",
       "      <td>54.07</td>\n",
       "    </tr>\n",
       "    <tr>\n",
       "      <td>2015</td>\n",
       "      <td>60.14</td>\n",
       "    </tr>\n",
       "    <tr>\n",
       "      <td>2016</td>\n",
       "      <td>26.15</td>\n",
       "    </tr>\n",
       "  </tbody>\n",
       "</table>\n",
       "</div>"
      ],
      "text/plain": [
       "                          sum_sales\n",
       "platform year_of_release           \n",
       "3DS      2011                 63.20\n",
       "         2012                 51.36\n",
       "         2013                 56.57\n",
       "         2014                 43.76\n",
       "         2015                 27.78\n",
       "         2016                 15.14\n",
       "DS       2006                119.81\n",
       "         2007                146.94\n",
       "         2008                145.31\n",
       "         2009                119.54\n",
       "         2010                 85.02\n",
       "         2011                 26.18\n",
       "         2012                 11.01\n",
       "         2013                  1.54\n",
       "PC       2006                  2.85\n",
       "         2007                  9.28\n",
       "         2008                 12.42\n",
       "         2009                 16.91\n",
       "         2010                 24.28\n",
       "         2011                 35.03\n",
       "         2012                 23.22\n",
       "         2013                 12.38\n",
       "         2014                 13.28\n",
       "         2015                  8.52\n",
       "         2016                  5.25\n",
       "PS2      2006                103.42\n",
       "         2007                 75.99\n",
       "         2008                 53.90\n",
       "         2009                 26.40\n",
       "         2010                  5.64\n",
       "         2011                  0.45\n",
       "PS3      2006                 20.96\n",
       "         2007                 73.19\n",
       "         2008                118.52\n",
       "         2009                130.93\n",
       "         2010                142.17\n",
       "         2011                156.78\n",
       "         2012                107.36\n",
       "         2013                113.25\n",
       "         2014                 47.76\n",
       "         2015                 16.82\n",
       "         2016                  3.60\n",
       "PS4      2013                 25.99\n",
       "         2014                100.00\n",
       "         2015                118.90\n",
       "         2016                 69.25\n",
       "PSP      2006                 55.32\n",
       "         2007                 46.93\n",
       "         2008                 34.55\n",
       "         2009                 37.78\n",
       "         2010                 35.04\n",
       "         2011                 17.82\n",
       "         2012                  7.69\n",
       "         2013                  3.14\n",
       "         2014                  0.24\n",
       "         2015                  0.12\n",
       "PSV      2011                  4.63\n",
       "         2012                 16.19\n",
       "         2013                 10.59\n",
       "         2014                 11.90\n",
       "         2015                  6.25\n",
       "         2016                  4.25\n",
       "Wii      2006                137.15\n",
       "         2007                152.77\n",
       "         2008                171.32\n",
       "         2009                206.97\n",
       "         2010                127.95\n",
       "         2011                 59.65\n",
       "         2012                 21.71\n",
       "         2013                  8.59\n",
       "         2014                  3.75\n",
       "         2015                  1.14\n",
       "         2016                  0.18\n",
       "WiiU     2012                 17.56\n",
       "         2013                 21.65\n",
       "         2014                 22.03\n",
       "         2015                 16.35\n",
       "         2016                  4.60\n",
       "X360     2006                 51.62\n",
       "         2007                 95.41\n",
       "         2008                135.26\n",
       "         2009                120.29\n",
       "         2010                170.03\n",
       "         2011                143.84\n",
       "         2012                 99.74\n",
       "         2013                 88.58\n",
       "         2014                 34.74\n",
       "         2015                 11.96\n",
       "         2016                  1.52\n",
       "XOne     2013                 18.96\n",
       "         2014                 54.07\n",
       "         2015                 60.14\n",
       "         2016                 26.15"
      ]
     },
     "execution_count": 142,
     "metadata": {},
     "output_type": "execute_result"
    }
   ],
   "source": [
    "#making a pivot table with the sum for each platform by year and displaying all the rows\n",
    "sales_platform_by_year = games_upto_date.pivot_table(index = ['platform','year_of_release'], values = 'sum_sales', aggfunc = 'sum')\n",
    "pd.set_option('display.max_rows', None)\n",
    "sales_platform_by_year"
   ]
  },
  {
   "cell_type": "markdown",
   "metadata": {},
   "source": [
    "После просмотра выручки за года, можно сделать вывод PS4 Самая прибыльная к 2015-2016 году платформа с результатом в 188. млн, за ней по прибыльности XOne 86.29 млн, также 3DS не сильно отстает на 2015-2016 42.92 млн, хотя объем выручки падает достаточно сильно. Далее PS3(20.42), X360(13.48), PC(13.77), WiiU(20.95), PSV(10.50) все они не имели запредельно высоких показателей ,но показывают отсносительно своих продаж неплохие результаты - с учетом того ,что в 2015-2016 году у всех неважные показатели по продажам и у более старых платформ виден тренд ,что с 2011 года у всех них падают продажи. Скорей всего , связано с анонсами ближайшего выхода следующих поколений и с их выходом окончательно упали. Видно особенно хорошо это по Wii ,только с выходом новой консоли у них лучше не стало\n",
    "<br>\n",
    "<br>\n",
    "Смотрел продажи за 2015-2016год ,ибо возможно данные за 2016 год еще не успели все поступить по продажам"
   ]
  },
  {
   "cell_type": "code",
   "execution_count": 143,
   "metadata": {},
   "outputs": [
    {
     "data": {
      "image/png": "[encoded data removed]",
      "text/plain": [
       "<Figure size 864x648 with 12 Axes>"
      ]
     },
     "metadata": {
      "needs_background": "light"
     },
     "output_type": "display_data"
    }
   ],
   "source": [
    "pd.set_option('display.max_rows', 10)\n",
    "#distribution quantity of sales by year\n",
    "g = sns.FacetGrid(games_upto_date, col = 'platform',col_wrap = 4);\n",
    "g = g.map(sns.distplot, 'year_of_release').set_titles('{col_name} количество продаж');\n",
    "g.set(ylim=(0, 1));\n",
    "#g.set(ylabel='относительная шкала кол-ва продаж')"
   ]
  },
  {
   "cell_type": "markdown",
   "metadata": {},
   "source": [
    "<h3>Графики продаж игр консолей по годам</h3>\n",
    "<ul>\n",
    "    <li>По графику <strong>Wii</strong> видно ,что продажи приходились на 2006-2012 года, пик был в 2008 , после этого продажи пошли на спад. Хотя консоль и была успешной в свои года и продавала большое количество ,но акутальность свою потеряла</li>\n",
    "    <li>У <strong>DS</strong> похожая ситуация ,но график более сконцетрирован между 2005 и 2010 , пик приходился на 2007, после 2010 продажи пошли на резкий спад и не представляет актуальности на 2017</li>\n",
    "    <li>У <strong>X360</strong> продажи идут неплохие и по 2016 год ,но идут на спад ,после пика  в 2011-2012 годах , но можно расчитывать на какие-то продажи по данной консоли</li>\n",
    "    <li><strong>PS3</strong> ситуация такая же как и у X360 ,только после пика в 2011-2012 годах , спад не такой резкий как у X360,также здесь можно вполне расчитывать на продажи по данной консоли</li>\n",
    "    <li><strong>PS4</strong> Имеет три пика примерно в 2013 году , в 2015 году и в 2016 году особенно , платформа новая , и продаж по ней не так много ,относительно ТОП 5 за данный период времени,Но она как видно по графику только набирает популярность и из в года в год показывает только лучше и лучше результаты . Однозначно PS4 Очень много обещающая консоль</li>\n",
    "    <li><strong>3DS</strong> также относительно новая модель ,которая показывает средние результаты , без какого-либо определенного пика (кроме небольшого на старте продаж),но продажи идут на убыль,также можно считать эту консоль акутальной и можно расчитывать на какие-то продажи в 2017</li>\n",
    "    <li><strong>PC</strong> как мы увидили также из прошлых графиков - платформа ,которая никогда не умрет и можно назвать ее даже \"вечной\" , хотя дела у нее ближе к 2007 стали хуже, видимо связано это с выходом нового вида консолей ,которые перетянули на себя часть одеяла также и из под PC,но на PC однозначно всегда можно расчитывать на продажи ,может не такие большие , но данная платформа вечная и проверенная временем</li>\n",
    "    <li><strong>XOne</strong> также консоль нового поколения ,которая только вышла и набирает только популярность и показывает все лучше и лучше результаты , видно сразу ,что уступает PS4 ,но также является многообещающей платформой ,на которую можно сделать ставку</li>\n",
    "    <li><strong>WiiU</strong> Также как и 3DS показывает средние результаты для относительно новой консоли ,но популярянось их обоих падает достаточно быстро , продажи какие-то будут ,но колосальными их точно не назовешь </li>\n",
    "    <li><strong>PS2</strong> Однозначно устарелая консоль ,которая была хороша в 2005 - 2010 года ,для своего времени показывала весьма неплохие результаты ,но на смену ей пришла PS3 ,расчитывать на продажи по ней точно не стит</li>\n",
    "    <li><strong>PSP</strong> также весьма неплохая консоль в плане показателей ,которая в своей время продала большое количество игр ,но ближе к 2015 продажи совсем упали</li>\n",
    "    <li>Падение на PSP можно связать с выходом ее замены - <strong>PSV</strong> ,которая перехватила все продажи и также на ряду с PS4 и XOne показывает весьма перспективные показатели по прадажам И также из года в год показывает все лучше и лучше результаты</li>"
   ]
  },
  {
   "cell_type": "markdown",
   "metadata": {},
   "source": [
    "<h3>Актуальность консолей:</h3>\n",
    "<br>\n",
    "<strong>Самыми актуальными будем считать эти консоли ,которые будут многообещающими на 2017:</strong>\n",
    "<ol>\n",
    "    <li>PS4</li>\n",
    "    <li>XOne</li>\n",
    "    <li>3DS</li>\n",
    "</ol>\n",
    "<strong>Более-менее актуальными будут:</strong>\n",
    "<ol>\n",
    "    <li>PS3</li>\n",
    "    <li>X360</li>\n",
    "    <li>WiiU</li>\n",
    "    <li>PC</li>\n",
    "    <li>PSV</li>\n",
    "</ol>"
   ]
  },
  {
   "cell_type": "code",
   "execution_count": 144,
   "metadata": {
    "scrolled": false
   },
   "outputs": [
    {
     "data": {
      "image/png": "[encoded data removed]",
      "text/plain": [
       "<Figure size 1152x648 with 1 Axes>"
      ]
     },
     "metadata": {
      "needs_background": "light"
     },
     "output_type": "display_data"
    }
   ],
   "source": [
    "top_platform = games_upto_date[(games_upto_date['platform'] == 'PS4') | (games_upto_date['platform'] == 'XOne') | \\\n",
    "                               (games_upto_date['platform'] == 'PS3') | (games_upto_date['platform'] == 'X360') | \\\n",
    "                               (games_upto_date['platform'] == '3DS')]\n",
    "\n",
    "plt.figure(figsize=(16,9))\n",
    "ax = sns.boxplot(data=top_platform,x='sum_sales',y='platform',palette='spring')\n",
    "ax.set(xlim=(0,20));"
   ]
  },
  {
   "cell_type": "code",
   "execution_count": 145,
   "metadata": {},
   "outputs": [
    {
     "name": "stdout",
     "output_type": "stream",
     "text": [
      "Средняя сумма продажи на платформе PS4: 801377$\n",
      "Средняя сумма продажи на платформе PS3: 713124$\n",
      "Средняя сумма продажи на платформе XOne: 645020$\n",
      "Средняя сумма продажи на платформе X360: 784999$\n",
      "Средняя сумма продажи на платформе 3DS: 503535$\n"
     ]
    }
   ],
   "source": [
    "print('Средняя сумма продажи на платформе PS4: {}$'.format(int((games_upto_date[games_upto_date['platform'] == 'PS4']['sum_sales'].mean())*1000000)))\n",
    "print('Средняя сумма продажи на платформе PS3: {}$'.format(int((games_upto_date[games_upto_date['platform'] == 'PS3']['sum_sales'].mean())*1000000)))\n",
    "print('Средняя сумма продажи на платформе XOne: {}$'.format(int((games_upto_date[games_upto_date['platform'] == 'XOne']['sum_sales'].mean())*1000000)))\n",
    "print('Средняя сумма продажи на платформе X360: {}$'.format(int((games_upto_date[games_upto_date['platform'] == 'X360']['sum_sales'].mean())*1000000)))\n",
    "print('Средняя сумма продажи на платформе 3DS: {}$'.format(int((games_upto_date[games_upto_date['platform'] == '3DS']['sum_sales'].mean())*1000000)))"
   ]
  },
  {
   "cell_type": "markdown",
   "metadata": {},
   "source": [
    "Глобальные продажи у более старых поколений(PS3 & X360: очень схожие результаты) показывают лучше результаты,чем новые (PS4 & XOne: очень схожие результаты), что объясняется разницей выпущенных игр ,так как эти консоли существовали дольше и история у них больше также из-за этого у большего количества людей есть старая платформа , новые же только набирают популярность и разработчики только переходят и адаптируются под новое поколение, не так много людей еще перешли на новые консоли , поэтому эти консоли из года в год показывают лучше результаты : больше пользователей,больше разработчиков переходят на проекты для новый консолей. Также у 3DS значительно отличаются показатели от всех остальных платформ , это связано с тем ,что остальные это \"статичные\" платформы , в то время как 3DS переносная и в связи с этим у нее железо слабее, и разработчики не могут выпускать те же игры ,что и на остальные платформы ,поэтому для них адаптируются версии с остальных Nintendo ,либо приходится создавать эксклюзивные проекты. Схожесть результатов одного покаления среди Microsoft и Sony заключается в том , что основная масса игр у них схожа , отличие в основном в нескольких эксклюзивах, Интерфейс, и эстетическое удовольсвтие от определенной платформы. Сравнивая значения средних , можно сделать вывод , что есть выбросы ,которые искажают среднее. У PS4 их особенно много , ведь в случае с Xbox сравнением , то там примерно пропорционально ,ведь как была небольшая разница с медианой у них ,что X360 чуть больше , так и со средним . У 3DS выбросов тоже не мало , ведь очень сильно отличается от медианы. Выбросами в случае игр можно предположить наличие каких-то очень успешных эксклюзивов ,которые возможно были на старте или в целом проект ,который имел очень хорошую маркетинговую кампанию ,что игру ждал весь мир и показатели были выше всех ожидаемых"
   ]
  },
  {
   "cell_type": "code",
   "execution_count": 146,
   "metadata": {},
   "outputs": [
    {
     "data": {
      "image/png": "[encoded data removed]",
      "text/plain": [
       "<Figure size 432x288 with 2 Axes>"
      ]
     },
     "metadata": {
      "needs_background": "light"
     },
     "output_type": "display_data"
    }
   ],
   "source": [
    "#correlation of user_score, critic_score to sales\n",
    "\n",
    "#plt.figure(figsize=(13,7));\n",
    "matrix = games_upto_date.drop('year_of_release',axis=1)\n",
    "sns.heatmap(matrix.corr(), annot=True).set_title('Матрица корреляции по всем платформам');"
   ]
  },
  {
   "cell_type": "code",
   "execution_count": 147,
   "metadata": {},
   "outputs": [
    {
     "data": {
      "image/png": "[encoded data removed]",
      "text/plain": [
       "<Figure size 360x360 with 1 Axes>"
      ]
     },
     "metadata": {
      "needs_background": "light"
     },
     "output_type": "display_data"
    },
    {
     "data": {
      "image/png": "[encoded data removed]",
      "text/plain": [
       "<Figure size 360x360 with 1 Axes>"
      ]
     },
     "metadata": {
      "needs_background": "light"
     },
     "output_type": "display_data"
    },
    {
     "data": {
      "text/html": [
       "<div>\n",
       "<style scoped>\n",
       "    .dataframe tbody tr th:only-of-type {\n",
       "        vertical-align: middle;\n",
       "    }\n",
       "\n",
       "    .dataframe tbody tr th {\n",
       "        vertical-align: top;\n",
       "    }\n",
       "\n",
       "    .dataframe thead th {\n",
       "        text-align: right;\n",
       "    }\n",
       "</style>\n",
       "<table border=\"1\" class=\"dataframe\">\n",
       "  <thead>\n",
       "    <tr style=\"text-align: right;\">\n",
       "      <th></th>\n",
       "      <th>na_sales</th>\n",
       "      <th>eu_sales</th>\n",
       "      <th>jp_sales</th>\n",
       "      <th>other_sales</th>\n",
       "      <th>critic_score</th>\n",
       "      <th>user_score</th>\n",
       "      <th>sum_sales</th>\n",
       "    </tr>\n",
       "  </thead>\n",
       "  <tbody>\n",
       "    <tr>\n",
       "      <td>na_sales</td>\n",
       "      <td>1.000000</td>\n",
       "      <td>0.785362</td>\n",
       "      <td>0.472981</td>\n",
       "      <td>0.944259</td>\n",
       "      <td>0.415008</td>\n",
       "      <td>-0.020933</td>\n",
       "      <td>0.928160</td>\n",
       "    </tr>\n",
       "    <tr>\n",
       "      <td>eu_sales</td>\n",
       "      <td>0.785362</td>\n",
       "      <td>1.000000</td>\n",
       "      <td>0.464563</td>\n",
       "      <td>0.944698</td>\n",
       "      <td>0.346720</td>\n",
       "      <td>-0.048925</td>\n",
       "      <td>0.958157</td>\n",
       "    </tr>\n",
       "    <tr>\n",
       "      <td>jp_sales</td>\n",
       "      <td>0.472981</td>\n",
       "      <td>0.464563</td>\n",
       "      <td>1.000000</td>\n",
       "      <td>0.496467</td>\n",
       "      <td>0.322358</td>\n",
       "      <td>0.171332</td>\n",
       "      <td>0.527129</td>\n",
       "    </tr>\n",
       "    <tr>\n",
       "      <td>other_sales</td>\n",
       "      <td>0.944259</td>\n",
       "      <td>0.944698</td>\n",
       "      <td>0.496467</td>\n",
       "      <td>1.000000</td>\n",
       "      <td>0.409191</td>\n",
       "      <td>-0.035639</td>\n",
       "      <td>0.998051</td>\n",
       "    </tr>\n",
       "    <tr>\n",
       "      <td>critic_score</td>\n",
       "      <td>0.415008</td>\n",
       "      <td>0.346720</td>\n",
       "      <td>0.322358</td>\n",
       "      <td>0.409191</td>\n",
       "      <td>1.000000</td>\n",
       "      <td>0.557654</td>\n",
       "      <td>0.406568</td>\n",
       "    </tr>\n",
       "    <tr>\n",
       "      <td>user_score</td>\n",
       "      <td>-0.020933</td>\n",
       "      <td>-0.048925</td>\n",
       "      <td>0.171332</td>\n",
       "      <td>-0.035639</td>\n",
       "      <td>0.557654</td>\n",
       "      <td>1.000000</td>\n",
       "      <td>-0.031957</td>\n",
       "    </tr>\n",
       "    <tr>\n",
       "      <td>sum_sales</td>\n",
       "      <td>0.928160</td>\n",
       "      <td>0.958157</td>\n",
       "      <td>0.527129</td>\n",
       "      <td>0.998051</td>\n",
       "      <td>0.406568</td>\n",
       "      <td>-0.031957</td>\n",
       "      <td>1.000000</td>\n",
       "    </tr>\n",
       "  </tbody>\n",
       "</table>\n",
       "</div>"
      ],
      "text/plain": [
       "              na_sales  eu_sales  jp_sales  other_sales  critic_score  \\\n",
       "na_sales      1.000000  0.785362  0.472981     0.944259      0.415008   \n",
       "eu_sales      0.785362  1.000000  0.464563     0.944698      0.346720   \n",
       "jp_sales      0.472981  0.464563  1.000000     0.496467      0.322358   \n",
       "other_sales   0.944259  0.944698  0.496467     1.000000      0.409191   \n",
       "critic_score  0.415008  0.346720  0.322358     0.409191      1.000000   \n",
       "user_score   -0.020933 -0.048925  0.171332    -0.035639      0.557654   \n",
       "sum_sales     0.928160  0.958157  0.527129     0.998051      0.406568   \n",
       "\n",
       "              user_score  sum_sales  \n",
       "na_sales       -0.020933   0.928160  \n",
       "eu_sales       -0.048925   0.958157  \n",
       "jp_sales        0.171332   0.527129  \n",
       "other_sales    -0.035639   0.998051  \n",
       "critic_score    0.557654   0.406568  \n",
       "user_score      1.000000  -0.031957  \n",
       "sum_sales      -0.031957   1.000000  "
      ]
     },
     "execution_count": 147,
     "metadata": {},
     "output_type": "execute_result"
    }
   ],
   "source": [
    "#ps4 correlation\n",
    "ps4_data = matrix[(matrix['platform'] == 'PS4')]\n",
    "g = sns.lmplot(x='user_score',y='sum_sales',data=ps4_data)\n",
    "g = plt.gca()\n",
    "g.set_title('График рассеяния: оценка пользователей PS4')\n",
    "plt.show()\n",
    "g = sns.lmplot(x='critic_score',y='sum_sales',data=ps4_data)\n",
    "g = plt.gca()\n",
    "g.set_title('График рассеяния: оценка критиков PS4')\n",
    "plt.show()\n",
    "ps4_data.corr()"
   ]
  },
  {
   "cell_type": "code",
   "execution_count": 148,
   "metadata": {},
   "outputs": [
    {
     "data": {
      "image/png": "[encoded data removed]",
      "text/plain": [
       "<Figure size 360x360 with 1 Axes>"
      ]
     },
     "metadata": {
      "needs_background": "light"
     },
     "output_type": "display_data"
    },
    {
     "data": {
      "image/png": "[encoded data removed]",
      "text/plain": [
       "<Figure size 360x360 with 1 Axes>"
      ]
     },
     "metadata": {
      "needs_background": "light"
     },
     "output_type": "display_data"
    },
    {
     "data": {
      "text/html": [
       "<div>\n",
       "<style scoped>\n",
       "    .dataframe tbody tr th:only-of-type {\n",
       "        vertical-align: middle;\n",
       "    }\n",
       "\n",
       "    .dataframe tbody tr th {\n",
       "        vertical-align: top;\n",
       "    }\n",
       "\n",
       "    .dataframe thead th {\n",
       "        text-align: right;\n",
       "    }\n",
       "</style>\n",
       "<table border=\"1\" class=\"dataframe\">\n",
       "  <thead>\n",
       "    <tr style=\"text-align: right;\">\n",
       "      <th></th>\n",
       "      <th>na_sales</th>\n",
       "      <th>eu_sales</th>\n",
       "      <th>jp_sales</th>\n",
       "      <th>other_sales</th>\n",
       "      <th>critic_score</th>\n",
       "      <th>user_score</th>\n",
       "      <th>sum_sales</th>\n",
       "    </tr>\n",
       "  </thead>\n",
       "  <tbody>\n",
       "    <tr>\n",
       "      <td>na_sales</td>\n",
       "      <td>1.000000</td>\n",
       "      <td>0.813041</td>\n",
       "      <td>0.344322</td>\n",
       "      <td>0.872154</td>\n",
       "      <td>0.454413</td>\n",
       "      <td>0.137699</td>\n",
       "      <td>0.936839</td>\n",
       "    </tr>\n",
       "    <tr>\n",
       "      <td>eu_sales</td>\n",
       "      <td>0.813041</td>\n",
       "      <td>1.000000</td>\n",
       "      <td>0.374296</td>\n",
       "      <td>0.974571</td>\n",
       "      <td>0.382536</td>\n",
       "      <td>0.087823</td>\n",
       "      <td>0.958120</td>\n",
       "    </tr>\n",
       "    <tr>\n",
       "      <td>jp_sales</td>\n",
       "      <td>0.344322</td>\n",
       "      <td>0.374296</td>\n",
       "      <td>1.000000</td>\n",
       "      <td>0.378520</td>\n",
       "      <td>0.202937</td>\n",
       "      <td>0.171022</td>\n",
       "      <td>0.458046</td>\n",
       "    </tr>\n",
       "    <tr>\n",
       "      <td>other_sales</td>\n",
       "      <td>0.872154</td>\n",
       "      <td>0.974571</td>\n",
       "      <td>0.378520</td>\n",
       "      <td>1.000000</td>\n",
       "      <td>0.394883</td>\n",
       "      <td>0.111490</td>\n",
       "      <td>0.976537</td>\n",
       "    </tr>\n",
       "    <tr>\n",
       "      <td>critic_score</td>\n",
       "      <td>0.454413</td>\n",
       "      <td>0.382536</td>\n",
       "      <td>0.202937</td>\n",
       "      <td>0.394883</td>\n",
       "      <td>1.000000</td>\n",
       "      <td>0.631154</td>\n",
       "      <td>0.432759</td>\n",
       "    </tr>\n",
       "    <tr>\n",
       "      <td>user_score</td>\n",
       "      <td>0.137699</td>\n",
       "      <td>0.087823</td>\n",
       "      <td>0.171022</td>\n",
       "      <td>0.111490</td>\n",
       "      <td>0.631154</td>\n",
       "      <td>1.000000</td>\n",
       "      <td>0.128416</td>\n",
       "    </tr>\n",
       "    <tr>\n",
       "      <td>sum_sales</td>\n",
       "      <td>0.936839</td>\n",
       "      <td>0.958120</td>\n",
       "      <td>0.458046</td>\n",
       "      <td>0.976537</td>\n",
       "      <td>0.432759</td>\n",
       "      <td>0.128416</td>\n",
       "      <td>1.000000</td>\n",
       "    </tr>\n",
       "  </tbody>\n",
       "</table>\n",
       "</div>"
      ],
      "text/plain": [
       "              na_sales  eu_sales  jp_sales  other_sales  critic_score  \\\n",
       "na_sales      1.000000  0.813041  0.344322     0.872154      0.454413   \n",
       "eu_sales      0.813041  1.000000  0.374296     0.974571      0.382536   \n",
       "jp_sales      0.344322  0.374296  1.000000     0.378520      0.202937   \n",
       "other_sales   0.872154  0.974571  0.378520     1.000000      0.394883   \n",
       "critic_score  0.454413  0.382536  0.202937     0.394883      1.000000   \n",
       "user_score    0.137699  0.087823  0.171022     0.111490      0.631154   \n",
       "sum_sales     0.936839  0.958120  0.458046     0.976537      0.432759   \n",
       "\n",
       "              user_score  sum_sales  \n",
       "na_sales        0.137699   0.936839  \n",
       "eu_sales        0.087823   0.958120  \n",
       "jp_sales        0.171022   0.458046  \n",
       "other_sales     0.111490   0.976537  \n",
       "critic_score    0.631154   0.432759  \n",
       "user_score      1.000000   0.128416  \n",
       "sum_sales       0.128416   1.000000  "
      ]
     },
     "execution_count": 148,
     "metadata": {},
     "output_type": "execute_result"
    }
   ],
   "source": [
    "#ps3 correlation\n",
    "ps3_data = matrix[matrix['platform'] == 'PS3']\n",
    "g = sns.lmplot(x='user_score',y='sum_sales',data=ps3_data)\n",
    "g = plt.gca()\n",
    "g.set_title('График рассеяния: оценка пользователей PS3')\n",
    "plt.show()\n",
    "g = sns.lmplot(x='critic_score',y='sum_sales',data=ps3_data)\n",
    "g = plt.gca()\n",
    "g.set_title('График рассеяния: оценка критиков PS3')\n",
    "plt.show()\n",
    "ps3_data.corr()"
   ]
  },
  {
   "cell_type": "code",
   "execution_count": 149,
   "metadata": {},
   "outputs": [
    {
     "data": {
      "image/png": "[encoded data removed]",
      "text/plain": [
       "<Figure size 360x360 with 1 Axes>"
      ]
     },
     "metadata": {
      "needs_background": "light"
     },
     "output_type": "display_data"
    },
    {
     "data": {
      "image/png": "[encoded data removed]",
      "text/plain": [
       "<Figure size 360x360 with 1 Axes>"
      ]
     },
     "metadata": {
      "needs_background": "light"
     },
     "output_type": "display_data"
    },
    {
     "data": {
      "text/html": [
       "<div>\n",
       "<style scoped>\n",
       "    .dataframe tbody tr th:only-of-type {\n",
       "        vertical-align: middle;\n",
       "    }\n",
       "\n",
       "    .dataframe tbody tr th {\n",
       "        vertical-align: top;\n",
       "    }\n",
       "\n",
       "    .dataframe thead th {\n",
       "        text-align: right;\n",
       "    }\n",
       "</style>\n",
       "<table border=\"1\" class=\"dataframe\">\n",
       "  <thead>\n",
       "    <tr style=\"text-align: right;\">\n",
       "      <th></th>\n",
       "      <th>na_sales</th>\n",
       "      <th>eu_sales</th>\n",
       "      <th>jp_sales</th>\n",
       "      <th>other_sales</th>\n",
       "      <th>critic_score</th>\n",
       "      <th>user_score</th>\n",
       "      <th>sum_sales</th>\n",
       "    </tr>\n",
       "  </thead>\n",
       "  <tbody>\n",
       "    <tr>\n",
       "      <td>na_sales</td>\n",
       "      <td>1.000000</td>\n",
       "      <td>0.765367</td>\n",
       "      <td>0.425725</td>\n",
       "      <td>0.988088</td>\n",
       "      <td>0.388636</td>\n",
       "      <td>-0.069318</td>\n",
       "      <td>0.970433</td>\n",
       "    </tr>\n",
       "    <tr>\n",
       "      <td>eu_sales</td>\n",
       "      <td>0.765367</td>\n",
       "      <td>1.000000</td>\n",
       "      <td>0.421071</td>\n",
       "      <td>0.852986</td>\n",
       "      <td>0.379162</td>\n",
       "      <td>-0.055911</td>\n",
       "      <td>0.898045</td>\n",
       "    </tr>\n",
       "    <tr>\n",
       "      <td>jp_sales</td>\n",
       "      <td>0.425725</td>\n",
       "      <td>0.421071</td>\n",
       "      <td>1.000000</td>\n",
       "      <td>0.441717</td>\n",
       "      <td>0.202954</td>\n",
       "      <td>0.069591</td>\n",
       "      <td>0.452701</td>\n",
       "    </tr>\n",
       "    <tr>\n",
       "      <td>other_sales</td>\n",
       "      <td>0.988088</td>\n",
       "      <td>0.852986</td>\n",
       "      <td>0.441717</td>\n",
       "      <td>1.000000</td>\n",
       "      <td>0.411825</td>\n",
       "      <td>-0.069645</td>\n",
       "      <td>0.995238</td>\n",
       "    </tr>\n",
       "    <tr>\n",
       "      <td>critic_score</td>\n",
       "      <td>0.388636</td>\n",
       "      <td>0.379162</td>\n",
       "      <td>0.202954</td>\n",
       "      <td>0.411825</td>\n",
       "      <td>1.000000</td>\n",
       "      <td>0.472462</td>\n",
       "      <td>0.416998</td>\n",
       "    </tr>\n",
       "    <tr>\n",
       "      <td>user_score</td>\n",
       "      <td>-0.069318</td>\n",
       "      <td>-0.055911</td>\n",
       "      <td>0.069591</td>\n",
       "      <td>-0.069645</td>\n",
       "      <td>0.472462</td>\n",
       "      <td>1.000000</td>\n",
       "      <td>-0.068925</td>\n",
       "    </tr>\n",
       "    <tr>\n",
       "      <td>sum_sales</td>\n",
       "      <td>0.970433</td>\n",
       "      <td>0.898045</td>\n",
       "      <td>0.452701</td>\n",
       "      <td>0.995238</td>\n",
       "      <td>0.416998</td>\n",
       "      <td>-0.068925</td>\n",
       "      <td>1.000000</td>\n",
       "    </tr>\n",
       "  </tbody>\n",
       "</table>\n",
       "</div>"
      ],
      "text/plain": [
       "              na_sales  eu_sales  jp_sales  other_sales  critic_score  \\\n",
       "na_sales      1.000000  0.765367  0.425725     0.988088      0.388636   \n",
       "eu_sales      0.765367  1.000000  0.421071     0.852986      0.379162   \n",
       "jp_sales      0.425725  0.421071  1.000000     0.441717      0.202954   \n",
       "other_sales   0.988088  0.852986  0.441717     1.000000      0.411825   \n",
       "critic_score  0.388636  0.379162  0.202954     0.411825      1.000000   \n",
       "user_score   -0.069318 -0.055911  0.069591    -0.069645      0.472462   \n",
       "sum_sales     0.970433  0.898045  0.452701     0.995238      0.416998   \n",
       "\n",
       "              user_score  sum_sales  \n",
       "na_sales       -0.069318   0.970433  \n",
       "eu_sales       -0.055911   0.898045  \n",
       "jp_sales        0.069591   0.452701  \n",
       "other_sales    -0.069645   0.995238  \n",
       "critic_score    0.472462   0.416998  \n",
       "user_score      1.000000  -0.068925  \n",
       "sum_sales      -0.068925   1.000000  "
      ]
     },
     "execution_count": 149,
     "metadata": {},
     "output_type": "execute_result"
    }
   ],
   "source": [
    "#xone correlation\n",
    "xone = matrix[matrix['platform'] == 'XOne']\n",
    "g = sns.lmplot(x='user_score',y='sum_sales',data=xone)\n",
    "g = plt.gca()\n",
    "g.set_title('График рассеяния: оценка пользователей XOne')\n",
    "plt.show()\n",
    "g = sns.lmplot(x='critic_score',y='sum_sales',data=xone)\n",
    "g = plt.gca()\n",
    "g.set_title('График рассеяния: оценка критиков XOne')\n",
    "plt.show()\n",
    "xone.corr()"
   ]
  },
  {
   "cell_type": "code",
   "execution_count": 150,
   "metadata": {},
   "outputs": [
    {
     "data": {
      "image/png": "[encoded data removed]",
      "text/plain": [
       "<Figure size 360x360 with 1 Axes>"
      ]
     },
     "metadata": {
      "needs_background": "light"
     },
     "output_type": "display_data"
    },
    {
     "data": {
      "image/png": "[encoded data removed]",
      "text/plain": [
       "<Figure size 360x360 with 1 Axes>"
      ]
     },
     "metadata": {
      "needs_background": "light"
     },
     "output_type": "display_data"
    },
    {
     "data": {
      "text/html": [
       "<div>\n",
       "<style scoped>\n",
       "    .dataframe tbody tr th:only-of-type {\n",
       "        vertical-align: middle;\n",
       "    }\n",
       "\n",
       "    .dataframe tbody tr th {\n",
       "        vertical-align: top;\n",
       "    }\n",
       "\n",
       "    .dataframe thead th {\n",
       "        text-align: right;\n",
       "    }\n",
       "</style>\n",
       "<table border=\"1\" class=\"dataframe\">\n",
       "  <thead>\n",
       "    <tr style=\"text-align: right;\">\n",
       "      <th></th>\n",
       "      <th>na_sales</th>\n",
       "      <th>eu_sales</th>\n",
       "      <th>jp_sales</th>\n",
       "      <th>other_sales</th>\n",
       "      <th>critic_score</th>\n",
       "      <th>user_score</th>\n",
       "      <th>sum_sales</th>\n",
       "    </tr>\n",
       "  </thead>\n",
       "  <tbody>\n",
       "    <tr>\n",
       "      <td>na_sales</td>\n",
       "      <td>1.000000</td>\n",
       "      <td>0.856172</td>\n",
       "      <td>0.491359</td>\n",
       "      <td>0.964694</td>\n",
       "      <td>0.378718</td>\n",
       "      <td>0.107974</td>\n",
       "      <td>0.984518</td>\n",
       "    </tr>\n",
       "    <tr>\n",
       "      <td>eu_sales</td>\n",
       "      <td>0.856172</td>\n",
       "      <td>1.000000</td>\n",
       "      <td>0.467601</td>\n",
       "      <td>0.948362</td>\n",
       "      <td>0.391669</td>\n",
       "      <td>0.112854</td>\n",
       "      <td>0.933034</td>\n",
       "    </tr>\n",
       "    <tr>\n",
       "      <td>jp_sales</td>\n",
       "      <td>0.491359</td>\n",
       "      <td>0.467601</td>\n",
       "      <td>1.000000</td>\n",
       "      <td>0.507169</td>\n",
       "      <td>0.284636</td>\n",
       "      <td>0.183120</td>\n",
       "      <td>0.511935</td>\n",
       "    </tr>\n",
       "    <tr>\n",
       "      <td>other_sales</td>\n",
       "      <td>0.964694</td>\n",
       "      <td>0.948362</td>\n",
       "      <td>0.507169</td>\n",
       "      <td>1.000000</td>\n",
       "      <td>0.405777</td>\n",
       "      <td>0.124506</td>\n",
       "      <td>0.992427</td>\n",
       "    </tr>\n",
       "    <tr>\n",
       "      <td>critic_score</td>\n",
       "      <td>0.378718</td>\n",
       "      <td>0.391669</td>\n",
       "      <td>0.284636</td>\n",
       "      <td>0.405777</td>\n",
       "      <td>1.000000</td>\n",
       "      <td>0.622629</td>\n",
       "      <td>0.396307</td>\n",
       "    </tr>\n",
       "    <tr>\n",
       "      <td>user_score</td>\n",
       "      <td>0.107974</td>\n",
       "      <td>0.112854</td>\n",
       "      <td>0.183120</td>\n",
       "      <td>0.124506</td>\n",
       "      <td>0.622629</td>\n",
       "      <td>1.000000</td>\n",
       "      <td>0.115762</td>\n",
       "    </tr>\n",
       "    <tr>\n",
       "      <td>sum_sales</td>\n",
       "      <td>0.984518</td>\n",
       "      <td>0.933034</td>\n",
       "      <td>0.511935</td>\n",
       "      <td>0.992427</td>\n",
       "      <td>0.396307</td>\n",
       "      <td>0.115762</td>\n",
       "      <td>1.000000</td>\n",
       "    </tr>\n",
       "  </tbody>\n",
       "</table>\n",
       "</div>"
      ],
      "text/plain": [
       "              na_sales  eu_sales  jp_sales  other_sales  critic_score  \\\n",
       "na_sales      1.000000  0.856172  0.491359     0.964694      0.378718   \n",
       "eu_sales      0.856172  1.000000  0.467601     0.948362      0.391669   \n",
       "jp_sales      0.491359  0.467601  1.000000     0.507169      0.284636   \n",
       "other_sales   0.964694  0.948362  0.507169     1.000000      0.405777   \n",
       "critic_score  0.378718  0.391669  0.284636     0.405777      1.000000   \n",
       "user_score    0.107974  0.112854  0.183120     0.124506      0.622629   \n",
       "sum_sales     0.984518  0.933034  0.511935     0.992427      0.396307   \n",
       "\n",
       "              user_score  sum_sales  \n",
       "na_sales        0.107974   0.984518  \n",
       "eu_sales        0.112854   0.933034  \n",
       "jp_sales        0.183120   0.511935  \n",
       "other_sales     0.124506   0.992427  \n",
       "critic_score    0.622629   0.396307  \n",
       "user_score      1.000000   0.115762  \n",
       "sum_sales       0.115762   1.000000  "
      ]
     },
     "execution_count": 150,
     "metadata": {},
     "output_type": "execute_result"
    }
   ],
   "source": [
    "#x360 correlation\n",
    "x360 = matrix[matrix['platform'] == 'X360']\n",
    "g = sns.lmplot(x='user_score',y='sum_sales',data=x360)\n",
    "g = plt.gca()\n",
    "g.set_title('График рассеяния: оценка пользователей X360')\n",
    "plt.show()\n",
    "g = sns.lmplot(x='critic_score',y='sum_sales',data=x360)\n",
    "g = plt.gca()\n",
    "g.set_title('График рассеяния: оценка критиков X360')\n",
    "plt.show()\n",
    "x360.corr()"
   ]
  },
  {
   "cell_type": "code",
   "execution_count": 151,
   "metadata": {},
   "outputs": [
    {
     "data": {
      "image/png": "[encoded data removed]",
      "text/plain": [
       "<Figure size 360x360 with 1 Axes>"
      ]
     },
     "metadata": {
      "needs_background": "light"
     },
     "output_type": "display_data"
    },
    {
     "data": {
      "image/png": "[encoded data removed]",
      "text/plain": [
       "<Figure size 360x360 with 1 Axes>"
      ]
     },
     "metadata": {
      "needs_background": "light"
     },
     "output_type": "display_data"
    },
    {
     "data": {
      "text/html": [
       "<div>\n",
       "<style scoped>\n",
       "    .dataframe tbody tr th:only-of-type {\n",
       "        vertical-align: middle;\n",
       "    }\n",
       "\n",
       "    .dataframe tbody tr th {\n",
       "        vertical-align: top;\n",
       "    }\n",
       "\n",
       "    .dataframe thead th {\n",
       "        text-align: right;\n",
       "    }\n",
       "</style>\n",
       "<table border=\"1\" class=\"dataframe\">\n",
       "  <thead>\n",
       "    <tr style=\"text-align: right;\">\n",
       "      <th></th>\n",
       "      <th>na_sales</th>\n",
       "      <th>eu_sales</th>\n",
       "      <th>jp_sales</th>\n",
       "      <th>other_sales</th>\n",
       "      <th>critic_score</th>\n",
       "      <th>user_score</th>\n",
       "      <th>sum_sales</th>\n",
       "    </tr>\n",
       "  </thead>\n",
       "  <tbody>\n",
       "    <tr>\n",
       "      <td>na_sales</td>\n",
       "      <td>1.000000</td>\n",
       "      <td>0.943670</td>\n",
       "      <td>0.664840</td>\n",
       "      <td>0.991024</td>\n",
       "      <td>0.335420</td>\n",
       "      <td>0.200297</td>\n",
       "      <td>0.950142</td>\n",
       "    </tr>\n",
       "    <tr>\n",
       "      <td>eu_sales</td>\n",
       "      <td>0.943670</td>\n",
       "      <td>1.000000</td>\n",
       "      <td>0.686445</td>\n",
       "      <td>0.971201</td>\n",
       "      <td>0.309868</td>\n",
       "      <td>0.165741</td>\n",
       "      <td>0.951947</td>\n",
       "    </tr>\n",
       "    <tr>\n",
       "      <td>jp_sales</td>\n",
       "      <td>0.664840</td>\n",
       "      <td>0.686445</td>\n",
       "      <td>1.000000</td>\n",
       "      <td>0.672817</td>\n",
       "      <td>0.348216</td>\n",
       "      <td>0.272660</td>\n",
       "      <td>0.852413</td>\n",
       "    </tr>\n",
       "    <tr>\n",
       "      <td>other_sales</td>\n",
       "      <td>0.991024</td>\n",
       "      <td>0.971201</td>\n",
       "      <td>0.672817</td>\n",
       "      <td>1.000000</td>\n",
       "      <td>0.322502</td>\n",
       "      <td>0.184406</td>\n",
       "      <td>0.958187</td>\n",
       "    </tr>\n",
       "    <tr>\n",
       "      <td>critic_score</td>\n",
       "      <td>0.335420</td>\n",
       "      <td>0.309868</td>\n",
       "      <td>0.348216</td>\n",
       "      <td>0.322502</td>\n",
       "      <td>1.000000</td>\n",
       "      <td>0.745222</td>\n",
       "      <td>0.348740</td>\n",
       "    </tr>\n",
       "    <tr>\n",
       "      <td>user_score</td>\n",
       "      <td>0.200297</td>\n",
       "      <td>0.165741</td>\n",
       "      <td>0.272660</td>\n",
       "      <td>0.184406</td>\n",
       "      <td>0.745222</td>\n",
       "      <td>1.000000</td>\n",
       "      <td>0.222078</td>\n",
       "    </tr>\n",
       "    <tr>\n",
       "      <td>sum_sales</td>\n",
       "      <td>0.950142</td>\n",
       "      <td>0.951947</td>\n",
       "      <td>0.852413</td>\n",
       "      <td>0.958187</td>\n",
       "      <td>0.348740</td>\n",
       "      <td>0.222078</td>\n",
       "      <td>1.000000</td>\n",
       "    </tr>\n",
       "  </tbody>\n",
       "</table>\n",
       "</div>"
      ],
      "text/plain": [
       "              na_sales  eu_sales  jp_sales  other_sales  critic_score  \\\n",
       "na_sales      1.000000  0.943670  0.664840     0.991024      0.335420   \n",
       "eu_sales      0.943670  1.000000  0.686445     0.971201      0.309868   \n",
       "jp_sales      0.664840  0.686445  1.000000     0.672817      0.348216   \n",
       "other_sales   0.991024  0.971201  0.672817     1.000000      0.322502   \n",
       "critic_score  0.335420  0.309868  0.348216     0.322502      1.000000   \n",
       "user_score    0.200297  0.165741  0.272660     0.184406      0.745222   \n",
       "sum_sales     0.950142  0.951947  0.852413     0.958187      0.348740   \n",
       "\n",
       "              user_score  sum_sales  \n",
       "na_sales        0.200297   0.950142  \n",
       "eu_sales        0.165741   0.951947  \n",
       "jp_sales        0.272660   0.852413  \n",
       "other_sales     0.184406   0.958187  \n",
       "critic_score    0.745222   0.348740  \n",
       "user_score      1.000000   0.222078  \n",
       "sum_sales       0.222078   1.000000  "
      ]
     },
     "execution_count": 151,
     "metadata": {},
     "output_type": "execute_result"
    }
   ],
   "source": [
    "#3ds correlation\n",
    "ds3 = matrix[matrix['platform'] == '3DS']\n",
    "g = sns.lmplot(x='user_score',y='sum_sales',data=ds3)\n",
    "g = plt.gca()\n",
    "g.set_title('График рассеяния: оценка пользователей 3DS')\n",
    "plt.show()\n",
    "g = sns.lmplot(x='critic_score',y='sum_sales',data=ds3)\n",
    "g = plt.gca()\n",
    "g.set_title('График рассеяния: оценка критиков 3DS')\n",
    "plt.show()\n",
    "ds3.corr()"
   ]
  },
  {
   "cell_type": "markdown",
   "metadata": {},
   "source": [
    "<h3>Выводы о корреляции:</h3>\n",
    "<br>\n",
    "<br>\n",
    "Исходят из матриц корреляции и графиков рассеяния , можно сделать выводы ,что <strong>есть зависимость между продажами и оценкой критиков</strong> у всех платформ , хотя и не такая уж и большая зависимость. Однако <strong>зависимость между оценкой пользователя продажами не такая однозначная</strong> , зависимость <strong>отсутствует</strong> у <i>PS4 и XOne</i> даже без намека на ее существование . У <i>X360 и PS3</i> <strong>есть намеки на ее существование</strong> ,хотя достаточно и малые . У <i>3DS</i> же зависимость оценки пользователей оказывает относительно остальных <strong>достаточное влияние</strong> ,чтобы его не игнорировать, видимо у данной платформы пользователи при выборе и покупке игры смотрят не только на оценки критиков , но и уделяют внимание на оценки пользователей , ибо игры не имеют как такого авторитета и приходится ссылаться на то и другое в некоторых случаях"
   ]
  },
  {
   "cell_type": "code",
   "execution_count": 152,
   "metadata": {},
   "outputs": [
    {
     "data": {
      "text/html": [
       "<div>\n",
       "<style scoped>\n",
       "    .dataframe tbody tr th:only-of-type {\n",
       "        vertical-align: middle;\n",
       "    }\n",
       "\n",
       "    .dataframe tbody tr th {\n",
       "        vertical-align: top;\n",
       "    }\n",
       "\n",
       "    .dataframe thead th {\n",
       "        text-align: right;\n",
       "    }\n",
       "</style>\n",
       "<table border=\"1\" class=\"dataframe\">\n",
       "  <thead>\n",
       "    <tr style=\"text-align: right;\">\n",
       "      <th></th>\n",
       "      <th>eu_sales</th>\n",
       "      <th>jp_sales</th>\n",
       "      <th>na_sales</th>\n",
       "      <th>other_sales</th>\n",
       "      <th>sum_sales</th>\n",
       "    </tr>\n",
       "    <tr>\n",
       "      <th>genre</th>\n",
       "      <th></th>\n",
       "      <th></th>\n",
       "      <th></th>\n",
       "      <th></th>\n",
       "      <th></th>\n",
       "    </tr>\n",
       "  </thead>\n",
       "  <tbody>\n",
       "    <tr>\n",
       "      <td>Action</td>\n",
       "      <td>348.44</td>\n",
       "      <td>101.96</td>\n",
       "      <td>522.96</td>\n",
       "      <td>133.19</td>\n",
       "      <td>1106.55</td>\n",
       "    </tr>\n",
       "    <tr>\n",
       "      <td>Sports</td>\n",
       "      <td>250.23</td>\n",
       "      <td>48.87</td>\n",
       "      <td>392.28</td>\n",
       "      <td>96.52</td>\n",
       "      <td>787.90</td>\n",
       "    </tr>\n",
       "    <tr>\n",
       "      <td>Shooter</td>\n",
       "      <td>238.58</td>\n",
       "      <td>19.33</td>\n",
       "      <td>372.23</td>\n",
       "      <td>85.64</td>\n",
       "      <td>715.78</td>\n",
       "    </tr>\n",
       "    <tr>\n",
       "      <td>Misc</td>\n",
       "      <td>146.45</td>\n",
       "      <td>64.14</td>\n",
       "      <td>283.82</td>\n",
       "      <td>58.35</td>\n",
       "      <td>552.76</td>\n",
       "    </tr>\n",
       "    <tr>\n",
       "      <td>Role-Playing</td>\n",
       "      <td>110.52</td>\n",
       "      <td>169.35</td>\n",
       "      <td>199.37</td>\n",
       "      <td>41.73</td>\n",
       "      <td>520.97</td>\n",
       "    </tr>\n",
       "    <tr>\n",
       "      <td>Racing</td>\n",
       "      <td>112.35</td>\n",
       "      <td>13.20</td>\n",
       "      <td>129.34</td>\n",
       "      <td>39.35</td>\n",
       "      <td>294.24</td>\n",
       "    </tr>\n",
       "    <tr>\n",
       "      <td>Platform</td>\n",
       "      <td>81.04</td>\n",
       "      <td>35.20</td>\n",
       "      <td>132.26</td>\n",
       "      <td>28.63</td>\n",
       "      <td>277.13</td>\n",
       "    </tr>\n",
       "    <tr>\n",
       "      <td>Simulation</td>\n",
       "      <td>69.63</td>\n",
       "      <td>23.31</td>\n",
       "      <td>107.40</td>\n",
       "      <td>19.80</td>\n",
       "      <td>220.14</td>\n",
       "    </tr>\n",
       "    <tr>\n",
       "      <td>Fighting</td>\n",
       "      <td>42.56</td>\n",
       "      <td>28.52</td>\n",
       "      <td>93.98</td>\n",
       "      <td>22.86</td>\n",
       "      <td>187.92</td>\n",
       "    </tr>\n",
       "    <tr>\n",
       "      <td>Adventure</td>\n",
       "      <td>37.52</td>\n",
       "      <td>29.49</td>\n",
       "      <td>60.27</td>\n",
       "      <td>12.37</td>\n",
       "      <td>139.65</td>\n",
       "    </tr>\n",
       "    <tr>\n",
       "      <td>Puzzle</td>\n",
       "      <td>27.75</td>\n",
       "      <td>12.43</td>\n",
       "      <td>42.43</td>\n",
       "      <td>7.23</td>\n",
       "      <td>89.84</td>\n",
       "    </tr>\n",
       "    <tr>\n",
       "      <td>Strategy</td>\n",
       "      <td>24.30</td>\n",
       "      <td>13.73</td>\n",
       "      <td>28.45</td>\n",
       "      <td>6.62</td>\n",
       "      <td>73.10</td>\n",
       "    </tr>\n",
       "  </tbody>\n",
       "</table>\n",
       "</div>"
      ],
      "text/plain": [
       "              eu_sales  jp_sales  na_sales  other_sales  sum_sales\n",
       "genre                                                             \n",
       "Action          348.44    101.96    522.96       133.19    1106.55\n",
       "Sports          250.23     48.87    392.28        96.52     787.90\n",
       "Shooter         238.58     19.33    372.23        85.64     715.78\n",
       "Misc            146.45     64.14    283.82        58.35     552.76\n",
       "Role-Playing    110.52    169.35    199.37        41.73     520.97\n",
       "Racing          112.35     13.20    129.34        39.35     294.24\n",
       "Platform         81.04     35.20    132.26        28.63     277.13\n",
       "Simulation       69.63     23.31    107.40        19.80     220.14\n",
       "Fighting         42.56     28.52     93.98        22.86     187.92\n",
       "Adventure        37.52     29.49     60.27        12.37     139.65\n",
       "Puzzle           27.75     12.43     42.43         7.23      89.84\n",
       "Strategy         24.30     13.73     28.45         6.62      73.10"
      ]
     },
     "execution_count": 152,
     "metadata": {},
     "output_type": "execute_result"
    }
   ],
   "source": [
    "genre_sales = games_upto_date.pivot_table(index='genre',values=['na_sales','eu_sales','jp_sales','other_sales','sum_sales'],aggfunc='sum')\n",
    "pd.set_option('display.max_rows', 12)\n",
    "genre_sales.sort_values(by='sum_sales', ascending=False)"
   ]
  },
  {
   "cell_type": "markdown",
   "metadata": {},
   "source": [
    "Видно ,что в топ 4 входят жанры ,которые могут включать себя много под жанров или их комбинацию ,но все они жанры с активным/быстрым геймплеем. В отличии от хвоста ,где расположились более сдержанные жанры - паззлы,стратегии,приключения за исключением драк ,но там не так много популярных игр , а те ,что есть - имеют высокий возрастной рейтинг.То есть внизу списка жанры игр ,которые можно обобщить - \"на любителя\" в то время , как в топе жанры игр ,которые предпочтут большинство пользователей"
   ]
  },
  {
   "cell_type": "markdown",
   "metadata": {},
   "source": [
    "<h2>Вывод:</h2>\n",
    "<br>\n",
    "В итоге после анализа данных ,получили:\n",
    "<br>\n",
    "<br>\n",
    "<strong>Актуальный период</strong> ,который обосновали на основе выпуска игр по годам ,основная масса продаж игр была с 2000 года . Но также после анализа данных о актуальности платформ ,выяснили ,что в среднем платформа живет 10 лет , кроме нескольких исключений( которые жили слишком мало - были затменены обилием конкурентов на рынке . А есть одна платформа ,которая живет уже очень долго - PC ,но в отличие от остальных это не один бренд с конкретными \"мозгами\", а множество разных с возможностью кастомизировать ,поэтому актуальность не исчезает данной платформы) Также посмотрели актуальность продаж консолей  и на основе всех этих данных выделили акутальный период - с 2005 года ,который затрагивает цикл каждой из актуальных консолей для анализа.\n",
    "<br>\n",
    "<br>\n",
    "\n",
    "Среди самых <strong>перспективных консолей</strong> на 2017 года выделили : PS4, XOne, 3DS .У первых двух лучшие показатели за последние 2 года,которые растут из года в год ,что обещает многообещающие продажи и в 2017 году. Но также хорошие продажи показывают X360 и PS3 на 2015-2016 год,хоть они и падают из года в год ,но огромное количество пользователей ,оставляет их все еще акутальными.\n",
    "<br>\n",
    "<br>\n",
    "<strong>Средняя сумма продаж</strong> у консолей таких как PS3 и X360 более репрезентативна, так как из-за большого количества данных менее чувствительная к выбросам и показывают примерно одинаковый результат , но PS3 (713124 USD) уступает X360 (784999 USD) по этому значению почти на 75000 USD, что делает X360 более успешной и перспективной консолью на те времена . Однако дело поменялось с PS4 и XOne,где PS4 (801377) очень сильно оторвался по данным показателям от XOne (645020 USD),что делает PS4 более перспективным на современный период , и самой перспективной платформой на 2017 год. У 3DS средняя продажа (503535 USD) горазда ниже всех остальных ,что делает ее менее перспективной на общей картине , но в ее случае также как и с PS4, и XOne данные достаточно свежие и можно примерно понимать какая в среднем выручка будет с проекта на 2017 год\n",
    "<br>\n",
    "\n",
    "<br>\n",
    "После построения и <strong>анализирования корреляции</strong> , пришли к интересным выводам , что не все очевидные параметры могут нести меняющий фактор. Так например оценка пользователей , которая может показаться ,что имеет отношение к сумме продажам, не имеет никакой силы в сумме продаж ,может единцы смотрят на оценку пользователей ,прежде тем как купить ,но это случается очень редко как видим из исследования ,однако у 3DS все-таки добротная часть пользователей как видим смотрит на оценку пользователей и имеет вес в конечной сумме продаж ,видимо пользователи там самые аккуратные и проверяют что покупают. Также оценка критиков везде играет неплохую роль в конечной сумме продаж , что понятно ведь оценка критиков выставляется еще до релиза самой игры , в то время как пользователи не могут этого сделать заранее , по очевидным причинам, а большая часть покупок обычно бывает во время релиза и в ближайшие дни ,что еще раз показывает ,что роль критиков действительно играет роль в продажах ,в то время как пользователи за такой короткий срок мало кто сможет оценить и сформировать оценку\n",
    "<br>\n",
    "<br>\n",
    "<strong>Оценка топ жанров</strong> показывает ,что основная масса пользователей любят игры \"драйвовые\",которые активные и более-менее основаны на моторику , в то время как внизу списка стоят игры ,которые шаговые и заставляют пользователя думать в игре. Однако также там видим и драки ,на данный момент в голове гиоптеза ,что это ,скорей всего, связано с возрастным рейтингом ESRB"
   ]
  },
  {
   "cell_type": "markdown",
   "metadata": {},
   "source": [
    "<h1>Шаг 4: составление портрета пользователя каждого региона</h1>"
   ]
  },
  {
   "cell_type": "code",
   "execution_count": 153,
   "metadata": {},
   "outputs": [],
   "source": [
    "#created data based only on na sales\n",
    "na_user_data = games_upto_date.drop(['eu_sales','jp_sales','other_sales','sum_sales'], axis=1)"
   ]
  },
  {
   "cell_type": "code",
   "execution_count": 154,
   "metadata": {},
   "outputs": [],
   "source": [
    "#created data based only on eu sales\n",
    "eu_user_data = games_upto_date.drop(['na_sales','jp_sales','other_sales','sum_sales'], axis=1)"
   ]
  },
  {
   "cell_type": "code",
   "execution_count": 155,
   "metadata": {},
   "outputs": [],
   "source": [
    "#created data based only on jp sales\n",
    "jp_user_data = games_upto_date.drop(['na_sales','eu_sales','other_sales','sum_sales'], axis=1)"
   ]
  },
  {
   "cell_type": "code",
   "execution_count": 156,
   "metadata": {},
   "outputs": [
    {
     "data": {
      "text/html": [
       "<div>\n",
       "<style scoped>\n",
       "    .dataframe tbody tr th:only-of-type {\n",
       "        vertical-align: middle;\n",
       "    }\n",
       "\n",
       "    .dataframe tbody tr th {\n",
       "        vertical-align: top;\n",
       "    }\n",
       "\n",
       "    .dataframe thead th {\n",
       "        text-align: right;\n",
       "    }\n",
       "</style>\n",
       "<table border=\"1\" class=\"dataframe\">\n",
       "  <thead>\n",
       "    <tr style=\"text-align: right;\">\n",
       "      <th></th>\n",
       "      <th>platform</th>\n",
       "      <th>na_sales</th>\n",
       "    </tr>\n",
       "  </thead>\n",
       "  <tbody>\n",
       "    <tr>\n",
       "      <td>10</td>\n",
       "      <td>X360</td>\n",
       "      <td>588.84</td>\n",
       "    </tr>\n",
       "    <tr>\n",
       "      <td>8</td>\n",
       "      <td>Wii</td>\n",
       "      <td>486.87</td>\n",
       "    </tr>\n",
       "    <tr>\n",
       "      <td>4</td>\n",
       "      <td>PS3</td>\n",
       "      <td>390.13</td>\n",
       "    </tr>\n",
       "    <tr>\n",
       "      <td>1</td>\n",
       "      <td>DS</td>\n",
       "      <td>323.99</td>\n",
       "    </tr>\n",
       "    <tr>\n",
       "      <td>3</td>\n",
       "      <td>PS2</td>\n",
       "      <td>114.89</td>\n",
       "    </tr>\n",
       "    <tr>\n",
       "      <td>5</td>\n",
       "      <td>PS4</td>\n",
       "      <td>108.74</td>\n",
       "    </tr>\n",
       "    <tr>\n",
       "      <td>11</td>\n",
       "      <td>XOne</td>\n",
       "      <td>93.12</td>\n",
       "    </tr>\n",
       "    <tr>\n",
       "      <td>0</td>\n",
       "      <td>3DS</td>\n",
       "      <td>82.65</td>\n",
       "    </tr>\n",
       "    <tr>\n",
       "      <td>6</td>\n",
       "      <td>PSP</td>\n",
       "      <td>80.54</td>\n",
       "    </tr>\n",
       "    <tr>\n",
       "      <td>2</td>\n",
       "      <td>PC</td>\n",
       "      <td>44.45</td>\n",
       "    </tr>\n",
       "    <tr>\n",
       "      <td>9</td>\n",
       "      <td>WiiU</td>\n",
       "      <td>38.10</td>\n",
       "    </tr>\n",
       "    <tr>\n",
       "      <td>7</td>\n",
       "      <td>PSV</td>\n",
       "      <td>12.47</td>\n",
       "    </tr>\n",
       "  </tbody>\n",
       "</table>\n",
       "</div>"
      ],
      "text/plain": [
       "   platform  na_sales\n",
       "10     X360    588.84\n",
       "8       Wii    486.87\n",
       "4       PS3    390.13\n",
       "1        DS    323.99\n",
       "3       PS2    114.89\n",
       "5       PS4    108.74\n",
       "11     XOne     93.12\n",
       "0       3DS     82.65\n",
       "6       PSP     80.54\n",
       "2        PC     44.45\n",
       "9      WiiU     38.10\n",
       "7       PSV     12.47"
      ]
     },
     "execution_count": 156,
     "metadata": {},
     "output_type": "execute_result"
    },
    {
     "data": {
      "image/png": "[encoded data removed]",
      "text/plain": [
       "<Figure size 936x504 with 1 Axes>"
      ]
     },
     "metadata": {
      "needs_background": "light"
     },
     "output_type": "display_data"
    }
   ],
   "source": [
    "plt.figure(figsize=(13,7))\n",
    "na_pltf_top = na_user_data.groupby('platform')['na_sales'].sum()\n",
    "na_pltf_top = na_pltf_top.reset_index(level='platform')\n",
    "na_pltf_top.sort_values(by='na_sales',ascending=False,inplace=True)\n",
    "sns.barplot(x='platform',y='na_sales', data = na_pltf_top).set_title('Топ платформ по продажам в Северной Америке');\n",
    "na_pltf_top"
   ]
  },
  {
   "cell_type": "markdown",
   "metadata": {},
   "source": [
    "В Северной Америке, как и в остальных регионах , стоит ожидать ,что более старые поколения консолей будут лидировать над современной версией. Так тут лидировал x360 ,над PS3. Также была очень популярна Wii даже популярней ,чем PS3. Также PS2 показывает удивительно очень хорошие результаты , которые по 2016 год обгоняют сумму продаж PS4. XOne здесь не так сильно взлюбили как X360"
   ]
  },
  {
   "cell_type": "code",
   "execution_count": 157,
   "metadata": {},
   "outputs": [
    {
     "data": {
      "text/html": [
       "<div>\n",
       "<style scoped>\n",
       "    .dataframe tbody tr th:only-of-type {\n",
       "        vertical-align: middle;\n",
       "    }\n",
       "\n",
       "    .dataframe tbody tr th {\n",
       "        vertical-align: top;\n",
       "    }\n",
       "\n",
       "    .dataframe thead th {\n",
       "        text-align: right;\n",
       "    }\n",
       "</style>\n",
       "<table border=\"1\" class=\"dataframe\">\n",
       "  <thead>\n",
       "    <tr style=\"text-align: right;\">\n",
       "      <th></th>\n",
       "      <th>platform</th>\n",
       "      <th>eu_sales</th>\n",
       "    </tr>\n",
       "  </thead>\n",
       "  <tbody>\n",
       "    <tr>\n",
       "      <td>4</td>\n",
       "      <td>PS3</td>\n",
       "      <td>327.21</td>\n",
       "    </tr>\n",
       "    <tr>\n",
       "      <td>10</td>\n",
       "      <td>X360</td>\n",
       "      <td>267.89</td>\n",
       "    </tr>\n",
       "    <tr>\n",
       "      <td>8</td>\n",
       "      <td>Wii</td>\n",
       "      <td>258.32</td>\n",
       "    </tr>\n",
       "    <tr>\n",
       "      <td>1</td>\n",
       "      <td>DS</td>\n",
       "      <td>142.99</td>\n",
       "    </tr>\n",
       "    <tr>\n",
       "      <td>5</td>\n",
       "      <td>PS4</td>\n",
       "      <td>141.09</td>\n",
       "    </tr>\n",
       "    <tr>\n",
       "      <td>2</td>\n",
       "      <td>PC</td>\n",
       "      <td>100.32</td>\n",
       "    </tr>\n",
       "    <tr>\n",
       "      <td>0</td>\n",
       "      <td>3DS</td>\n",
       "      <td>61.27</td>\n",
       "    </tr>\n",
       "    <tr>\n",
       "      <td>6</td>\n",
       "      <td>PSP</td>\n",
       "      <td>54.21</td>\n",
       "    </tr>\n",
       "    <tr>\n",
       "      <td>11</td>\n",
       "      <td>XOne</td>\n",
       "      <td>51.59</td>\n",
       "    </tr>\n",
       "    <tr>\n",
       "      <td>3</td>\n",
       "      <td>PS2</td>\n",
       "      <td>46.28</td>\n",
       "    </tr>\n",
       "    <tr>\n",
       "      <td>9</td>\n",
       "      <td>WiiU</td>\n",
       "      <td>25.13</td>\n",
       "    </tr>\n",
       "    <tr>\n",
       "      <td>7</td>\n",
       "      <td>PSV</td>\n",
       "      <td>13.07</td>\n",
       "    </tr>\n",
       "  </tbody>\n",
       "</table>\n",
       "</div>"
      ],
      "text/plain": [
       "   platform  eu_sales\n",
       "4       PS3    327.21\n",
       "10     X360    267.89\n",
       "8       Wii    258.32\n",
       "1        DS    142.99\n",
       "5       PS4    141.09\n",
       "2        PC    100.32\n",
       "0       3DS     61.27\n",
       "6       PSP     54.21\n",
       "11     XOne     51.59\n",
       "3       PS2     46.28\n",
       "9      WiiU     25.13\n",
       "7       PSV     13.07"
      ]
     },
     "execution_count": 157,
     "metadata": {},
     "output_type": "execute_result"
    },
    {
     "data": {
      "image/png": "[encoded data removed]",
      "text/plain": [
       "<Figure size 936x504 with 1 Axes>"
      ]
     },
     "metadata": {
      "needs_background": "light"
     },
     "output_type": "display_data"
    }
   ],
   "source": [
    "plt.figure(figsize=(13,7))\n",
    "eu_pltf_top = eu_user_data.groupby('platform')['eu_sales'].sum()\n",
    "eu_pltf_top = eu_pltf_top.reset_index(level='platform')\n",
    "eu_pltf_top.sort_values(by='eu_sales',ascending=False,inplace=True)\n",
    "sns.barplot(x='platform',y='eu_sales', data = eu_pltf_top).set_title('Топ платформ по продажам в Европе');\n",
    "eu_pltf_top"
   ]
  },
  {
   "cell_type": "markdown",
   "metadata": {},
   "source": [
    "В Европе дела обстаят иначе, здесь лидирует PS3 с очень хорошим отрвым от X360 в 60млн . Также здесь очень популярна Wii . PS4 Здесь горазда популярнее ,чем в Северной Америке и показывает результаты лучше на 40млн. А XOne здесь сверхнепопулярен,даже PC обгоняет его по продажам"
   ]
  },
  {
   "cell_type": "code",
   "execution_count": 158,
   "metadata": {},
   "outputs": [
    {
     "data": {
      "text/html": [
       "<div>\n",
       "<style scoped>\n",
       "    .dataframe tbody tr th:only-of-type {\n",
       "        vertical-align: middle;\n",
       "    }\n",
       "\n",
       "    .dataframe tbody tr th {\n",
       "        vertical-align: top;\n",
       "    }\n",
       "\n",
       "    .dataframe thead th {\n",
       "        text-align: right;\n",
       "    }\n",
       "</style>\n",
       "<table border=\"1\" class=\"dataframe\">\n",
       "  <thead>\n",
       "    <tr style=\"text-align: right;\">\n",
       "      <th></th>\n",
       "      <th>platform</th>\n",
       "      <th>jp_sales</th>\n",
       "    </tr>\n",
       "  </thead>\n",
       "  <tbody>\n",
       "    <tr>\n",
       "      <td>1</td>\n",
       "      <td>DS</td>\n",
       "      <td>141.49</td>\n",
       "    </tr>\n",
       "    <tr>\n",
       "      <td>0</td>\n",
       "      <td>3DS</td>\n",
       "      <td>100.62</td>\n",
       "    </tr>\n",
       "    <tr>\n",
       "      <td>4</td>\n",
       "      <td>PS3</td>\n",
       "      <td>79.41</td>\n",
       "    </tr>\n",
       "    <tr>\n",
       "      <td>6</td>\n",
       "      <td>PSP</td>\n",
       "      <td>70.63</td>\n",
       "    </tr>\n",
       "    <tr>\n",
       "      <td>8</td>\n",
       "      <td>Wii</td>\n",
       "      <td>68.28</td>\n",
       "    </tr>\n",
       "    <tr>\n",
       "      <td>3</td>\n",
       "      <td>PS2</td>\n",
       "      <td>35.93</td>\n",
       "    </tr>\n",
       "    <tr>\n",
       "      <td>7</td>\n",
       "      <td>PSV</td>\n",
       "      <td>21.84</td>\n",
       "    </tr>\n",
       "    <tr>\n",
       "      <td>5</td>\n",
       "      <td>PS4</td>\n",
       "      <td>15.96</td>\n",
       "    </tr>\n",
       "    <tr>\n",
       "      <td>9</td>\n",
       "      <td>WiiU</td>\n",
       "      <td>13.01</td>\n",
       "    </tr>\n",
       "    <tr>\n",
       "      <td>10</td>\n",
       "      <td>X360</td>\n",
       "      <td>12.02</td>\n",
       "    </tr>\n",
       "    <tr>\n",
       "      <td>11</td>\n",
       "      <td>XOne</td>\n",
       "      <td>0.34</td>\n",
       "    </tr>\n",
       "    <tr>\n",
       "      <td>2</td>\n",
       "      <td>PC</td>\n",
       "      <td>0.00</td>\n",
       "    </tr>\n",
       "  </tbody>\n",
       "</table>\n",
       "</div>"
      ],
      "text/plain": [
       "   platform  jp_sales\n",
       "1        DS    141.49\n",
       "0       3DS    100.62\n",
       "4       PS3     79.41\n",
       "6       PSP     70.63\n",
       "8       Wii     68.28\n",
       "3       PS2     35.93\n",
       "7       PSV     21.84\n",
       "5       PS4     15.96\n",
       "9      WiiU     13.01\n",
       "10     X360     12.02\n",
       "11     XOne      0.34\n",
       "2        PC      0.00"
      ]
     },
     "execution_count": 158,
     "metadata": {},
     "output_type": "execute_result"
    },
    {
     "data": {
      "image/png": "[encoded data removed]",
      "text/plain": [
       "<Figure size 936x504 with 1 Axes>"
      ]
     },
     "metadata": {
      "needs_background": "light"
     },
     "output_type": "display_data"
    }
   ],
   "source": [
    "plt.figure(figsize=(13,7))\n",
    "jp_pltf_top = jp_user_data.groupby('platform')['jp_sales'].sum()\n",
    "jp_pltf_top = jp_pltf_top.reset_index(level='platform')\n",
    "jp_pltf_top.sort_values(by='jp_sales',ascending=False,inplace=True)\n",
    "sns.barplot(x='platform',y='jp_sales', data = jp_pltf_top).set_title('Топ платформ по продажам в Японии');\n",
    "jp_pltf_top"
   ]
  },
  {
   "cell_type": "markdown",
   "metadata": {},
   "source": [
    "В Японии же дела совершенно иначе ,здесь очень популярны DS и 3DS , DS здесь просто относительно всех остальных намного лучше показывает , но на смену ему пришла 3DS ,которая также здесь в лидерстве , Платформы версии PS здесь имеют какую-то популярность , PS3 относительно неплохие результаты ,PS2 здесь значительно обгоняет PS4 по продажам . А вот приставки X360 и XOne практически не имеют популярности во все . XOne так однозначно не полюбили в Японии"
   ]
  },
  {
   "cell_type": "markdown",
   "metadata": {},
   "source": [
    "<h2>Топ 5 платформ по регионам( с поправкой на актуальные платформы ):</h2>\n",
    "<br>\n",
    "<ul>\n",
    "    <li>В Северной Америке топ 5 платформ:\n",
    "        <ol>\n",
    "        <li>X360 с суммой продаж: 588.84</li>\n",
    "        <li>PS3 с суммой продаж: 390.13</li>\n",
    "        <li>PS4 с суммой продаж: 108.74</li>\n",
    "        <li>XOne с суммой продаж: 93.12</li>\n",
    "        <li>3DS с суммой продаж: 82.65</li>\n",
    "        </ol>\n",
    "    </li>\n",
    "    <li>В Европе топ 5 платформ:\n",
    "        <ol>\n",
    "            <li>PS3 с суммой продаж: 327.21</li>\n",
    "            <li>X360 с суммой продаж: 267.89</li>\n",
    "            <li>PS4 с суммой продаж: 141.09</li>\n",
    "            <li>3DS с суммой продаж: 61.27</li>\n",
    "            <li>XOne с суммой продаж: 51.59</li>\n",
    "        </ol>\n",
    "    </li>\n",
    "    <li>В Японии топ 5 платформ:\n",
    "        <ol>\n",
    "            <li>3DS с суммой продаж: 100.62</li>\n",
    "            <li>PS3 с суммой продаж: 79.41</li>\n",
    "            <li>PS4 с суммой продаж: 15.96</li>\n",
    "            <li>X360 с суммой продаж: 12.02</li>\n",
    "            <li>XOne с суммой продаж: 0.34</li>\n",
    "        </ol>\n",
    "    </li>\n",
    "</ul>"
   ]
  },
  {
   "cell_type": "code",
   "execution_count": 166,
   "metadata": {},
   "outputs": [
    {
     "data": {
      "text/html": [
       "<div>\n",
       "<style scoped>\n",
       "    .dataframe tbody tr th:only-of-type {\n",
       "        vertical-align: middle;\n",
       "    }\n",
       "\n",
       "    .dataframe tbody tr th {\n",
       "        vertical-align: top;\n",
       "    }\n",
       "\n",
       "    .dataframe thead th {\n",
       "        text-align: right;\n",
       "    }\n",
       "</style>\n",
       "<table border=\"1\" class=\"dataframe\">\n",
       "  <thead>\n",
       "    <tr style=\"text-align: right;\">\n",
       "      <th></th>\n",
       "      <th>genre</th>\n",
       "      <th>na_sales</th>\n",
       "    </tr>\n",
       "  </thead>\n",
       "  <tbody>\n",
       "    <tr>\n",
       "      <td>0</td>\n",
       "      <td>Action</td>\n",
       "      <td>522.96</td>\n",
       "    </tr>\n",
       "    <tr>\n",
       "      <td>10</td>\n",
       "      <td>Sports</td>\n",
       "      <td>392.28</td>\n",
       "    </tr>\n",
       "    <tr>\n",
       "      <td>8</td>\n",
       "      <td>Shooter</td>\n",
       "      <td>372.23</td>\n",
       "    </tr>\n",
       "    <tr>\n",
       "      <td>3</td>\n",
       "      <td>Misc</td>\n",
       "      <td>283.82</td>\n",
       "    </tr>\n",
       "    <tr>\n",
       "      <td>7</td>\n",
       "      <td>Role-Playing</td>\n",
       "      <td>199.37</td>\n",
       "    </tr>\n",
       "    <tr>\n",
       "      <td>4</td>\n",
       "      <td>Platform</td>\n",
       "      <td>132.26</td>\n",
       "    </tr>\n",
       "    <tr>\n",
       "      <td>6</td>\n",
       "      <td>Racing</td>\n",
       "      <td>129.34</td>\n",
       "    </tr>\n",
       "    <tr>\n",
       "      <td>9</td>\n",
       "      <td>Simulation</td>\n",
       "      <td>107.40</td>\n",
       "    </tr>\n",
       "    <tr>\n",
       "      <td>2</td>\n",
       "      <td>Fighting</td>\n",
       "      <td>93.98</td>\n",
       "    </tr>\n",
       "    <tr>\n",
       "      <td>1</td>\n",
       "      <td>Adventure</td>\n",
       "      <td>60.27</td>\n",
       "    </tr>\n",
       "    <tr>\n",
       "      <td>5</td>\n",
       "      <td>Puzzle</td>\n",
       "      <td>42.43</td>\n",
       "    </tr>\n",
       "    <tr>\n",
       "      <td>11</td>\n",
       "      <td>Strategy</td>\n",
       "      <td>28.45</td>\n",
       "    </tr>\n",
       "  </tbody>\n",
       "</table>\n",
       "</div>"
      ],
      "text/plain": [
       "           genre  na_sales\n",
       "0         Action    522.96\n",
       "10        Sports    392.28\n",
       "8        Shooter    372.23\n",
       "3           Misc    283.82\n",
       "7   Role-Playing    199.37\n",
       "4       Platform    132.26\n",
       "6         Racing    129.34\n",
       "9     Simulation    107.40\n",
       "2       Fighting     93.98\n",
       "1      Adventure     60.27\n",
       "5         Puzzle     42.43\n",
       "11      Strategy     28.45"
      ]
     },
     "execution_count": 166,
     "metadata": {},
     "output_type": "execute_result"
    },
    {
     "data": {
      "image/png": "[encoded data removed]",
      "text/plain": [
       "<Figure size 936x504 with 1 Axes>"
      ]
     },
     "metadata": {
      "needs_background": "light"
     },
     "output_type": "display_data"
    }
   ],
   "source": [
    "plt.figure(figsize=(13,7))\n",
    "na_gnr_top = na_user_data.groupby('genre')['na_sales'].sum()\n",
    "na_gnr_top = na_gnr_top.reset_index(level='genre')\n",
    "na_gnr_top.sort_values(by='na_sales',ascending=False,inplace=True)\n",
    "sns.barplot(x='genre',y='na_sales', data = na_gnr_top).set_title('Топ жанров по продажам в Северной Америке');\n",
    "na_gnr_top"
   ]
  },
  {
   "cell_type": "markdown",
   "metadata": {},
   "source": [
    "В Северной Америке любят те самые активные игры , нацеленные на моторику и быстрый геймплей , и по мере падения дианмики, падают и объемы продаж ,единсвтенными исключениями являются \"гонки\" и \"драки\" , с драками - ясно , рейтинг ESRB ограничивает аудторию , гонки тоже видимо не пользуются популярностью"
   ]
  },
  {
   "cell_type": "code",
   "execution_count": 160,
   "metadata": {},
   "outputs": [
    {
     "data": {
      "text/html": [
       "<div>\n",
       "<style scoped>\n",
       "    .dataframe tbody tr th:only-of-type {\n",
       "        vertical-align: middle;\n",
       "    }\n",
       "\n",
       "    .dataframe tbody tr th {\n",
       "        vertical-align: top;\n",
       "    }\n",
       "\n",
       "    .dataframe thead th {\n",
       "        text-align: right;\n",
       "    }\n",
       "</style>\n",
       "<table border=\"1\" class=\"dataframe\">\n",
       "  <thead>\n",
       "    <tr style=\"text-align: right;\">\n",
       "      <th></th>\n",
       "      <th>genre</th>\n",
       "      <th>eu_sales</th>\n",
       "    </tr>\n",
       "  </thead>\n",
       "  <tbody>\n",
       "    <tr>\n",
       "      <td>0</td>\n",
       "      <td>Action</td>\n",
       "      <td>348.44</td>\n",
       "    </tr>\n",
       "    <tr>\n",
       "      <td>10</td>\n",
       "      <td>Sports</td>\n",
       "      <td>250.23</td>\n",
       "    </tr>\n",
       "    <tr>\n",
       "      <td>8</td>\n",
       "      <td>Shooter</td>\n",
       "      <td>238.58</td>\n",
       "    </tr>\n",
       "    <tr>\n",
       "      <td>3</td>\n",
       "      <td>Misc</td>\n",
       "      <td>146.45</td>\n",
       "    </tr>\n",
       "    <tr>\n",
       "      <td>6</td>\n",
       "      <td>Racing</td>\n",
       "      <td>112.35</td>\n",
       "    </tr>\n",
       "    <tr>\n",
       "      <td>7</td>\n",
       "      <td>Role-Playing</td>\n",
       "      <td>110.52</td>\n",
       "    </tr>\n",
       "    <tr>\n",
       "      <td>4</td>\n",
       "      <td>Platform</td>\n",
       "      <td>81.04</td>\n",
       "    </tr>\n",
       "    <tr>\n",
       "      <td>9</td>\n",
       "      <td>Simulation</td>\n",
       "      <td>69.63</td>\n",
       "    </tr>\n",
       "    <tr>\n",
       "      <td>2</td>\n",
       "      <td>Fighting</td>\n",
       "      <td>42.56</td>\n",
       "    </tr>\n",
       "    <tr>\n",
       "      <td>1</td>\n",
       "      <td>Adventure</td>\n",
       "      <td>37.52</td>\n",
       "    </tr>\n",
       "    <tr>\n",
       "      <td>5</td>\n",
       "      <td>Puzzle</td>\n",
       "      <td>27.75</td>\n",
       "    </tr>\n",
       "    <tr>\n",
       "      <td>11</td>\n",
       "      <td>Strategy</td>\n",
       "      <td>24.30</td>\n",
       "    </tr>\n",
       "  </tbody>\n",
       "</table>\n",
       "</div>"
      ],
      "text/plain": [
       "           genre  eu_sales\n",
       "0         Action    348.44\n",
       "10        Sports    250.23\n",
       "8        Shooter    238.58\n",
       "3           Misc    146.45\n",
       "6         Racing    112.35\n",
       "7   Role-Playing    110.52\n",
       "4       Platform     81.04\n",
       "9     Simulation     69.63\n",
       "2       Fighting     42.56\n",
       "1      Adventure     37.52\n",
       "5         Puzzle     27.75\n",
       "11      Strategy     24.30"
      ]
     },
     "execution_count": 160,
     "metadata": {},
     "output_type": "execute_result"
    },
    {
     "data": {
      "image/png": "[encoded data removed]",
      "text/plain": [
       "<Figure size 936x504 with 1 Axes>"
      ]
     },
     "metadata": {
      "needs_background": "light"
     },
     "output_type": "display_data"
    }
   ],
   "source": [
    "plt.figure(figsize=(13,7))\n",
    "eu_gnr_top = eu_user_data.groupby('genre')['eu_sales'].sum()\n",
    "eu_gnr_top = eu_gnr_top.reset_index(level='genre')\n",
    "eu_gnr_top.sort_values(by='eu_sales',ascending=False,inplace=True)\n",
    "sns.barplot(x='genre',y='eu_sales', data = eu_gnr_top).set_title('Топ жанров по продажам в Европе');\n",
    "eu_gnr_top"
   ]
  },
  {
   "cell_type": "markdown",
   "metadata": {},
   "source": [
    "В Европе почти та же самая ситуация,что и в Северной Америке ,кроме небольшой разницы , что гонки более популярны ,чем ролевые игры"
   ]
  },
  {
   "cell_type": "code",
   "execution_count": 161,
   "metadata": {},
   "outputs": [
    {
     "data": {
      "text/html": [
       "<div>\n",
       "<style scoped>\n",
       "    .dataframe tbody tr th:only-of-type {\n",
       "        vertical-align: middle;\n",
       "    }\n",
       "\n",
       "    .dataframe tbody tr th {\n",
       "        vertical-align: top;\n",
       "    }\n",
       "\n",
       "    .dataframe thead th {\n",
       "        text-align: right;\n",
       "    }\n",
       "</style>\n",
       "<table border=\"1\" class=\"dataframe\">\n",
       "  <thead>\n",
       "    <tr style=\"text-align: right;\">\n",
       "      <th></th>\n",
       "      <th>genre</th>\n",
       "      <th>jp_sales</th>\n",
       "    </tr>\n",
       "  </thead>\n",
       "  <tbody>\n",
       "    <tr>\n",
       "      <td>7</td>\n",
       "      <td>Role-Playing</td>\n",
       "      <td>169.35</td>\n",
       "    </tr>\n",
       "    <tr>\n",
       "      <td>0</td>\n",
       "      <td>Action</td>\n",
       "      <td>101.96</td>\n",
       "    </tr>\n",
       "    <tr>\n",
       "      <td>3</td>\n",
       "      <td>Misc</td>\n",
       "      <td>64.14</td>\n",
       "    </tr>\n",
       "    <tr>\n",
       "      <td>10</td>\n",
       "      <td>Sports</td>\n",
       "      <td>48.87</td>\n",
       "    </tr>\n",
       "    <tr>\n",
       "      <td>4</td>\n",
       "      <td>Platform</td>\n",
       "      <td>35.20</td>\n",
       "    </tr>\n",
       "    <tr>\n",
       "      <td>1</td>\n",
       "      <td>Adventure</td>\n",
       "      <td>29.49</td>\n",
       "    </tr>\n",
       "    <tr>\n",
       "      <td>2</td>\n",
       "      <td>Fighting</td>\n",
       "      <td>28.52</td>\n",
       "    </tr>\n",
       "    <tr>\n",
       "      <td>9</td>\n",
       "      <td>Simulation</td>\n",
       "      <td>23.31</td>\n",
       "    </tr>\n",
       "    <tr>\n",
       "      <td>8</td>\n",
       "      <td>Shooter</td>\n",
       "      <td>19.33</td>\n",
       "    </tr>\n",
       "    <tr>\n",
       "      <td>11</td>\n",
       "      <td>Strategy</td>\n",
       "      <td>13.73</td>\n",
       "    </tr>\n",
       "    <tr>\n",
       "      <td>6</td>\n",
       "      <td>Racing</td>\n",
       "      <td>13.20</td>\n",
       "    </tr>\n",
       "    <tr>\n",
       "      <td>5</td>\n",
       "      <td>Puzzle</td>\n",
       "      <td>12.43</td>\n",
       "    </tr>\n",
       "  </tbody>\n",
       "</table>\n",
       "</div>"
      ],
      "text/plain": [
       "           genre  jp_sales\n",
       "7   Role-Playing    169.35\n",
       "0         Action    101.96\n",
       "3           Misc     64.14\n",
       "10        Sports     48.87\n",
       "4       Platform     35.20\n",
       "1      Adventure     29.49\n",
       "2       Fighting     28.52\n",
       "9     Simulation     23.31\n",
       "8        Shooter     19.33\n",
       "11      Strategy     13.73\n",
       "6         Racing     13.20\n",
       "5         Puzzle     12.43"
      ]
     },
     "execution_count": 161,
     "metadata": {},
     "output_type": "execute_result"
    },
    {
     "data": {
      "image/png": "[encoded data removed]",
      "text/plain": [
       "<Figure size 936x504 with 1 Axes>"
      ]
     },
     "metadata": {
      "needs_background": "light"
     },
     "output_type": "display_data"
    }
   ],
   "source": [
    "plt.figure(figsize=(13,7))\n",
    "jp_gnr_top = jp_user_data.groupby('genre')['jp_sales'].sum()\n",
    "jp_gnr_top = jp_gnr_top.reset_index(level='genre')\n",
    "jp_gnr_top.sort_values(by='jp_sales',ascending=False,inplace=True)\n",
    "sns.barplot(x='genre',y='jp_sales', data = jp_gnr_top).set_title('Топ жанров по продажам в Японии');\n",
    "jp_gnr_top"
   ]
  },
  {
   "cell_type": "markdown",
   "metadata": {},
   "source": [
    "В Японии же ситуация совершенно другая , у них любимый жанр ролевые игры , экшн также и смешанные популярны. Видимо как раз-таки платформы 3DS и DS больше нацелены на ролевые игры ( по-своему опыту могу предположить ,что видимо влияние Зельды:) ) и захватывают большую часть рынка"
   ]
  },
  {
   "cell_type": "markdown",
   "metadata": {},
   "source": [
    "<h2>Топ 5 жанров по регионам:</h2>\n",
    "<br>\n",
    "<ul>\n",
    "    <li>В Северной Америке топ 5 жанров:\n",
    "        <ol>\n",
    "        <li>Action с суммой продаж: 522.96</li>\n",
    "        <li>Sports с суммой продаж: 392.28</li>\n",
    "        <li>Shooter с суммой продаж: 372.23</li>\n",
    "        <li>Misc с суммой продаж: 283.82</li>\n",
    "        <li>Role-Playing с суммой продаж: 199.37</li>\n",
    "        </ol>\n",
    "    </li>\n",
    "    <li>В Европе топ 5 жанров:\n",
    "        <ol>\n",
    "            <li>Action с суммой продаж: 348.44</li>\n",
    "            <li>Sports с суммой продаж: 250.23</li>\n",
    "            <li>Shooter с суммой продаж: 238.58</li>\n",
    "            <li>Misc с суммой продаж: 146.45</li>\n",
    "            <li>Racing с суммой продаж: 112.35</li>\n",
    "        </ol>\n",
    "    </li>\n",
    "    <li>В Японии топ 5 жанров:\n",
    "        <ol>\n",
    "            <li>Role-Playing с суммой продаж: 169.35</li>\n",
    "            <li>Action с суммой продаж: 101.96</li>\n",
    "            <li>Misc с суммой продаж: 64.14</li>\n",
    "            <li>Sports с суммой продаж: 48.87</li>\n",
    "            <li>Platform с суммой продаж: 35.20</li>\n",
    "        </ol>\n",
    "    </li>\n",
    "</ul>"
   ]
  },
  {
   "cell_type": "markdown",
   "metadata": {},
   "source": [
    "Аннотация ESRB:\n",
    "<br>\n",
    "<br>\n",
    "E (eveyone) - содержание вполне подходит для возрастной категории от 6 лет и старше\n",
    "<br>\n",
    "M (mature) - Материалы игры не подходят для подростков младше 17 лет\n",
    "<br>\n",
    "T (teen) - Игра подходит для лиц от 13 лет и старше\n",
    "<br>\n",
    "E10+ (everyone 10 and older) - Для всех от 10 лет и старше\n",
    "<br>\n",
    "EC (early childhood) - Игра подходит для детей от 3 лет и старше\n",
    "<br>\n",
    "RP(rating panding) - Рейтинг ожидается\n",
    "<br>\n",
    "<br>\n",
    "источник википедия"
   ]
  },
  {
   "cell_type": "code",
   "execution_count": 162,
   "metadata": {},
   "outputs": [
    {
     "data": {
      "text/html": [
       "<div>\n",
       "<style scoped>\n",
       "    .dataframe tbody tr th:only-of-type {\n",
       "        vertical-align: middle;\n",
       "    }\n",
       "\n",
       "    .dataframe tbody tr th {\n",
       "        vertical-align: top;\n",
       "    }\n",
       "\n",
       "    .dataframe thead th {\n",
       "        text-align: right;\n",
       "    }\n",
       "</style>\n",
       "<table border=\"1\" class=\"dataframe\">\n",
       "  <thead>\n",
       "    <tr style=\"text-align: right;\">\n",
       "      <th></th>\n",
       "      <th>rating</th>\n",
       "      <th>na_sales</th>\n",
       "    </tr>\n",
       "  </thead>\n",
       "  <tbody>\n",
       "    <tr>\n",
       "      <td>0</td>\n",
       "      <td>E</td>\n",
       "      <td>788.50</td>\n",
       "    </tr>\n",
       "    <tr>\n",
       "      <td>3</td>\n",
       "      <td>M</td>\n",
       "      <td>573.03</td>\n",
       "    </tr>\n",
       "    <tr>\n",
       "      <td>5</td>\n",
       "      <td>T</td>\n",
       "      <td>421.46</td>\n",
       "    </tr>\n",
       "    <tr>\n",
       "      <td>1</td>\n",
       "      <td>E10+</td>\n",
       "      <td>310.64</td>\n",
       "    </tr>\n",
       "    <tr>\n",
       "      <td>2</td>\n",
       "      <td>EC</td>\n",
       "      <td>1.32</td>\n",
       "    </tr>\n",
       "    <tr>\n",
       "      <td>4</td>\n",
       "      <td>RP</td>\n",
       "      <td>0.00</td>\n",
       "    </tr>\n",
       "  </tbody>\n",
       "</table>\n",
       "</div>"
      ],
      "text/plain": [
       "  rating  na_sales\n",
       "0      E    788.50\n",
       "3      M    573.03\n",
       "5      T    421.46\n",
       "1   E10+    310.64\n",
       "2     EC      1.32\n",
       "4     RP      0.00"
      ]
     },
     "execution_count": 162,
     "metadata": {},
     "output_type": "execute_result"
    },
    {
     "data": {
      "image/png": "[encoded data removed]",
      "text/plain": [
       "<Figure size 936x504 with 1 Axes>"
      ]
     },
     "metadata": {
      "needs_background": "light"
     },
     "output_type": "display_data"
    }
   ],
   "source": [
    "plt.figure(figsize=(13,7))\n",
    "na_esrb_top = na_user_data.groupby('rating')['na_sales'].sum()\n",
    "na_esrb_top = na_esrb_top.reset_index(level='rating')\n",
    "na_esrb_top.sort_values(by='na_sales',ascending=False,inplace=True)\n",
    "sns.barplot(x='rating',y='na_sales', data = na_esrb_top).set_title('Влияние ESRB на продажи в Северной Америке');\n",
    "na_esrb_top"
   ]
  },
  {
   "cell_type": "code",
   "execution_count": 163,
   "metadata": {},
   "outputs": [
    {
     "data": {
      "text/html": [
       "<div>\n",
       "<style scoped>\n",
       "    .dataframe tbody tr th:only-of-type {\n",
       "        vertical-align: middle;\n",
       "    }\n",
       "\n",
       "    .dataframe tbody tr th {\n",
       "        vertical-align: top;\n",
       "    }\n",
       "\n",
       "    .dataframe thead th {\n",
       "        text-align: right;\n",
       "    }\n",
       "</style>\n",
       "<table border=\"1\" class=\"dataframe\">\n",
       "  <thead>\n",
       "    <tr style=\"text-align: right;\">\n",
       "      <th></th>\n",
       "      <th>rating</th>\n",
       "      <th>eu_sales</th>\n",
       "    </tr>\n",
       "  </thead>\n",
       "  <tbody>\n",
       "    <tr>\n",
       "      <td>0</td>\n",
       "      <td>E</td>\n",
       "      <td>458.82</td>\n",
       "    </tr>\n",
       "    <tr>\n",
       "      <td>3</td>\n",
       "      <td>M</td>\n",
       "      <td>398.52</td>\n",
       "    </tr>\n",
       "    <tr>\n",
       "      <td>5</td>\n",
       "      <td>T</td>\n",
       "      <td>234.62</td>\n",
       "    </tr>\n",
       "    <tr>\n",
       "      <td>1</td>\n",
       "      <td>E10+</td>\n",
       "      <td>172.04</td>\n",
       "    </tr>\n",
       "    <tr>\n",
       "      <td>4</td>\n",
       "      <td>RP</td>\n",
       "      <td>0.03</td>\n",
       "    </tr>\n",
       "    <tr>\n",
       "      <td>2</td>\n",
       "      <td>EC</td>\n",
       "      <td>0.00</td>\n",
       "    </tr>\n",
       "  </tbody>\n",
       "</table>\n",
       "</div>"
      ],
      "text/plain": [
       "  rating  eu_sales\n",
       "0      E    458.82\n",
       "3      M    398.52\n",
       "5      T    234.62\n",
       "1   E10+    172.04\n",
       "4     RP      0.03\n",
       "2     EC      0.00"
      ]
     },
     "execution_count": 163,
     "metadata": {},
     "output_type": "execute_result"
    },
    {
     "data": {
      "image/png": "[encoded data removed]",
      "text/plain": [
       "<Figure size 936x504 with 1 Axes>"
      ]
     },
     "metadata": {
      "needs_background": "light"
     },
     "output_type": "display_data"
    }
   ],
   "source": [
    "plt.figure(figsize=(13,7))\n",
    "eu_esrb_top = eu_user_data.groupby('rating')['eu_sales'].sum()\n",
    "eu_esrb_top = eu_esrb_top.reset_index(level='rating')\n",
    "eu_esrb_top.sort_values(by='eu_sales',ascending=False,inplace=True)\n",
    "sns.barplot(x='rating',y='eu_sales', data = eu_esrb_top).set_title('Влияние ESRB на продажи в Европе');\n",
    "eu_esrb_top"
   ]
  },
  {
   "cell_type": "code",
   "execution_count": 164,
   "metadata": {},
   "outputs": [
    {
     "data": {
      "text/html": [
       "<div>\n",
       "<style scoped>\n",
       "    .dataframe tbody tr th:only-of-type {\n",
       "        vertical-align: middle;\n",
       "    }\n",
       "\n",
       "    .dataframe tbody tr th {\n",
       "        vertical-align: top;\n",
       "    }\n",
       "\n",
       "    .dataframe thead th {\n",
       "        text-align: right;\n",
       "    }\n",
       "</style>\n",
       "<table border=\"1\" class=\"dataframe\">\n",
       "  <thead>\n",
       "    <tr style=\"text-align: right;\">\n",
       "      <th></th>\n",
       "      <th>rating</th>\n",
       "      <th>jp_sales</th>\n",
       "    </tr>\n",
       "  </thead>\n",
       "  <tbody>\n",
       "    <tr>\n",
       "      <td>0</td>\n",
       "      <td>E</td>\n",
       "      <td>120.10</td>\n",
       "    </tr>\n",
       "    <tr>\n",
       "      <td>5</td>\n",
       "      <td>T</td>\n",
       "      <td>83.84</td>\n",
       "    </tr>\n",
       "    <tr>\n",
       "      <td>3</td>\n",
       "      <td>M</td>\n",
       "      <td>43.79</td>\n",
       "    </tr>\n",
       "    <tr>\n",
       "      <td>1</td>\n",
       "      <td>E10+</td>\n",
       "      <td>36.27</td>\n",
       "    </tr>\n",
       "    <tr>\n",
       "      <td>2</td>\n",
       "      <td>EC</td>\n",
       "      <td>0.00</td>\n",
       "    </tr>\n",
       "    <tr>\n",
       "      <td>4</td>\n",
       "      <td>RP</td>\n",
       "      <td>0.00</td>\n",
       "    </tr>\n",
       "  </tbody>\n",
       "</table>\n",
       "</div>"
      ],
      "text/plain": [
       "  rating  jp_sales\n",
       "0      E    120.10\n",
       "5      T     83.84\n",
       "3      M     43.79\n",
       "1   E10+     36.27\n",
       "2     EC      0.00\n",
       "4     RP      0.00"
      ]
     },
     "execution_count": 164,
     "metadata": {},
     "output_type": "execute_result"
    },
    {
     "data": {
      "image/png": "[encoded data removed]",
      "text/plain": [
       "<Figure size 936x504 with 1 Axes>"
      ]
     },
     "metadata": {
      "needs_background": "light"
     },
     "output_type": "display_data"
    }
   ],
   "source": [
    "plt.figure(figsize=(13,7))\n",
    "jp_esrb_top = jp_user_data.groupby('rating')['jp_sales'].sum()\n",
    "jp_esrb_top = jp_esrb_top.reset_index(level='rating')\n",
    "jp_esrb_top.sort_values(by='jp_sales',ascending=False,inplace=True)\n",
    "sns.barplot(x='rating',y='jp_sales', data = jp_esrb_top).set_title('Влияние ESRB на продажи в Японии');\n",
    "jp_esrb_top"
   ]
  },
  {
   "cell_type": "markdown",
   "metadata": {},
   "source": [
    "Результаты по рейтингу в Северной Америке и Европе играют одинаковую роль, так наример рейтинг E ,который направлен на всех и охватывает саму широкую аудиторию, дальше идет M ,этим жанром интересуется пользователи по старше ,но ,скорей всего, большинство из пользователей за 17 лет в основном покупают игры именно данной категории,откуда такая популярность. T и E10+ имеют меньшую популярность так как находятся где-то по середине между категоризацией. EC очевидно мал , ибо дети сами не захотят купить игру , на которых нацеленно , а родители по-своему желанию вряд ли будут лишний раз их усыпать в играх ,откуда и минимальная популярность. В Японии все иначе , в плане рейтинга T и M ,так как ролевые игры в основном ретинга E или T , так как либо они пассивно красивые , либо бывают с долей крови итп"
   ]
  },
  {
   "cell_type": "markdown",
   "metadata": {},
   "source": [
    "<h2>Вывод</h2>\n",
    "<br>\n",
    "Основной вывод который можно сделать это то , что пользователь в Европе по своим интересам очень схож с пользователем из Северной Америки , за исключением небольшой разницы, а в Японии совершенно другой рынок. \n",
    "<br>\n",
    "<br>\n",
    "В целом приставки нового поколения и там , и там весьма преспективные , на фоне своих старых братьев , так как и там , и там они были лидерами продаж , но в Америке больше любили PS3 ,в то время как в Европе X360 , но оба региона больше любят PS4 ,чем XOne , 3 DS и там , и там показывает неплохие результаты , на которые также можно положиться . Ситуация в Японии своершенно иная там любят очень продукцию Nintendo ,поэтому DS и 3DS в топе , и PS берут часть рынка , но не основную , однако Xbox там не имеет популярности\n",
    "<br>\n",
    "<br>\n",
    "Жанры также что в Америке , что в Европе очень похожи , но с небольшой разницей , что в Америке Ролевые игры более популярны ,чем гонки , а в Европе наоборот. Также там и там очень популярны динамичные игры , а также стрелялки отсюда и популрнять рейтингов M и T ,которые включают в себя кровь и лексику , просто в разной мере. То есть эти регионы не ограничивают себя как-то фильтрами жестокости и по достижении возраста не ограничивают себя . В Японии  же ситуация другая , видимо у них культура более плохо настроена на насилие и поэтому самый популярный жанр ролевая игра , которая бывает в рейтингах Е и Т , так как там небольшие элементы крови и ничего более ,отсюда и популярность Е и Т , М видимо также немного популрян , на фоне суммы игр экшн , стрелялок и драк,которые имеют такие жанры"
   ]
  },
  {
   "cell_type": "markdown",
   "metadata": {},
   "source": [
    "<h1>Шаг 5: Проверка гипотез</h1>"
   ]
  },
  {
   "cell_type": "markdown",
   "metadata": {},
   "source": [
    "Гипотеза 1: Средние пользовательские рейтинги XOne и PC одинаковые\n",
    "<br>\n",
    "Для данной гипотезы нулевой будет H<sub>0</sub>: XOne['user_score'] == PC['user_score']\n",
    "<br>\n",
    "Альтернативной гипотезой будет H<sub>1</sub>: XOne['user_score'] != PC['user_score']\n",
    "<br>\n",
    "<br>\n",
    "Гипотеза 2: Средние пользовательские рейтинги жанров Action и Sports разные\n",
    "<br>\n",
    "Для данной гипотезы нулевой будет H<sub>0</sub>: data['genre']=='Action' == data['genre']=='Sports\n",
    "<br>\n",
    "Альтернативной гипотезой будет H<sub>1</sub>: data['genre']=='Action' != data['genre']=='Sports\n",
    "<br>\n",
    "<br>\n",
    "Нулевые гипотезы берем так ,чтобы они трактовали нам о том что их средние не различаются ,в то время как альтернативная гипотеза говорит об обратном\n",
    "<br>\n",
    "Пороговое значение alpha = 0.05 , является стандартным порогом для принятия/не принятия гипотезы "
   ]
  },
  {
   "cell_type": "code",
   "execution_count": 189,
   "metadata": {},
   "outputs": [],
   "source": [
    "#declaring alpha value\n",
    "alpha = 0.05\n",
    "#hypothesis 1\n",
    "xone = games_upto_date[(games_upto_date['platform'] == 'XOne') & (~games_upto_date['user_score'].isna())]\n",
    "pc = games_upto_date[(games_upto_date['platform'] == 'PC') & (~games_upto_date['user_score'].isna())]"
   ]
  },
  {
   "cell_type": "code",
   "execution_count": 190,
   "metadata": {},
   "outputs": [
    {
     "name": "stdout",
     "output_type": "stream",
     "text": [
      "p-значение: 0.014354742043413306\n",
      "Отвергаем нулевую гипотезу\n"
     ]
    }
   ],
   "source": [
    "#checkign hypothesis 1\n",
    "\n",
    "ttest_result_1 = st.ttest_ind(xone['user_score'],pc['user_score'])\n",
    "\n",
    "print('p-значение:',ttest_result_1.pvalue)\n",
    "\n",
    "if (ttest_result_1.pvalue<alpha):\n",
    "    print(\"Отвергаем нулевую гипотезу\")\n",
    "else:\n",
    "    print(\"Не получилось отвергнуть нулевую гипотезу\")"
   ]
  },
  {
   "cell_type": "code",
   "execution_count": 192,
   "metadata": {},
   "outputs": [],
   "source": [
    "#hypothesis 2\n",
    "action = games_upto_date[(games_upto_date['genre'] == 'Action') & (~games_upto_date['user_score'].isna())]\n",
    "sports = games_upto_date[(games_upto_date['genre'] == 'Sports') & (~games_upto_date['user_score'].isna())]"
   ]
  },
  {
   "cell_type": "code",
   "execution_count": 193,
   "metadata": {},
   "outputs": [
    {
     "name": "stdout",
     "output_type": "stream",
     "text": [
      "p-значение: 5.639545533657504e-12\n",
      "Отвергаем нулевую гипотезу\n"
     ]
    }
   ],
   "source": [
    "ttest_result_2 = st.ttest_ind(action['user_score'],sports['user_score'])\n",
    "\n",
    "print('p-значение:',ttest_result_2.pvalue)\n",
    "\n",
    "if (ttest_result_2.pvalue<alpha):\n",
    "    print(\"Отвергаем нулевую гипотезу\")\n",
    "else:\n",
    "    print(\"Не получилось отвергнуть нулевую гипотезу\")"
   ]
  },
  {
   "cell_type": "markdown",
   "metadata": {},
   "source": [
    "Проверили обе гипотезы , и в обоих случаях отклонили Нулевую гипотезу , но в первом случае это опровергло нашу гипотезу ,означая ,что средние пользовательские рейтинги у ,скорей всего, PC и XOne разные. Во втором же случае наоборот подтвердили нашу гипотезу и сделали это достаточно уверенно ,то есть средние пользовательские рейтинги у Action и Sport разные !"
   ]
  },
  {
   "cell_type": "markdown",
   "metadata": {},
   "source": [
    "<h1>Шаг 6: Общий вывод</h1>"
   ]
  },
  {
   "cell_type": "markdown",
   "metadata": {},
   "source": [
    "Цель задачи была для интернет-магазина \"Стримчик\" провести анализ и выявить закономерности ,которые определяют успешность игры\n",
    "<br>\n",
    "<br>\n",
    "<strong>Провели предобработку данных</strong> , по сути не так много там и сделали . Привели названия колонок в приемлимый вид, избавились от строк , которые нам никак не помогут при исследовании , и научились жить с остальными пропусками,ибо заполнения их - означает искажение данных. Привели столбцы к нужному виду ,избавились от дупликатов и теперь готовы идти уверенно в анализ данных !\n",
    "<br>\n",
    "<br>\n",
    "    Провели большую работу по анализу данных, сначала мы ведилил <strong>актуальные периоды</strong> , которые предположили на основе продаж по годам с 2000 года ,также соотнесли с актуальностью по годам платформ и в итоге получили ссвой предполагаемый актуальный период по которому делали дальнейший анализ данных. Изучили интересную тендецию по времени жизни платформ , в среднем платформа живет 10 лет, и как правило ,если она была успешной , то на смену ей приходит новое поколение данной платформы . Есть исключение PC ,оно живет можно сказать в игровой индустрии \"вечно\" ,ибо оно не привязано к бренуд или к определенному \"железу\"и по этому не может также устаревать как они. \n",
    "<br>\n",
    "Дальше анализировали продажи каждой <strong>консоли и выявляли самые актуальные</strong> из них. В итоге анализа выявили ,что самый большой потенциал на рынки Европы и Северной Америки есть у PS4 ,которая должна быть многообещающей. Также Там большой потенциал и у XOne , и чуть похуже у 3DS,но вполне неплохой, также не стоит забывать и их предшесвтенников PS3 и X360 ,которые до сих пор оказывают достаточное влияние на рынок связи с до сих пор достаточно объемным количеством пользователей.В Японии как мы выявили за весь анализ рынок достаточно сильно отличается и нужно понимать ,что одна и та же игра будет продаваться совершенно иначе там , например у них самые популярные платформы 3DS DS, также PS там пользуются какой-то популярностью ,но Xbox там совсем не котируется. <strong>Относительно жанров</strong> в Европе и Северной Америки также не видно сильной разницы , Action, Shooter, Sports, Misc  у обоих в топе по продажам , примерно с одинаковой долей рынка , но есть небольшая разница у них в 5 месте , у Америки это RPG , а у Европы Racing. В Японии все иначе , связано это ,скорей всего, с популярной платформой , там самыый популярный жанр это RPG ,который забирает там львиную долю рынка, также достаточно популярны Action, Misc , Sports, Platform . И жанры этих игр можно заметить также влияют на рейтинг игр ,и тем самым в Японии по сравнению с Европой и Америкой не приветсутвуется особо игры с более больше возрастным рейтингом и не так приветливы к жестокости итп.\n",
    "<br>\n",
    "Тем самым <strong>на основе данного анализа можем сделать вывод</strong> ,что для Европы и Северной Америке - Action, Shooter, Sports, Misc будут самыми успешными играми на платформах PS4 и XOne , а также их адаптация на PS3 и X360. Если же хотим взять игру более униврсальную для всех 3 регионов , то это будет RPG на 3DS или PS. Для Японии же в идеале проекты для 3DS  с жанром RPG, Action , Misc ,а также адаптацию под DS. Чтобы еще шире была аудитория ,то можно уделить внимание и рейтингу ,чтобы он был E ,так как каждй может играть в данное. Также заранее стоит взглянуть на рейтинг критиков ,что может сыграть роль к продажах игры, а если проект для Японии/ на 3DS ,то и на оценку пользователей ,но не слишком надеятся ,что сыграет какую-то колоссальную роль\n",
    "<br>\n",
    "<br>\n",
    "Также выдвинули 2 гипотезы на проверку\n",
    "<br>\n",
    "<br>\n",
    "Гипотеза 1: Средние пользовательские рейтинги XOne и PC одинаковые\n",
    "<br>\n",
    "Гипотеза 2: Средние пользовательские рейтинги жанров Action и Sports разные\n",
    "<br>\n",
    "<br>\n",
    "В обоих случаях выплнили T-тест для сравнения средних 2ух не связанных совокупностей,где получили p значение , на основе которого получили данные для того ,чтобы отвергнуть H<sub>0</sub> гипотезу, и придерживаться H<sub>1</sub>,только в первом случае это опроовергло изначальную гипотезу , а во втором случае подтвердило,при том во втором случае уверенность была намного вероятней отклонить нулевую гипотезу и не получить результат случайно , в то время как в первом случае все же получили относительно малый процент , чуть меньше 1.5%"
   ]
  }
 ],
 "metadata": {
  "kernelspec": {
   "display_name": "Python 3",
   "language": "python",
   "name": "python3"
  },
  "language_info": {
   "codemirror_mode": {
    "name": "ipython",
    "version": 3
   },
   "file_extension": ".py",
   "mimetype": "text/x-python",
   "name": "python",
   "nbconvert_exporter": "python",
   "pygments_lexer": "ipython3",
   "version": "3.7.7"
  }
 },
 "nbformat": 4,
 "nbformat_minor": 2
}
